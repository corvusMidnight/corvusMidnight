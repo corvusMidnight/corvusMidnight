{
  "nbformat": 4,
  "nbformat_minor": 0,
  "metadata": {
    "colab": {
      "name": "DeepNN.ipynb",
      "provenance": [],
      "collapsed_sections": [],
      "include_colab_link": true
    },
    "kernelspec": {
      "name": "python3",
      "display_name": "Python 3"
    },
    "language_info": {
      "name": "python"
    }
  },
  "cells": [
    {
      "cell_type": "markdown",
      "metadata": {
        "id": "view-in-github",
        "colab_type": "text"
      },
      "source": [
        "<a href=\"https://colab.research.google.com/github/corvusMidnight/corvusMidnight/blob/main/3.1%262_Shallow%26DeepNN.ipynb\" target=\"_parent\"><img src=\"https://colab.research.google.com/assets/colab-badge.svg\" alt=\"Open In Colab\"/></a>"
      ]
    },
    {
      "cell_type": "code",
      "execution_count": null,
      "metadata": {
        "id": "88hi7Gk9I5Y-"
      },
      "outputs": [],
      "source": [
        "#Importing packages\n",
        "\n",
        "import numpy as np\n",
        "import pandas as pd\n",
        "import matplotlib.pyplot as plt\n",
        "import seaborn as sns\n",
        "\n",
        "import tensorflow as tf\n",
        "import tensorflow.keras as keras\n",
        "from tensorflow.keras import layers\n",
        "\n",
        "from  sklearn.preprocessing import LabelEncoder\n",
        "from  sklearn.preprocessing import StandardScaler\n",
        "from sklearn.model_selection import train_test_split\n",
        "from tensorflow.keras.layers import Flatten, Dense, Dropout, BatchNormalization\n",
        "from sklearn.metrics import confusion_matrix\n",
        "from sklearn.metrics import accuracy_score\n",
        "from sklearn.metrics import precision_score\n",
        "from sklearn.metrics import recall_score\n",
        "from sklearn.metrics import accuracy_score\n",
        "from sklearn.metrics import mean_squared_error as mse\n",
        "from sklearn.metrics import mean_absolute_error as mae\n",
        "\n",
        "import numpy as np\n",
        "import tensorflow as tf\n",
        "from tensorflow import keras\n",
        "from tensorflow.keras.models import Sequential\n",
        "from tensorflow.keras.layers import Activation, Dense, BatchNormalization, Dropout\n",
        "from tensorflow.keras.optimizers import Adam, SGD \n",
        "from tensorflow.keras.metrics import categorical_crossentropy \n",
        "from tensorflow.keras.utils import to_categorical\n",
        "\n",
        "from sklearn.experimental import enable_iterative_imputer\n",
        "from sklearn.impute import IterativeImputer\n",
        "from sklearn.impute import KNNImputer\n",
        "\n",
        "#Scalers\n",
        "from sklearn.preprocessing import MinMaxScaler\n",
        "from sklearn.preprocessing import minmax_scale\n",
        "from sklearn.preprocessing import MaxAbsScaler\n",
        "from sklearn.preprocessing import StandardScaler\n",
        "from sklearn.preprocessing import RobustScaler\n",
        "from sklearn.preprocessing import Normalizer\n",
        "from sklearn.preprocessing import QuantileTransformer\n",
        "from sklearn.preprocessing import PowerTransformer\n",
        "\n",
        "#OneHotEncoder\n",
        "from sklearn.preprocessing import OneHotEncoder\n",
        "from sklearn.preprocessing import LabelEncoder\n",
        "\n",
        "#Sampling\n",
        "import imblearn\n",
        "from imblearn.combine import SMOTETomek \n",
        "from imblearn.over_sampling import SMOTE\n",
        "from imblearn.under_sampling import RandomUnderSampler\n",
        "from matplotlib import pyplot\n",
        "from numpy import where\n",
        "from imblearn.under_sampling import OneSidedSelection\n",
        "from imblearn.under_sampling import TomekLinks\n",
        "from imblearn.over_sampling import BorderlineSMOTE\n",
        "from imblearn.over_sampling import ADASYN"
      ]
    },
    {
      "cell_type": "markdown",
      "source": [
        "# Reading the Data Frame"
      ],
      "metadata": {
        "id": "ezaYCzK-avjn"
      }
    },
    {
      "cell_type": "code",
      "source": [
        "#Loading the dataframe\n",
        "url = 'https://raw.githubusercontent.com/corvusMidnight/ml_I-II/main/Datasets/final_dataframe_(df3).csv?token=GHSAT0AAAAAABNKWUMGZNANQDVHTFMNQOZYYPB34CA'\n",
        "df = pd.read_csv(url)"
      ],
      "metadata": {
        "id": "EMPU1YAKM5R4"
      },
      "execution_count": null,
      "outputs": []
    },
    {
      "cell_type": "code",
      "source": [
        "df.head()"
      ],
      "metadata": {
        "colab": {
          "base_uri": "https://localhost:8080/",
          "height": 206
        },
        "id": "AKsVACsrNTrm",
        "outputId": "f3d07f15-2e5c-470e-a6e1-03f863c2d339"
      },
      "execution_count": null,
      "outputs": [
        {
          "output_type": "execute_result",
          "data": {
            "text/html": [
              "\n",
              "  <div id=\"df-4a7ec82d-f025-41a8-9658-bd6a35a0884a\">\n",
              "    <div class=\"colab-df-container\">\n",
              "      <div>\n",
              "<style scoped>\n",
              "    .dataframe tbody tr th:only-of-type {\n",
              "        vertical-align: middle;\n",
              "    }\n",
              "\n",
              "    .dataframe tbody tr th {\n",
              "        vertical-align: top;\n",
              "    }\n",
              "\n",
              "    .dataframe thead th {\n",
              "        text-align: right;\n",
              "    }\n",
              "</style>\n",
              "<table border=\"1\" class=\"dataframe\">\n",
              "  <thead>\n",
              "    <tr style=\"text-align: right;\">\n",
              "      <th></th>\n",
              "      <th>Unnamed: 0</th>\n",
              "      <th>problem</th>\n",
              "      <th>personSearch</th>\n",
              "      <th>vehicleSearch</th>\n",
              "      <th>preRace</th>\n",
              "      <th>race</th>\n",
              "      <th>gender</th>\n",
              "      <th>lat</th>\n",
              "      <th>long</th>\n",
              "      <th>policePrecinct</th>\n",
              "      <th>neighborhood</th>\n",
              "    </tr>\n",
              "  </thead>\n",
              "  <tbody>\n",
              "    <tr>\n",
              "      <th>0</th>\n",
              "      <td>2</td>\n",
              "      <td>Traffic Law Enforcement (P)</td>\n",
              "      <td>1.0</td>\n",
              "      <td>1.0</td>\n",
              "      <td>Unknown</td>\n",
              "      <td>White</td>\n",
              "      <td>2.0</td>\n",
              "      <td>44.948350</td>\n",
              "      <td>-93.275380</td>\n",
              "      <td>5.0</td>\n",
              "      <td>Whittier</td>\n",
              "    </tr>\n",
              "    <tr>\n",
              "      <th>1</th>\n",
              "      <td>3</td>\n",
              "      <td>Suspicious Person (P)</td>\n",
              "      <td>1.0</td>\n",
              "      <td>1.0</td>\n",
              "      <td>Unknown</td>\n",
              "      <td>Non-white</td>\n",
              "      <td>1.0</td>\n",
              "      <td>44.948360</td>\n",
              "      <td>-93.281350</td>\n",
              "      <td>5.0</td>\n",
              "      <td>Whittier</td>\n",
              "    </tr>\n",
              "    <tr>\n",
              "      <th>2</th>\n",
              "      <td>4</td>\n",
              "      <td>Traffic Law Enforcement (P)</td>\n",
              "      <td>1.0</td>\n",
              "      <td>1.0</td>\n",
              "      <td>Unknown</td>\n",
              "      <td>White</td>\n",
              "      <td>2.0</td>\n",
              "      <td>44.979078</td>\n",
              "      <td>-93.262076</td>\n",
              "      <td>1.0</td>\n",
              "      <td>Downtown West</td>\n",
              "    </tr>\n",
              "    <tr>\n",
              "      <th>3</th>\n",
              "      <td>5</td>\n",
              "      <td>Traffic Law Enforcement (P)</td>\n",
              "      <td>1.0</td>\n",
              "      <td>1.0</td>\n",
              "      <td>Unknown</td>\n",
              "      <td>Non-white</td>\n",
              "      <td>1.0</td>\n",
              "      <td>44.980535</td>\n",
              "      <td>-93.263627</td>\n",
              "      <td>1.0</td>\n",
              "      <td>Downtown West</td>\n",
              "    </tr>\n",
              "    <tr>\n",
              "      <th>4</th>\n",
              "      <td>6</td>\n",
              "      <td>Suspicious Person (P)</td>\n",
              "      <td>1.0</td>\n",
              "      <td>1.0</td>\n",
              "      <td>Unknown</td>\n",
              "      <td>Non-white</td>\n",
              "      <td>1.0</td>\n",
              "      <td>44.980808</td>\n",
              "      <td>-93.273141</td>\n",
              "      <td>1.0</td>\n",
              "      <td>Downtown West</td>\n",
              "    </tr>\n",
              "  </tbody>\n",
              "</table>\n",
              "</div>\n",
              "      <button class=\"colab-df-convert\" onclick=\"convertToInteractive('df-4a7ec82d-f025-41a8-9658-bd6a35a0884a')\"\n",
              "              title=\"Convert this dataframe to an interactive table.\"\n",
              "              style=\"display:none;\">\n",
              "        \n",
              "  <svg xmlns=\"http://www.w3.org/2000/svg\" height=\"24px\"viewBox=\"0 0 24 24\"\n",
              "       width=\"24px\">\n",
              "    <path d=\"M0 0h24v24H0V0z\" fill=\"none\"/>\n",
              "    <path d=\"M18.56 5.44l.94 2.06.94-2.06 2.06-.94-2.06-.94-.94-2.06-.94 2.06-2.06.94zm-11 1L8.5 8.5l.94-2.06 2.06-.94-2.06-.94L8.5 2.5l-.94 2.06-2.06.94zm10 10l.94 2.06.94-2.06 2.06-.94-2.06-.94-.94-2.06-.94 2.06-2.06.94z\"/><path d=\"M17.41 7.96l-1.37-1.37c-.4-.4-.92-.59-1.43-.59-.52 0-1.04.2-1.43.59L10.3 9.45l-7.72 7.72c-.78.78-.78 2.05 0 2.83L4 21.41c.39.39.9.59 1.41.59.51 0 1.02-.2 1.41-.59l7.78-7.78 2.81-2.81c.8-.78.8-2.07 0-2.86zM5.41 20L4 18.59l7.72-7.72 1.47 1.35L5.41 20z\"/>\n",
              "  </svg>\n",
              "      </button>\n",
              "      \n",
              "  <style>\n",
              "    .colab-df-container {\n",
              "      display:flex;\n",
              "      flex-wrap:wrap;\n",
              "      gap: 12px;\n",
              "    }\n",
              "\n",
              "    .colab-df-convert {\n",
              "      background-color: #E8F0FE;\n",
              "      border: none;\n",
              "      border-radius: 50%;\n",
              "      cursor: pointer;\n",
              "      display: none;\n",
              "      fill: #1967D2;\n",
              "      height: 32px;\n",
              "      padding: 0 0 0 0;\n",
              "      width: 32px;\n",
              "    }\n",
              "\n",
              "    .colab-df-convert:hover {\n",
              "      background-color: #E2EBFA;\n",
              "      box-shadow: 0px 1px 2px rgba(60, 64, 67, 0.3), 0px 1px 3px 1px rgba(60, 64, 67, 0.15);\n",
              "      fill: #174EA6;\n",
              "    }\n",
              "\n",
              "    [theme=dark] .colab-df-convert {\n",
              "      background-color: #3B4455;\n",
              "      fill: #D2E3FC;\n",
              "    }\n",
              "\n",
              "    [theme=dark] .colab-df-convert:hover {\n",
              "      background-color: #434B5C;\n",
              "      box-shadow: 0px 1px 3px 1px rgba(0, 0, 0, 0.15);\n",
              "      filter: drop-shadow(0px 1px 2px rgba(0, 0, 0, 0.3));\n",
              "      fill: #FFFFFF;\n",
              "    }\n",
              "  </style>\n",
              "\n",
              "      <script>\n",
              "        const buttonEl =\n",
              "          document.querySelector('#df-4a7ec82d-f025-41a8-9658-bd6a35a0884a button.colab-df-convert');\n",
              "        buttonEl.style.display =\n",
              "          google.colab.kernel.accessAllowed ? 'block' : 'none';\n",
              "\n",
              "        async function convertToInteractive(key) {\n",
              "          const element = document.querySelector('#df-4a7ec82d-f025-41a8-9658-bd6a35a0884a');\n",
              "          const dataTable =\n",
              "            await google.colab.kernel.invokeFunction('convertToInteractive',\n",
              "                                                     [key], {});\n",
              "          if (!dataTable) return;\n",
              "\n",
              "          const docLinkHtml = 'Like what you see? Visit the ' +\n",
              "            '<a target=\"_blank\" href=https://colab.research.google.com/notebooks/data_table.ipynb>data table notebook</a>'\n",
              "            + ' to learn more about interactive tables.';\n",
              "          element.innerHTML = '';\n",
              "          dataTable['output_type'] = 'display_data';\n",
              "          await google.colab.output.renderOutput(dataTable, element);\n",
              "          const docLink = document.createElement('div');\n",
              "          docLink.innerHTML = docLinkHtml;\n",
              "          element.appendChild(docLink);\n",
              "        }\n",
              "      </script>\n",
              "    </div>\n",
              "  </div>\n",
              "  "
            ],
            "text/plain": [
              "   Unnamed: 0                      problem  ...  policePrecinct   neighborhood\n",
              "0           2  Traffic Law Enforcement (P)  ...             5.0       Whittier\n",
              "1           3        Suspicious Person (P)  ...             5.0       Whittier\n",
              "2           4  Traffic Law Enforcement (P)  ...             1.0  Downtown West\n",
              "3           5  Traffic Law Enforcement (P)  ...             1.0  Downtown West\n",
              "4           6        Suspicious Person (P)  ...             1.0  Downtown West\n",
              "\n",
              "[5 rows x 11 columns]"
            ]
          },
          "metadata": {},
          "execution_count": 58
        }
      ]
    },
    {
      "cell_type": "code",
      "source": [
        "#NA values\n",
        "\n",
        "df.isna().sum()"
      ],
      "metadata": {
        "colab": {
          "base_uri": "https://localhost:8080/"
        },
        "id": "S-uMRJsiNked",
        "outputId": "b2db4672-7717-41cf-e886-595eba0034d3"
      },
      "execution_count": null,
      "outputs": [
        {
          "output_type": "execute_result",
          "data": {
            "text/plain": [
              "Unnamed: 0            0\n",
              "problem               0\n",
              "personSearch      10259\n",
              "vehicleSearch     10259\n",
              "preRace           10259\n",
              "race              10259\n",
              "gender            10304\n",
              "lat                   0\n",
              "long                  0\n",
              "policePrecinct      157\n",
              "neighborhood        157\n",
              "dtype: int64"
            ]
          },
          "metadata": {},
          "execution_count": 59
        }
      ]
    },
    {
      "cell_type": "code",
      "source": [
        "#Converting int64 and float64 to 32\n",
        "df = df.astype({col: 'int32' for col in df.select_dtypes('int64').columns})\n",
        "df = df.astype({col: 'float32' for col in df.select_dtypes('float64').columns})\n"
      ],
      "metadata": {
        "id": "3Mkd2god5vAV"
      },
      "execution_count": null,
      "outputs": []
    },
    {
      "cell_type": "code",
      "source": [
        "#Note: I have been struggling to run deep learning models. In the end, the best solution was to deal with the variour issues in a simpler way.\n",
        "#Rather than imputing the 157 values that I had imputed in the linear models (the other 10259  values were dropped also in the other notebook as they all occurred for the same\n",
        "#10259 rows).\n",
        "\n",
        "df= df.dropna()\n",
        "df=df.drop(\"Unnamed: 0\",axis=1)"
      ],
      "metadata": {
        "id": "Wk4jrRdpNuKq"
      },
      "execution_count": null,
      "outputs": []
    },
    {
      "cell_type": "code",
      "source": [
        "df.race.value_counts().plot.bar()"
      ],
      "metadata": {
        "colab": {
          "base_uri": "https://localhost:8080/",
          "height": 323
        },
        "id": "m4B3QbSDOAVM",
        "outputId": "1b50cd1c-06f9-49b6-9f6b-b61931c6ac00"
      },
      "execution_count": null,
      "outputs": [
        {
          "output_type": "execute_result",
          "data": {
            "text/plain": [
              "<matplotlib.axes._subplots.AxesSubplot at 0x7fd586ce9850>"
            ]
          },
          "metadata": {},
          "execution_count": 62
        },
        {
          "output_type": "display_data",
          "data": {
            "image/png": "[encoded data removed]",
            "text/plain": [
              "<Figure size 432x288 with 1 Axes>"
            ]
          },
          "metadata": {
            "needs_background": "light"
          }
        }
      ]
    },
    {
      "cell_type": "code",
      "source": [
        "#A similar approach was taken for the encoding issue. All the non-numerical categorical variables were simply label encoded (including the outèut column, since not doing so causes issues later\n",
        "#in the project when running the model)\n",
        "\n",
        "le = LabelEncoder()\n",
        "\n",
        "df[\"problem\"]=le.fit_transform(df[\"problem\"])\n",
        "df[\"personSearch\"]=le.fit_transform(df[\"personSearch\"])\n",
        "df[\"vehicleSearch\"]=le.fit_transform(df[\"vehicleSearch\"])\n",
        "df[\"preRace\"]=le.fit_transform(df[\"preRace\"])\n",
        "df[\"neighborhood\"]=le.fit_transform(df[\"neighborhood\"])\n",
        "df[\"race\"]=le.fit_transform(df[\"race\"])\n",
        "\n",
        "df"
      ],
      "metadata": {
        "colab": {
          "base_uri": "https://localhost:8080/",
          "height": 423
        },
        "id": "FckjvmJOOC6j",
        "outputId": "3ea05b0a-0ea7-4b39-928b-7c0af08d2c6e"
      },
      "execution_count": null,
      "outputs": [
        {
          "output_type": "execute_result",
          "data": {
            "text/html": [
              "\n",
              "  <div id=\"df-c4bd2dd4-3d09-4ef9-a096-22c8668966d4\">\n",
              "    <div class=\"colab-df-container\">\n",
              "      <div>\n",
              "<style scoped>\n",
              "    .dataframe tbody tr th:only-of-type {\n",
              "        vertical-align: middle;\n",
              "    }\n",
              "\n",
              "    .dataframe tbody tr th {\n",
              "        vertical-align: top;\n",
              "    }\n",
              "\n",
              "    .dataframe thead th {\n",
              "        text-align: right;\n",
              "    }\n",
              "</style>\n",
              "<table border=\"1\" class=\"dataframe\">\n",
              "  <thead>\n",
              "    <tr style=\"text-align: right;\">\n",
              "      <th></th>\n",
              "      <th>problem</th>\n",
              "      <th>personSearch</th>\n",
              "      <th>vehicleSearch</th>\n",
              "      <th>preRace</th>\n",
              "      <th>race</th>\n",
              "      <th>gender</th>\n",
              "      <th>lat</th>\n",
              "      <th>long</th>\n",
              "      <th>policePrecinct</th>\n",
              "      <th>neighborhood</th>\n",
              "    </tr>\n",
              "  </thead>\n",
              "  <tbody>\n",
              "    <tr>\n",
              "      <th>0</th>\n",
              "      <td>4</td>\n",
              "      <td>0</td>\n",
              "      <td>0</td>\n",
              "      <td>1</td>\n",
              "      <td>1</td>\n",
              "      <td>2.0</td>\n",
              "      <td>44.948349</td>\n",
              "      <td>-93.275383</td>\n",
              "      <td>5.0</td>\n",
              "      <td>83</td>\n",
              "    </tr>\n",
              "    <tr>\n",
              "      <th>1</th>\n",
              "      <td>2</td>\n",
              "      <td>0</td>\n",
              "      <td>0</td>\n",
              "      <td>1</td>\n",
              "      <td>0</td>\n",
              "      <td>1.0</td>\n",
              "      <td>44.948360</td>\n",
              "      <td>-93.281349</td>\n",
              "      <td>5.0</td>\n",
              "      <td>83</td>\n",
              "    </tr>\n",
              "    <tr>\n",
              "      <th>2</th>\n",
              "      <td>4</td>\n",
              "      <td>0</td>\n",
              "      <td>0</td>\n",
              "      <td>1</td>\n",
              "      <td>1</td>\n",
              "      <td>2.0</td>\n",
              "      <td>44.979076</td>\n",
              "      <td>-93.262077</td>\n",
              "      <td>1.0</td>\n",
              "      <td>19</td>\n",
              "    </tr>\n",
              "    <tr>\n",
              "      <th>3</th>\n",
              "      <td>4</td>\n",
              "      <td>0</td>\n",
              "      <td>0</td>\n",
              "      <td>1</td>\n",
              "      <td>0</td>\n",
              "      <td>1.0</td>\n",
              "      <td>44.980534</td>\n",
              "      <td>-93.263626</td>\n",
              "      <td>1.0</td>\n",
              "      <td>19</td>\n",
              "    </tr>\n",
              "    <tr>\n",
              "      <th>4</th>\n",
              "      <td>2</td>\n",
              "      <td>0</td>\n",
              "      <td>0</td>\n",
              "      <td>1</td>\n",
              "      <td>0</td>\n",
              "      <td>1.0</td>\n",
              "      <td>44.980808</td>\n",
              "      <td>-93.273140</td>\n",
              "      <td>1.0</td>\n",
              "      <td>19</td>\n",
              "    </tr>\n",
              "    <tr>\n",
              "      <th>...</th>\n",
              "      <td>...</td>\n",
              "      <td>...</td>\n",
              "      <td>...</td>\n",
              "      <td>...</td>\n",
              "      <td>...</td>\n",
              "      <td>...</td>\n",
              "      <td>...</td>\n",
              "      <td>...</td>\n",
              "      <td>...</td>\n",
              "      <td>...</td>\n",
              "    </tr>\n",
              "    <tr>\n",
              "      <th>82289</th>\n",
              "      <td>2</td>\n",
              "      <td>0</td>\n",
              "      <td>0</td>\n",
              "      <td>1</td>\n",
              "      <td>1</td>\n",
              "      <td>1.0</td>\n",
              "      <td>44.981819</td>\n",
              "      <td>-93.268089</td>\n",
              "      <td>1.0</td>\n",
              "      <td>19</td>\n",
              "    </tr>\n",
              "    <tr>\n",
              "      <th>82290</th>\n",
              "      <td>2</td>\n",
              "      <td>0</td>\n",
              "      <td>0</td>\n",
              "      <td>2</td>\n",
              "      <td>1</td>\n",
              "      <td>1.0</td>\n",
              "      <td>44.968899</td>\n",
              "      <td>-93.250320</td>\n",
              "      <td>1.0</td>\n",
              "      <td>10</td>\n",
              "    </tr>\n",
              "    <tr>\n",
              "      <th>82292</th>\n",
              "      <td>4</td>\n",
              "      <td>0</td>\n",
              "      <td>0</td>\n",
              "      <td>1</td>\n",
              "      <td>0</td>\n",
              "      <td>1.0</td>\n",
              "      <td>44.974472</td>\n",
              "      <td>-93.251152</td>\n",
              "      <td>1.0</td>\n",
              "      <td>18</td>\n",
              "    </tr>\n",
              "    <tr>\n",
              "      <th>82293</th>\n",
              "      <td>2</td>\n",
              "      <td>0</td>\n",
              "      <td>0</td>\n",
              "      <td>0</td>\n",
              "      <td>1</td>\n",
              "      <td>1.0</td>\n",
              "      <td>44.975033</td>\n",
              "      <td>-93.279724</td>\n",
              "      <td>1.0</td>\n",
              "      <td>19</td>\n",
              "    </tr>\n",
              "    <tr>\n",
              "      <th>82294</th>\n",
              "      <td>2</td>\n",
              "      <td>0</td>\n",
              "      <td>0</td>\n",
              "      <td>0</td>\n",
              "      <td>0</td>\n",
              "      <td>2.0</td>\n",
              "      <td>44.959122</td>\n",
              "      <td>-93.294090</td>\n",
              "      <td>5.0</td>\n",
              "      <td>47</td>\n",
              "    </tr>\n",
              "  </tbody>\n",
              "</table>\n",
              "<p>71841 rows × 10 columns</p>\n",
              "</div>\n",
              "      <button class=\"colab-df-convert\" onclick=\"convertToInteractive('df-c4bd2dd4-3d09-4ef9-a096-22c8668966d4')\"\n",
              "              title=\"Convert this dataframe to an interactive table.\"\n",
              "              style=\"display:none;\">\n",
              "        \n",
              "  <svg xmlns=\"http://www.w3.org/2000/svg\" height=\"24px\"viewBox=\"0 0 24 24\"\n",
              "       width=\"24px\">\n",
              "    <path d=\"M0 0h24v24H0V0z\" fill=\"none\"/>\n",
              "    <path d=\"M18.56 5.44l.94 2.06.94-2.06 2.06-.94-2.06-.94-.94-2.06-.94 2.06-2.06.94zm-11 1L8.5 8.5l.94-2.06 2.06-.94-2.06-.94L8.5 2.5l-.94 2.06-2.06.94zm10 10l.94 2.06.94-2.06 2.06-.94-2.06-.94-.94-2.06-.94 2.06-2.06.94z\"/><path d=\"M17.41 7.96l-1.37-1.37c-.4-.4-.92-.59-1.43-.59-.52 0-1.04.2-1.43.59L10.3 9.45l-7.72 7.72c-.78.78-.78 2.05 0 2.83L4 21.41c.39.39.9.59 1.41.59.51 0 1.02-.2 1.41-.59l7.78-7.78 2.81-2.81c.8-.78.8-2.07 0-2.86zM5.41 20L4 18.59l7.72-7.72 1.47 1.35L5.41 20z\"/>\n",
              "  </svg>\n",
              "      </button>\n",
              "      \n",
              "  <style>\n",
              "    .colab-df-container {\n",
              "      display:flex;\n",
              "      flex-wrap:wrap;\n",
              "      gap: 12px;\n",
              "    }\n",
              "\n",
              "    .colab-df-convert {\n",
              "      background-color: #E8F0FE;\n",
              "      border: none;\n",
              "      border-radius: 50%;\n",
              "      cursor: pointer;\n",
              "      display: none;\n",
              "      fill: #1967D2;\n",
              "      height: 32px;\n",
              "      padding: 0 0 0 0;\n",
              "      width: 32px;\n",
              "    }\n",
              "\n",
              "    .colab-df-convert:hover {\n",
              "      background-color: #E2EBFA;\n",
              "      box-shadow: 0px 1px 2px rgba(60, 64, 67, 0.3), 0px 1px 3px 1px rgba(60, 64, 67, 0.15);\n",
              "      fill: #174EA6;\n",
              "    }\n",
              "\n",
              "    [theme=dark] .colab-df-convert {\n",
              "      background-color: #3B4455;\n",
              "      fill: #D2E3FC;\n",
              "    }\n",
              "\n",
              "    [theme=dark] .colab-df-convert:hover {\n",
              "      background-color: #434B5C;\n",
              "      box-shadow: 0px 1px 3px 1px rgba(0, 0, 0, 0.15);\n",
              "      filter: drop-shadow(0px 1px 2px rgba(0, 0, 0, 0.3));\n",
              "      fill: #FFFFFF;\n",
              "    }\n",
              "  </style>\n",
              "\n",
              "      <script>\n",
              "        const buttonEl =\n",
              "          document.querySelector('#df-c4bd2dd4-3d09-4ef9-a096-22c8668966d4 button.colab-df-convert');\n",
              "        buttonEl.style.display =\n",
              "          google.colab.kernel.accessAllowed ? 'block' : 'none';\n",
              "\n",
              "        async function convertToInteractive(key) {\n",
              "          const element = document.querySelector('#df-c4bd2dd4-3d09-4ef9-a096-22c8668966d4');\n",
              "          const dataTable =\n",
              "            await google.colab.kernel.invokeFunction('convertToInteractive',\n",
              "                                                     [key], {});\n",
              "          if (!dataTable) return;\n",
              "\n",
              "          const docLinkHtml = 'Like what you see? Visit the ' +\n",
              "            '<a target=\"_blank\" href=https://colab.research.google.com/notebooks/data_table.ipynb>data table notebook</a>'\n",
              "            + ' to learn more about interactive tables.';\n",
              "          element.innerHTML = '';\n",
              "          dataTable['output_type'] = 'display_data';\n",
              "          await google.colab.output.renderOutput(dataTable, element);\n",
              "          const docLink = document.createElement('div');\n",
              "          docLink.innerHTML = docLinkHtml;\n",
              "          element.appendChild(docLink);\n",
              "        }\n",
              "      </script>\n",
              "    </div>\n",
              "  </div>\n",
              "  "
            ],
            "text/plain": [
              "       problem  personSearch  ...  policePrecinct  neighborhood\n",
              "0            4             0  ...             5.0            83\n",
              "1            2             0  ...             5.0            83\n",
              "2            4             0  ...             1.0            19\n",
              "3            4             0  ...             1.0            19\n",
              "4            2             0  ...             1.0            19\n",
              "...        ...           ...  ...             ...           ...\n",
              "82289        2             0  ...             1.0            19\n",
              "82290        2             0  ...             1.0            10\n",
              "82292        4             0  ...             1.0            18\n",
              "82293        2             0  ...             1.0            19\n",
              "82294        2             0  ...             5.0            47\n",
              "\n",
              "[71841 rows x 10 columns]"
            ]
          },
          "metadata": {},
          "execution_count": 63
        }
      ]
    },
    {
      "cell_type": "code",
      "source": [
        "#Sampling: here, I follow Keras instructions on how to deal with imbalanced data sets. I did not manage to make their solutions (the one with defining the functions and selecting\n",
        "#me metric) work, as the loop provided took far too long to run. I followed the second technique, which conists of selecting random samples from the minority class and \n",
        "#adding them to match the lenght of the majority one. Rather than using their solution, which uses np.arrage (with which I am not too familiar), I have selected the .sample function\n",
        "#which does the same thing\n",
        "\n",
        "count_class_0, count_class_1 = df.race.value_counts()\n",
        "df_class_0 = df[df['race'] == 0]\n",
        "df_class_1 = df[df['race'] == 1]\n",
        "\n",
        "df_class_1_over = df_class_1.sample(count_class_0, replace=True)\n",
        "df_test_over = pd.concat([df_class_0, df_class_1_over], axis=0)\n",
        "\n",
        "print('Random over-sampling:')\n",
        "print(df_test_over.race.value_counts())\n",
        "\n",
        "df_test_over.race.value_counts().plot(kind='bar', title='Count (target)') #How does the value_counts of the output appear? If the code runned correctly, we should now have\n",
        "#an equal number of samples"
      ],
      "metadata": {
        "colab": {
          "base_uri": "https://localhost:8080/",
          "height": 347
        },
        "id": "Q8BL1q5TQ6hl",
        "outputId": "8af55866-18d4-4498-fd99-f506fc8c3588"
      },
      "execution_count": null,
      "outputs": [
        {
          "output_type": "stream",
          "name": "stdout",
          "text": [
            "Random over-sampling:\n",
            "1    49382\n",
            "0    49382\n",
            "Name: race, dtype: int64\n"
          ]
        },
        {
          "output_type": "display_data",
          "data": {
            "image/png": "[encoded data removed]",
            "text/plain": [
              "<Figure size 432x288 with 1 Axes>"
            ]
          },
          "metadata": {
            "needs_background": "light"
          }
        }
      ]
    },
    {
      "cell_type": "code",
      "source": [
        "#Input\n",
        "X = df_test_over[['problem', 'vehicleSearch', 'preRace', 'personSearch', 'gender', 'policePrecinct', 'lat', 'long', 'neighborhood']]\n",
        "\n",
        "#Output\n",
        "y = df_test_over['race']\n",
        "\n"
      ],
      "metadata": {
        "id": "QbGQZ3F8QmiP"
      },
      "execution_count": null,
      "outputs": []
    },
    {
      "cell_type": "code",
      "source": [
        "sc = StandardScaler()\n",
        "\n",
        "#It is strongly suggested to scale the whole dataframe. Althought it does not make sense to scale binary or categoricals, as they have no inherent numeric value, I have found\n",
        "#that scaling X altogether betters the runtime without impacting the performance.\n",
        "\n",
        "X_scaled=sc.fit_transform(X)"
      ],
      "metadata": {
        "id": "1pMoipkYRiZJ"
      },
      "execution_count": null,
      "outputs": []
    },
    {
      "cell_type": "code",
      "source": [
        "X_train, X_test, y_train, y_test = train_test_split (X_scaled, y, test_size=0.4, random_state=42)\n",
        "X_valid, X_test, y_valid, y_test = train_test_split (X_test, y_test, test_size=0.5, random_state=42)\n",
        "\n",
        "print(\"X_train = \",X_train.shape )\n",
        "print(\"y_train = \",y_train.shape )\n",
        "\n",
        "\n",
        "print(\"X_test = \",X_test.shape )\n",
        "print(\"y_test = \",y_test.shape )\n",
        "\n",
        "\n",
        "print(\"X_valid = \",X_valid.shape )\n",
        "print(\"y_valid = \",y_valid.shape )"
      ],
      "metadata": {
        "colab": {
          "base_uri": "https://localhost:8080/"
        },
        "id": "w4SPAyVrQ-9S",
        "outputId": "c8b45150-39d2-4750-8868-9eef8f21914b"
      },
      "execution_count": null,
      "outputs": [
        {
          "output_type": "stream",
          "name": "stdout",
          "text": [
            "X_train =  (59258, 9)\n",
            "y_train =  (59258,)\n",
            "X_test =  (19753, 9)\n",
            "y_test =  (19753,)\n",
            "X_valid =  (19753, 9)\n",
            "y_valid =  (19753,)\n"
          ]
        }
      ]
    },
    {
      "cell_type": "markdown",
      "source": [
        "#Model(s) 1: Shallow Neural Networks\n",
        "\n",
        "> Indented block\n",
        "\n"
      ],
      "metadata": {
        "id": "b5Hdq4WIrVxr"
      }
    },
    {
      "cell_type": "code",
      "source": [
        "np.random.seed(1234)\n",
        "tf.random.set_seed(1234)\n",
        "\n",
        "#As a first model, I have selected a simple Sequential() model, like the one that was used in class. Note that some things have been changed:\n",
        "\n",
        "\n",
        "early_stopping = tf.keras.callbacks.EarlyStopping(patience=5, restore_best_weights=True)\n",
        "\n",
        "h1_logistic = tf.keras.Sequential()\n",
        "h1_logistic.add(layers.Input(shape=(9,))) #The Input shape is 9, to match the X_train/test/val size.\n",
        "\n",
        "h1_logistic.add(layers.Dense(1, #Because the model will produce a 0 or a 1, the last layer is just one neuron\n",
        "                             name='softmax', activation='softmax')) \n",
        "#The dense layer uses softmax. In retrospect, starting from Softmax did not make much sense, as it caluclates its probabilities in order for them to sum up to one.\n",
        "#In the case of a multiclass problem, this is useful, as the decrease in one or more of the classes causes an increase in probability of one of the others. For binaries,\n",
        "#sigmoid grants an high probability for one of the two classes, both, or for none of them.\n",
        "\n",
        "#Because the model will \n",
        "\n",
        "optimizer = tf.keras.optimizers.SGD(lr=0.01) #As a starting optmizer, I have selected SGD. The fact that the algorithm works to identify the weights that help minimize the loss\n",
        "#function, made me assume that it would perform best with an imbalanced dataset\n",
        "\n",
        "h1_logistic.compile(loss='binary_crossentropy',  #here, I have selected the binary crossentropy score, that is optimized for binary\n",
        "                    #classification tasks\n",
        "                            optimizer=optimizer, metrics=[\"acc\"])\n",
        "\n",
        "#Training the model\n",
        "h1_logistic.fit(x=X_train, y=y_train, epochs=200, \n",
        "                        validation_data=(X_valid, y_valid),\n",
        "                        callbacks=[early_stopping])\n"
      ],
      "metadata": {
        "id": "FEwp9GeaSHnL",
        "colab": {
          "base_uri": "https://localhost:8080/"
        },
        "outputId": "e6c6ba0b-f8a9-4eeb-c8d7-93fac9fc0380"
      },
      "execution_count": null,
      "outputs": [
        {
          "output_type": "stream",
          "name": "stderr",
          "text": [
            "/usr/local/lib/python3.7/dist-packages/keras/optimizer_v2/gradient_descent.py:102: UserWarning: The `lr` argument is deprecated, use `learning_rate` instead.\n",
            "  super(SGD, self).__init__(name, **kwargs)\n"
          ]
        },
        {
          "output_type": "stream",
          "name": "stdout",
          "text": [
            "Epoch 1/200\n",
            "1852/1852 [==============================] - 4s 2ms/step - loss: 0.5140 - acc: 0.5006 - val_loss: 0.4619 - val_acc: 0.4995\n",
            "Epoch 2/200\n",
            "1852/1852 [==============================] - 3s 2ms/step - loss: 0.4676 - acc: 0.5006 - val_loss: 0.4553 - val_acc: 0.4995\n",
            "Epoch 3/200\n",
            "1852/1852 [==============================] - 3s 2ms/step - loss: 0.4651 - acc: 0.5006 - val_loss: 0.4540 - val_acc: 0.4995\n",
            "Epoch 4/200\n",
            "1852/1852 [==============================] - 3s 2ms/step - loss: 0.4646 - acc: 0.5006 - val_loss: 0.4536 - val_acc: 0.4995\n",
            "Epoch 5/200\n",
            "1852/1852 [==============================] - 3s 2ms/step - loss: 0.4644 - acc: 0.5006 - val_loss: 0.4534 - val_acc: 0.4995\n",
            "Epoch 6/200\n",
            "1852/1852 [==============================] - 3s 2ms/step - loss: 0.4644 - acc: 0.5006 - val_loss: 0.4534 - val_acc: 0.4995\n",
            "Epoch 7/200\n",
            "1852/1852 [==============================] - 3s 2ms/step - loss: 0.4643 - acc: 0.5006 - val_loss: 0.4533 - val_acc: 0.4995\n",
            "Epoch 8/200\n",
            "1852/1852 [==============================] - 3s 2ms/step - loss: 0.4644 - acc: 0.5006 - val_loss: 0.4532 - val_acc: 0.4995\n",
            "Epoch 9/200\n",
            "1852/1852 [==============================] - 3s 2ms/step - loss: 0.4643 - acc: 0.5006 - val_loss: 0.4532 - val_acc: 0.4995\n",
            "Epoch 10/200\n",
            "1852/1852 [==============================] - 3s 2ms/step - loss: 0.4643 - acc: 0.5006 - val_loss: 0.4532 - val_acc: 0.4995\n",
            "Epoch 11/200\n",
            "1852/1852 [==============================] - 3s 2ms/step - loss: 0.4643 - acc: 0.5006 - val_loss: 0.4532 - val_acc: 0.4995\n",
            "Epoch 12/200\n",
            "1852/1852 [==============================] - 3s 2ms/step - loss: 0.4643 - acc: 0.5006 - val_loss: 0.4531 - val_acc: 0.4995\n",
            "Epoch 13/200\n",
            "1852/1852 [==============================] - 3s 2ms/step - loss: 0.4643 - acc: 0.5006 - val_loss: 0.4534 - val_acc: 0.4995\n",
            "Epoch 14/200\n",
            "1852/1852 [==============================] - 3s 2ms/step - loss: 0.4643 - acc: 0.5006 - val_loss: 0.4531 - val_acc: 0.4995\n",
            "Epoch 15/200\n",
            "1852/1852 [==============================] - 3s 2ms/step - loss: 0.4643 - acc: 0.5006 - val_loss: 0.4532 - val_acc: 0.4995\n",
            "Epoch 16/200\n",
            "1852/1852 [==============================] - 3s 2ms/step - loss: 0.4644 - acc: 0.5006 - val_loss: 0.4531 - val_acc: 0.4995\n",
            "Epoch 17/200\n",
            "1852/1852 [==============================] - 3s 2ms/step - loss: 0.4643 - acc: 0.5006 - val_loss: 0.4532 - val_acc: 0.4995\n",
            "Epoch 18/200\n",
            "1852/1852 [==============================] - 3s 2ms/step - loss: 0.4643 - acc: 0.5006 - val_loss: 0.4532 - val_acc: 0.4995\n",
            "Epoch 19/200\n",
            "1852/1852 [==============================] - 3s 2ms/step - loss: 0.4643 - acc: 0.5006 - val_loss: 0.4531 - val_acc: 0.4995\n",
            "Epoch 20/200\n",
            "1852/1852 [==============================] - 3s 2ms/step - loss: 0.4643 - acc: 0.5006 - val_loss: 0.4532 - val_acc: 0.4995\n",
            "Epoch 21/200\n",
            "1852/1852 [==============================] - 3s 2ms/step - loss: 0.4643 - acc: 0.5006 - val_loss: 0.4532 - val_acc: 0.4995\n",
            "Epoch 22/200\n",
            "1852/1852 [==============================] - 3s 2ms/step - loss: 0.4643 - acc: 0.5006 - val_loss: 0.4531 - val_acc: 0.4995\n",
            "Epoch 23/200\n",
            "1852/1852 [==============================] - 3s 2ms/step - loss: 0.4644 - acc: 0.5006 - val_loss: 0.4532 - val_acc: 0.4995\n",
            "Epoch 24/200\n",
            "1852/1852 [==============================] - 3s 2ms/step - loss: 0.4643 - acc: 0.5006 - val_loss: 0.4532 - val_acc: 0.4995\n",
            "Epoch 25/200\n",
            "1852/1852 [==============================] - 3s 2ms/step - loss: 0.4643 - acc: 0.5006 - val_loss: 0.4532 - val_acc: 0.4995\n",
            "Epoch 26/200\n",
            "1852/1852 [==============================] - 4s 2ms/step - loss: 0.4643 - acc: 0.5006 - val_loss: 0.4532 - val_acc: 0.4995\n",
            "Epoch 27/200\n",
            "1852/1852 [==============================] - 4s 2ms/step - loss: 0.4643 - acc: 0.5006 - val_loss: 0.4533 - val_acc: 0.4995\n"
          ]
        },
        {
          "output_type": "execute_result",
          "data": {
            "text/plain": [
              "<keras.callbacks.History at 0x7fd586c0b790>"
            ]
          },
          "metadata": {},
          "execution_count": 68
        }
      ]
    },
    {
      "cell_type": "code",
      "source": [
        "#As can be seen above, there seems to be not much different across epochs between training and validation in both loss and accuracy. Both metrics remain\n",
        "#too high and low respectively, and differ of a few decimal points. This may mean that the model is underfitting, as is struggles to better its performance even with\n",
        "#more data points.\n",
        "\n",
        "h1_pred = h1_logistic.predict(X_valid)\n",
        "print(\"Accuracy: \",  accuracy_score(y_valid, h1_pred),\n",
        "      \", MSE: \", mse(y_valid, h1_pred),\n",
        "      \", MAE\", mae(y_valid, h1_pred))"
      ],
      "metadata": {
        "colab": {
          "base_uri": "https://localhost:8080/"
        },
        "id": "bxUG32WPSHpo",
        "outputId": "867c17c0-cb48-43e2-d823-edf5694b0090"
      },
      "execution_count": null,
      "outputs": [
        {
          "output_type": "stream",
          "name": "stdout",
          "text": [
            "Accuracy:  0.32042933810375673 , MSE:  0.6795706618962433 , MAE 0.6795706618962433\n"
          ]
        }
      ]
    },
    {
      "cell_type": "code",
      "source": [
        "np.random.seed(1234)\n",
        "tf.random.set_seed(1234)\n",
        "\n",
        "#The previous models showed a low accuracy. My assumption is that the 'softmax' activation is not ideal for binary classification issue\n",
        "\n",
        "early_stopping = tf.keras.callbacks.EarlyStopping(patience=5, restore_best_weights=True)\n",
        "\n",
        "h_logistic = tf.keras.Sequential()\n",
        "h_logistic.add(layers.Input(shape=(9,)))\n",
        "h_logistic.add(layers.Dense(units =1,  activation='sigmoid')) #Here, the activation has been changed to sigmoid\n",
        "optimizer = tf.keras.optimizers.SGD(lr=0.01)\n"
      ],
      "metadata": {
        "colab": {
          "base_uri": "https://localhost:8080/"
        },
        "id": "_Xe80xGcESjD",
        "outputId": "1177ab14-cb7c-4a21-e57d-6ef650cab97d"
      },
      "execution_count": null,
      "outputs": [
        {
          "output_type": "stream",
          "name": "stderr",
          "text": [
            "/usr/local/lib/python3.7/dist-packages/keras/optimizer_v2/gradient_descent.py:102: UserWarning: The `lr` argument is deprecated, use `learning_rate` instead.\n",
            "  super(SGD, self).__init__(name, **kwargs)\n"
          ]
        }
      ]
    },
    {
      "cell_type": "code",
      "source": [
        "h_logistic.compile(loss='binary_crossentropy', optimizer=optimizer, metrics=[\"acc\"])\n",
        "\n",
        "#Training the model\n",
        "h_logistic.fit(x=X_train, y=y_train, epochs=200, \n",
        "                        validation_data=(X_valid, y_valid),\n",
        "                        callbacks=[early_stopping])"
      ],
      "metadata": {
        "colab": {
          "base_uri": "https://localhost:8080/"
        },
        "id": "kCTKbco2E0So",
        "outputId": "e0f6ab88-d893-40e6-ce56-1aad1f208ab5"
      },
      "execution_count": null,
      "outputs": [
        {
          "output_type": "stream",
          "name": "stdout",
          "text": [
            "Epoch 1/200\n",
            "1852/1852 [==============================] - 4s 2ms/step - loss: 0.5140 - acc: 0.7005 - val_loss: 0.4619 - val_acc: 0.7267\n",
            "Epoch 2/200\n",
            "1852/1852 [==============================] - 3s 2ms/step - loss: 0.4676 - acc: 0.7189 - val_loss: 0.4553 - val_acc: 0.7279\n",
            "Epoch 3/200\n",
            "1852/1852 [==============================] - 3s 2ms/step - loss: 0.4651 - acc: 0.7196 - val_loss: 0.4540 - val_acc: 0.7289\n",
            "Epoch 4/200\n",
            "1852/1852 [==============================] - 3s 2ms/step - loss: 0.4646 - acc: 0.7202 - val_loss: 0.4536 - val_acc: 0.7263\n",
            "Epoch 5/200\n",
            "1852/1852 [==============================] - 3s 2ms/step - loss: 0.4644 - acc: 0.7194 - val_loss: 0.4534 - val_acc: 0.7264\n",
            "Epoch 6/200\n",
            "1852/1852 [==============================] - 3s 2ms/step - loss: 0.4644 - acc: 0.7197 - val_loss: 0.4534 - val_acc: 0.7258\n",
            "Epoch 7/200\n",
            "1852/1852 [==============================] - 3s 2ms/step - loss: 0.4643 - acc: 0.7194 - val_loss: 0.4533 - val_acc: 0.7257\n",
            "Epoch 8/200\n",
            "1852/1852 [==============================] - 3s 2ms/step - loss: 0.4644 - acc: 0.7191 - val_loss: 0.4532 - val_acc: 0.7270\n",
            "Epoch 9/200\n",
            "1852/1852 [==============================] - 3s 2ms/step - loss: 0.4643 - acc: 0.7186 - val_loss: 0.4532 - val_acc: 0.7266\n",
            "Epoch 10/200\n",
            "1852/1852 [==============================] - 3s 2ms/step - loss: 0.4643 - acc: 0.7196 - val_loss: 0.4532 - val_acc: 0.7301\n",
            "Epoch 11/200\n",
            "1852/1852 [==============================] - 3s 2ms/step - loss: 0.4643 - acc: 0.7201 - val_loss: 0.4532 - val_acc: 0.7244\n",
            "Epoch 12/200\n",
            "1852/1852 [==============================] - 3s 2ms/step - loss: 0.4643 - acc: 0.7189 - val_loss: 0.4531 - val_acc: 0.7281\n",
            "Epoch 13/200\n",
            "1852/1852 [==============================] - 3s 2ms/step - loss: 0.4643 - acc: 0.7200 - val_loss: 0.4534 - val_acc: 0.7230\n",
            "Epoch 14/200\n",
            "1852/1852 [==============================] - 3s 2ms/step - loss: 0.4643 - acc: 0.7191 - val_loss: 0.4531 - val_acc: 0.7266\n",
            "Epoch 15/200\n",
            "1852/1852 [==============================] - 3s 2ms/step - loss: 0.4643 - acc: 0.7197 - val_loss: 0.4532 - val_acc: 0.7286\n",
            "Epoch 16/200\n",
            "1852/1852 [==============================] - 3s 2ms/step - loss: 0.4644 - acc: 0.7191 - val_loss: 0.4531 - val_acc: 0.7275\n",
            "Epoch 17/200\n",
            "1852/1852 [==============================] - 3s 2ms/step - loss: 0.4643 - acc: 0.7185 - val_loss: 0.4532 - val_acc: 0.7267\n",
            "Epoch 18/200\n",
            "1852/1852 [==============================] - 3s 2ms/step - loss: 0.4643 - acc: 0.7192 - val_loss: 0.4532 - val_acc: 0.7277\n",
            "Epoch 19/200\n",
            "1852/1852 [==============================] - 3s 2ms/step - loss: 0.4643 - acc: 0.7185 - val_loss: 0.4531 - val_acc: 0.7272\n",
            "Epoch 20/200\n",
            "1852/1852 [==============================] - 3s 2ms/step - loss: 0.4643 - acc: 0.7188 - val_loss: 0.4532 - val_acc: 0.7270\n",
            "Epoch 21/200\n",
            "1852/1852 [==============================] - 3s 2ms/step - loss: 0.4643 - acc: 0.7192 - val_loss: 0.4532 - val_acc: 0.7274\n",
            "Epoch 22/200\n",
            "1852/1852 [==============================] - 3s 2ms/step - loss: 0.4643 - acc: 0.7198 - val_loss: 0.4531 - val_acc: 0.7279\n",
            "Epoch 23/200\n",
            "1852/1852 [==============================] - 3s 2ms/step - loss: 0.4644 - acc: 0.7190 - val_loss: 0.4532 - val_acc: 0.7274\n",
            "Epoch 24/200\n",
            "1852/1852 [==============================] - 3s 2ms/step - loss: 0.4643 - acc: 0.7189 - val_loss: 0.4532 - val_acc: 0.7266\n",
            "Epoch 25/200\n",
            "1852/1852 [==============================] - 3s 2ms/step - loss: 0.4643 - acc: 0.7201 - val_loss: 0.4532 - val_acc: 0.7263\n",
            "Epoch 26/200\n",
            "1852/1852 [==============================] - 3s 2ms/step - loss: 0.4643 - acc: 0.7196 - val_loss: 0.4532 - val_acc: 0.7268\n",
            "Epoch 27/200\n",
            "1852/1852 [==============================] - 3s 2ms/step - loss: 0.4643 - acc: 0.7188 - val_loss: 0.4533 - val_acc: 0.7278\n"
          ]
        },
        {
          "output_type": "execute_result",
          "data": {
            "text/plain": [
              "<keras.callbacks.History at 0x7fd58ebb1c50>"
            ]
          },
          "metadata": {},
          "execution_count": 70
        }
      ]
    },
    {
      "cell_type": "markdown",
      "source": [
        "#Model(s) 2: Deep Neural Networks and further testing"
      ],
      "metadata": {
        "id": "SBNlVbqFrt9j"
      }
    },
    {
      "cell_type": "code",
      "source": [
        "#Above, it is clear that the model performs much better when including a 'sigmoid' final layer. Note: calculating the MSE and the MAE for non-regression (i.e., classification)\n",
        "#tasks.\n",
        "\n",
        "#A curious phenomenon is that the validation loss and accuracy are both better (i.e., lower and higher, respectively) than the training data. I assume that this may have been caused\n",
        "#higher intrinsic variance of the training set (since it has more entries), especially considered that the minority class samples were randomly generated to oversample the datafrane.\n",
        "\n",
        "#Is now time to add more layers: the problem cannot clearly be solved as a linear problem, as it was highlighted both in the data visualization and the ML1 notebooks\n",
        "\n",
        "early_stopping = tf.keras.callbacks.EarlyStopping(patience=5, restore_best_weights=True)\n",
        "\n",
        "h2_logistic = tf.keras.Sequential()\n",
        "h2_logistic.add(layers.Input(shape=(9,)))\n",
        "h2_logistic.add(layers.Dense(30, name='dense1', activation='relu'))\n",
        "h2_logistic.add(layers.Dense(units = 100, activation = 'relu')) #Adding a 100-neuron layes\n",
        "h2_logistic.add(layers.Dense(units = 50, activation = 'relu')) #Adding a 50-neuron layes\n",
        "h2_logistic.add(layers.Dense(units =1,  activation='sigmoid'))\n",
        "optimizer = Adam(learning_rate = 0.0001) #Since from now onwards I will be adding layers, to make the model more computationally economic, I have swapped SGD out for ADAM, which\n",
        "#requires less memory space (and also works better for high-noise databases, like the one analyzed here)\n",
        "\n",
        "#Learning rate improved\n",
        "\n",
        "h2_logistic.compile(loss='binary_crossentropy',\n",
        "                            optimizer=optimizer, metrics=[\"acc\"])\n",
        "h2_logistic.fit(x=X_train, y=y_train, epochs=200, \n",
        "                        validation_data=(X_valid, y_valid),\n",
        "                        callbacks=[early_stopping])\n"
      ],
      "metadata": {
        "colab": {
          "base_uri": "https://localhost:8080/"
        },
        "id": "lxDQUQ5USHsH",
        "outputId": "2ae74255-98f3-47c6-f677-8ef20dc05214"
      },
      "execution_count": null,
      "outputs": [
        {
          "output_type": "stream",
          "name": "stdout",
          "text": [
            "Epoch 1/200\n",
            "1852/1852 [==============================] - 6s 3ms/step - loss: 0.5019 - acc: 0.7220 - val_loss: 0.4466 - val_acc: 0.7497\n",
            "Epoch 2/200\n",
            "1852/1852 [==============================] - 5s 3ms/step - loss: 0.4549 - acc: 0.7415 - val_loss: 0.4409 - val_acc: 0.7545\n",
            "Epoch 3/200\n",
            "1852/1852 [==============================] - 4s 2ms/step - loss: 0.4510 - acc: 0.7463 - val_loss: 0.4394 - val_acc: 0.7528\n",
            "Epoch 4/200\n",
            "1852/1852 [==============================] - 4s 2ms/step - loss: 0.4490 - acc: 0.7484 - val_loss: 0.4374 - val_acc: 0.7561\n",
            "Epoch 5/200\n",
            "1852/1852 [==============================] - 4s 2ms/step - loss: 0.4476 - acc: 0.7499 - val_loss: 0.4374 - val_acc: 0.7580\n",
            "Epoch 6/200\n",
            "1852/1852 [==============================] - 4s 2ms/step - loss: 0.4467 - acc: 0.7507 - val_loss: 0.4368 - val_acc: 0.7561\n",
            "Epoch 7/200\n",
            "1852/1852 [==============================] - 4s 2ms/step - loss: 0.4458 - acc: 0.7514 - val_loss: 0.4359 - val_acc: 0.7589\n",
            "Epoch 8/200\n",
            "1852/1852 [==============================] - 4s 2ms/step - loss: 0.4455 - acc: 0.7507 - val_loss: 0.4350 - val_acc: 0.7589\n",
            "Epoch 9/200\n",
            "1852/1852 [==============================] - 4s 2ms/step - loss: 0.4448 - acc: 0.7521 - val_loss: 0.4352 - val_acc: 0.7569\n",
            "Epoch 10/200\n",
            "1852/1852 [==============================] - 4s 2ms/step - loss: 0.4440 - acc: 0.7522 - val_loss: 0.4354 - val_acc: 0.7588\n",
            "Epoch 11/200\n",
            "1852/1852 [==============================] - 4s 2ms/step - loss: 0.4437 - acc: 0.7540 - val_loss: 0.4342 - val_acc: 0.7586\n",
            "Epoch 12/200\n",
            "1852/1852 [==============================] - 4s 2ms/step - loss: 0.4431 - acc: 0.7542 - val_loss: 0.4348 - val_acc: 0.7589\n",
            "Epoch 13/200\n",
            "1852/1852 [==============================] - 4s 2ms/step - loss: 0.4430 - acc: 0.7540 - val_loss: 0.4343 - val_acc: 0.7583\n",
            "Epoch 14/200\n",
            "1852/1852 [==============================] - 4s 2ms/step - loss: 0.4427 - acc: 0.7542 - val_loss: 0.4341 - val_acc: 0.7598\n",
            "Epoch 15/200\n",
            "1852/1852 [==============================] - 4s 2ms/step - loss: 0.4424 - acc: 0.7528 - val_loss: 0.4354 - val_acc: 0.7580\n",
            "Epoch 16/200\n",
            "1852/1852 [==============================] - 4s 2ms/step - loss: 0.4421 - acc: 0.7548 - val_loss: 0.4332 - val_acc: 0.7612\n",
            "Epoch 17/200\n",
            "1852/1852 [==============================] - 4s 2ms/step - loss: 0.4417 - acc: 0.7557 - val_loss: 0.4336 - val_acc: 0.7601\n",
            "Epoch 18/200\n",
            "1852/1852 [==============================] - 4s 2ms/step - loss: 0.4414 - acc: 0.7558 - val_loss: 0.4342 - val_acc: 0.7582\n",
            "Epoch 19/200\n",
            "1852/1852 [==============================] - 4s 2ms/step - loss: 0.4411 - acc: 0.7550 - val_loss: 0.4327 - val_acc: 0.7593\n",
            "Epoch 20/200\n",
            "1852/1852 [==============================] - 5s 3ms/step - loss: 0.4409 - acc: 0.7565 - val_loss: 0.4346 - val_acc: 0.7581\n",
            "Epoch 21/200\n",
            "1852/1852 [==============================] - 4s 2ms/step - loss: 0.4407 - acc: 0.7555 - val_loss: 0.4325 - val_acc: 0.7596\n",
            "Epoch 22/200\n",
            "1852/1852 [==============================] - 4s 2ms/step - loss: 0.4404 - acc: 0.7571 - val_loss: 0.4364 - val_acc: 0.7567\n",
            "Epoch 23/200\n",
            "1852/1852 [==============================] - 4s 2ms/step - loss: 0.4404 - acc: 0.7567 - val_loss: 0.4341 - val_acc: 0.7586\n",
            "Epoch 24/200\n",
            "1852/1852 [==============================] - 5s 3ms/step - loss: 0.4401 - acc: 0.7568 - val_loss: 0.4332 - val_acc: 0.7604\n",
            "Epoch 25/200\n",
            "1852/1852 [==============================] - 5s 2ms/step - loss: 0.4397 - acc: 0.7563 - val_loss: 0.4330 - val_acc: 0.7581\n",
            "Epoch 26/200\n",
            "1852/1852 [==============================] - 5s 2ms/step - loss: 0.4397 - acc: 0.7572 - val_loss: 0.4338 - val_acc: 0.7571\n"
          ]
        },
        {
          "output_type": "execute_result",
          "data": {
            "text/plain": [
              "<keras.callbacks.History at 0x7fd5899c42d0>"
            ]
          },
          "metadata": {},
          "execution_count": 71
        }
      ]
    },
    {
      "cell_type": "code",
      "source": [
        "history=h2_logistic.fit(x = X_train, y = y_train, validation_data = (X_valid,y_valid), batch_size = 500, epochs = 100, shuffle = True )\n"
      ],
      "metadata": {
        "colab": {
          "base_uri": "https://localhost:8080/"
        },
        "id": "XLgfVxVySHuy",
        "outputId": "0cf7cc40-efca-4a47-bbe6-adf11d557236"
      },
      "execution_count": null,
      "outputs": [
        {
          "output_type": "stream",
          "name": "stdout",
          "text": [
            "Epoch 1/100\n",
            "119/119 [==============================] - 1s 4ms/step - loss: 0.4392 - acc: 0.7575 - val_loss: 0.4324 - val_acc: 0.7596\n",
            "Epoch 2/100\n",
            "119/119 [==============================] - 0s 4ms/step - loss: 0.4391 - acc: 0.7578 - val_loss: 0.4324 - val_acc: 0.7596\n",
            "Epoch 3/100\n",
            "119/119 [==============================] - 1s 5ms/step - loss: 0.4390 - acc: 0.7575 - val_loss: 0.4325 - val_acc: 0.7599\n",
            "Epoch 4/100\n",
            "119/119 [==============================] - 0s 4ms/step - loss: 0.4390 - acc: 0.7586 - val_loss: 0.4324 - val_acc: 0.7599\n",
            "Epoch 5/100\n",
            "119/119 [==============================] - 0s 4ms/step - loss: 0.4390 - acc: 0.7573 - val_loss: 0.4324 - val_acc: 0.7605\n",
            "Epoch 6/100\n",
            "119/119 [==============================] - 0s 4ms/step - loss: 0.4390 - acc: 0.7581 - val_loss: 0.4324 - val_acc: 0.7597\n",
            "Epoch 7/100\n",
            "119/119 [==============================] - 0s 4ms/step - loss: 0.4389 - acc: 0.7582 - val_loss: 0.4325 - val_acc: 0.7589\n",
            "Epoch 8/100\n",
            "119/119 [==============================] - 0s 4ms/step - loss: 0.4389 - acc: 0.7577 - val_loss: 0.4323 - val_acc: 0.7598\n",
            "Epoch 9/100\n",
            "119/119 [==============================] - 0s 4ms/step - loss: 0.4389 - acc: 0.7581 - val_loss: 0.4323 - val_acc: 0.7600\n",
            "Epoch 10/100\n",
            "119/119 [==============================] - 0s 4ms/step - loss: 0.4389 - acc: 0.7584 - val_loss: 0.4324 - val_acc: 0.7602\n",
            "Epoch 11/100\n",
            "119/119 [==============================] - 0s 4ms/step - loss: 0.4389 - acc: 0.7577 - val_loss: 0.4324 - val_acc: 0.7594\n",
            "Epoch 12/100\n",
            "119/119 [==============================] - 0s 4ms/step - loss: 0.4389 - acc: 0.7577 - val_loss: 0.4323 - val_acc: 0.7599\n",
            "Epoch 13/100\n",
            "119/119 [==============================] - 0s 4ms/step - loss: 0.4388 - acc: 0.7576 - val_loss: 0.4324 - val_acc: 0.7594\n",
            "Epoch 14/100\n",
            "119/119 [==============================] - 0s 4ms/step - loss: 0.4388 - acc: 0.7576 - val_loss: 0.4323 - val_acc: 0.7601\n",
            "Epoch 15/100\n",
            "119/119 [==============================] - 0s 4ms/step - loss: 0.4388 - acc: 0.7578 - val_loss: 0.4323 - val_acc: 0.7600\n",
            "Epoch 16/100\n",
            "119/119 [==============================] - 0s 4ms/step - loss: 0.4388 - acc: 0.7578 - val_loss: 0.4324 - val_acc: 0.7594\n",
            "Epoch 17/100\n",
            "119/119 [==============================] - 0s 4ms/step - loss: 0.4387 - acc: 0.7587 - val_loss: 0.4325 - val_acc: 0.7579\n",
            "Epoch 18/100\n",
            "119/119 [==============================] - 0s 4ms/step - loss: 0.4388 - acc: 0.7579 - val_loss: 0.4323 - val_acc: 0.7601\n",
            "Epoch 19/100\n",
            "119/119 [==============================] - 0s 4ms/step - loss: 0.4387 - acc: 0.7579 - val_loss: 0.4324 - val_acc: 0.7602\n",
            "Epoch 20/100\n",
            "119/119 [==============================] - 0s 4ms/step - loss: 0.4386 - acc: 0.7580 - val_loss: 0.4322 - val_acc: 0.7600\n",
            "Epoch 21/100\n",
            "119/119 [==============================] - 0s 4ms/step - loss: 0.4387 - acc: 0.7581 - val_loss: 0.4324 - val_acc: 0.7600\n",
            "Epoch 22/100\n",
            "119/119 [==============================] - 0s 4ms/step - loss: 0.4386 - acc: 0.7581 - val_loss: 0.4324 - val_acc: 0.7600\n",
            "Epoch 23/100\n",
            "119/119 [==============================] - 0s 4ms/step - loss: 0.4387 - acc: 0.7586 - val_loss: 0.4322 - val_acc: 0.7604\n",
            "Epoch 24/100\n",
            "119/119 [==============================] - 0s 4ms/step - loss: 0.4386 - acc: 0.7579 - val_loss: 0.4321 - val_acc: 0.7599\n",
            "Epoch 25/100\n",
            "119/119 [==============================] - 0s 4ms/step - loss: 0.4385 - acc: 0.7584 - val_loss: 0.4322 - val_acc: 0.7600\n",
            "Epoch 26/100\n",
            "119/119 [==============================] - 0s 4ms/step - loss: 0.4385 - acc: 0.7579 - val_loss: 0.4321 - val_acc: 0.7602\n",
            "Epoch 27/100\n",
            "119/119 [==============================] - 0s 4ms/step - loss: 0.4384 - acc: 0.7581 - val_loss: 0.4324 - val_acc: 0.7586\n",
            "Epoch 28/100\n",
            "119/119 [==============================] - 0s 4ms/step - loss: 0.4383 - acc: 0.7587 - val_loss: 0.4324 - val_acc: 0.7601\n",
            "Epoch 29/100\n",
            "119/119 [==============================] - 0s 4ms/step - loss: 0.4383 - acc: 0.7584 - val_loss: 0.4323 - val_acc: 0.7604\n",
            "Epoch 30/100\n",
            "119/119 [==============================] - 0s 4ms/step - loss: 0.4384 - acc: 0.7590 - val_loss: 0.4322 - val_acc: 0.7589\n",
            "Epoch 31/100\n",
            "119/119 [==============================] - 0s 4ms/step - loss: 0.4383 - acc: 0.7583 - val_loss: 0.4322 - val_acc: 0.7596\n",
            "Epoch 32/100\n",
            "119/119 [==============================] - 0s 4ms/step - loss: 0.4382 - acc: 0.7586 - val_loss: 0.4320 - val_acc: 0.7599\n",
            "Epoch 33/100\n",
            "119/119 [==============================] - 0s 4ms/step - loss: 0.4381 - acc: 0.7585 - val_loss: 0.4321 - val_acc: 0.7604\n",
            "Epoch 34/100\n",
            "119/119 [==============================] - 0s 4ms/step - loss: 0.4382 - acc: 0.7583 - val_loss: 0.4328 - val_acc: 0.7585\n",
            "Epoch 35/100\n",
            "119/119 [==============================] - 0s 4ms/step - loss: 0.4383 - acc: 0.7583 - val_loss: 0.4326 - val_acc: 0.7593\n",
            "Epoch 36/100\n",
            "119/119 [==============================] - 0s 4ms/step - loss: 0.4381 - acc: 0.7595 - val_loss: 0.4319 - val_acc: 0.7601\n",
            "Epoch 37/100\n",
            "119/119 [==============================] - 0s 4ms/step - loss: 0.4380 - acc: 0.7587 - val_loss: 0.4320 - val_acc: 0.7593\n",
            "Epoch 38/100\n",
            "119/119 [==============================] - 0s 4ms/step - loss: 0.4379 - acc: 0.7584 - val_loss: 0.4319 - val_acc: 0.7604\n",
            "Epoch 39/100\n",
            "119/119 [==============================] - 0s 4ms/step - loss: 0.4379 - acc: 0.7601 - val_loss: 0.4319 - val_acc: 0.7609\n",
            "Epoch 40/100\n",
            "119/119 [==============================] - 0s 4ms/step - loss: 0.4378 - acc: 0.7591 - val_loss: 0.4321 - val_acc: 0.7584\n",
            "Epoch 41/100\n",
            "119/119 [==============================] - 0s 4ms/step - loss: 0.4378 - acc: 0.7595 - val_loss: 0.4318 - val_acc: 0.7609\n",
            "Epoch 42/100\n",
            "119/119 [==============================] - 0s 4ms/step - loss: 0.4379 - acc: 0.7589 - val_loss: 0.4318 - val_acc: 0.7596\n",
            "Epoch 43/100\n",
            "119/119 [==============================] - 0s 4ms/step - loss: 0.4378 - acc: 0.7596 - val_loss: 0.4318 - val_acc: 0.7603\n",
            "Epoch 44/100\n",
            "119/119 [==============================] - 0s 4ms/step - loss: 0.4376 - acc: 0.7585 - val_loss: 0.4317 - val_acc: 0.7601\n",
            "Epoch 45/100\n",
            "119/119 [==============================] - 0s 4ms/step - loss: 0.4376 - acc: 0.7597 - val_loss: 0.4318 - val_acc: 0.7595\n",
            "Epoch 46/100\n",
            "119/119 [==============================] - 0s 4ms/step - loss: 0.4376 - acc: 0.7594 - val_loss: 0.4319 - val_acc: 0.7601\n",
            "Epoch 47/100\n",
            "119/119 [==============================] - 0s 4ms/step - loss: 0.4375 - acc: 0.7592 - val_loss: 0.4318 - val_acc: 0.7592\n",
            "Epoch 48/100\n",
            "119/119 [==============================] - 0s 4ms/step - loss: 0.4375 - acc: 0.7598 - val_loss: 0.4317 - val_acc: 0.7601\n",
            "Epoch 49/100\n",
            "119/119 [==============================] - 0s 4ms/step - loss: 0.4374 - acc: 0.7593 - val_loss: 0.4316 - val_acc: 0.7599\n",
            "Epoch 50/100\n",
            "119/119 [==============================] - 0s 4ms/step - loss: 0.4374 - acc: 0.7585 - val_loss: 0.4318 - val_acc: 0.7600\n",
            "Epoch 51/100\n",
            "119/119 [==============================] - 0s 4ms/step - loss: 0.4373 - acc: 0.7599 - val_loss: 0.4316 - val_acc: 0.7598\n",
            "Epoch 52/100\n",
            "119/119 [==============================] - 0s 4ms/step - loss: 0.4373 - acc: 0.7591 - val_loss: 0.4317 - val_acc: 0.7603\n",
            "Epoch 53/100\n",
            "119/119 [==============================] - 0s 4ms/step - loss: 0.4372 - acc: 0.7595 - val_loss: 0.4317 - val_acc: 0.7594\n",
            "Epoch 54/100\n",
            "119/119 [==============================] - 0s 4ms/step - loss: 0.4372 - acc: 0.7599 - val_loss: 0.4317 - val_acc: 0.7599\n",
            "Epoch 55/100\n",
            "119/119 [==============================] - 0s 4ms/step - loss: 0.4372 - acc: 0.7599 - val_loss: 0.4317 - val_acc: 0.7591\n",
            "Epoch 56/100\n",
            "119/119 [==============================] - 0s 4ms/step - loss: 0.4371 - acc: 0.7600 - val_loss: 0.4316 - val_acc: 0.7602\n",
            "Epoch 57/100\n",
            "119/119 [==============================] - 0s 4ms/step - loss: 0.4370 - acc: 0.7600 - val_loss: 0.4314 - val_acc: 0.7610\n",
            "Epoch 58/100\n",
            "119/119 [==============================] - 0s 4ms/step - loss: 0.4371 - acc: 0.7597 - val_loss: 0.4314 - val_acc: 0.7604\n",
            "Epoch 59/100\n",
            "119/119 [==============================] - 0s 4ms/step - loss: 0.4370 - acc: 0.7594 - val_loss: 0.4316 - val_acc: 0.7594\n",
            "Epoch 60/100\n",
            "119/119 [==============================] - 0s 4ms/step - loss: 0.4369 - acc: 0.7593 - val_loss: 0.4315 - val_acc: 0.7603\n",
            "Epoch 61/100\n",
            "119/119 [==============================] - 0s 4ms/step - loss: 0.4370 - acc: 0.7598 - val_loss: 0.4318 - val_acc: 0.7592\n",
            "Epoch 62/100\n",
            "119/119 [==============================] - 0s 3ms/step - loss: 0.4368 - acc: 0.7600 - val_loss: 0.4316 - val_acc: 0.7604\n",
            "Epoch 63/100\n",
            "119/119 [==============================] - 0s 4ms/step - loss: 0.4368 - acc: 0.7605 - val_loss: 0.4314 - val_acc: 0.7597\n",
            "Epoch 64/100\n",
            "119/119 [==============================] - 0s 4ms/step - loss: 0.4368 - acc: 0.7596 - val_loss: 0.4315 - val_acc: 0.7602\n",
            "Epoch 65/100\n",
            "119/119 [==============================] - 0s 4ms/step - loss: 0.4368 - acc: 0.7598 - val_loss: 0.4313 - val_acc: 0.7610\n",
            "Epoch 66/100\n",
            "119/119 [==============================] - 0s 4ms/step - loss: 0.4367 - acc: 0.7602 - val_loss: 0.4317 - val_acc: 0.7612\n",
            "Epoch 67/100\n",
            "119/119 [==============================] - 0s 4ms/step - loss: 0.4366 - acc: 0.7600 - val_loss: 0.4315 - val_acc: 0.7585\n",
            "Epoch 68/100\n",
            "119/119 [==============================] - 1s 4ms/step - loss: 0.4366 - acc: 0.7607 - val_loss: 0.4314 - val_acc: 0.7598\n",
            "Epoch 69/100\n",
            "119/119 [==============================] - 0s 4ms/step - loss: 0.4365 - acc: 0.7604 - val_loss: 0.4316 - val_acc: 0.7588\n",
            "Epoch 70/100\n",
            "119/119 [==============================] - 0s 4ms/step - loss: 0.4365 - acc: 0.7601 - val_loss: 0.4314 - val_acc: 0.7596\n",
            "Epoch 71/100\n",
            "119/119 [==============================] - 0s 4ms/step - loss: 0.4366 - acc: 0.7603 - val_loss: 0.4317 - val_acc: 0.7588\n",
            "Epoch 72/100\n",
            "119/119 [==============================] - 0s 4ms/step - loss: 0.4365 - acc: 0.7605 - val_loss: 0.4315 - val_acc: 0.7593\n",
            "Epoch 73/100\n",
            "119/119 [==============================] - 0s 4ms/step - loss: 0.4364 - acc: 0.7600 - val_loss: 0.4314 - val_acc: 0.7592\n",
            "Epoch 74/100\n",
            "119/119 [==============================] - 0s 4ms/step - loss: 0.4363 - acc: 0.7600 - val_loss: 0.4313 - val_acc: 0.7614\n",
            "Epoch 75/100\n",
            "119/119 [==============================] - 0s 4ms/step - loss: 0.4363 - acc: 0.7602 - val_loss: 0.4314 - val_acc: 0.7580\n",
            "Epoch 76/100\n",
            "119/119 [==============================] - 0s 4ms/step - loss: 0.4363 - acc: 0.7607 - val_loss: 0.4317 - val_acc: 0.7583\n",
            "Epoch 77/100\n",
            "119/119 [==============================] - 0s 4ms/step - loss: 0.4362 - acc: 0.7596 - val_loss: 0.4312 - val_acc: 0.7608\n",
            "Epoch 78/100\n",
            "119/119 [==============================] - 0s 4ms/step - loss: 0.4362 - acc: 0.7604 - val_loss: 0.4314 - val_acc: 0.7601\n",
            "Epoch 79/100\n",
            "119/119 [==============================] - 0s 4ms/step - loss: 0.4361 - acc: 0.7605 - val_loss: 0.4313 - val_acc: 0.7600\n",
            "Epoch 80/100\n",
            "119/119 [==============================] - 0s 4ms/step - loss: 0.4361 - acc: 0.7606 - val_loss: 0.4313 - val_acc: 0.7605\n",
            "Epoch 81/100\n",
            "119/119 [==============================] - 0s 4ms/step - loss: 0.4361 - acc: 0.7602 - val_loss: 0.4312 - val_acc: 0.7607\n",
            "Epoch 82/100\n",
            "119/119 [==============================] - 0s 4ms/step - loss: 0.4360 - acc: 0.7606 - val_loss: 0.4315 - val_acc: 0.7614\n",
            "Epoch 83/100\n",
            "119/119 [==============================] - 0s 4ms/step - loss: 0.4359 - acc: 0.7607 - val_loss: 0.4313 - val_acc: 0.7608\n",
            "Epoch 84/100\n",
            "119/119 [==============================] - 0s 4ms/step - loss: 0.4359 - acc: 0.7609 - val_loss: 0.4312 - val_acc: 0.7597\n",
            "Epoch 85/100\n",
            "119/119 [==============================] - 0s 4ms/step - loss: 0.4358 - acc: 0.7609 - val_loss: 0.4315 - val_acc: 0.7594\n",
            "Epoch 86/100\n",
            "119/119 [==============================] - 0s 4ms/step - loss: 0.4359 - acc: 0.7607 - val_loss: 0.4312 - val_acc: 0.7602\n",
            "Epoch 87/100\n",
            "119/119 [==============================] - 0s 4ms/step - loss: 0.4357 - acc: 0.7617 - val_loss: 0.4310 - val_acc: 0.7618\n",
            "Epoch 88/100\n",
            "119/119 [==============================] - 0s 4ms/step - loss: 0.4357 - acc: 0.7604 - val_loss: 0.4311 - val_acc: 0.7614\n",
            "Epoch 89/100\n",
            "119/119 [==============================] - 0s 4ms/step - loss: 0.4358 - acc: 0.7608 - val_loss: 0.4312 - val_acc: 0.7592\n",
            "Epoch 90/100\n",
            "119/119 [==============================] - 0s 4ms/step - loss: 0.4357 - acc: 0.7611 - val_loss: 0.4313 - val_acc: 0.7617\n",
            "Epoch 91/100\n",
            "119/119 [==============================] - 0s 4ms/step - loss: 0.4356 - acc: 0.7610 - val_loss: 0.4311 - val_acc: 0.7609\n",
            "Epoch 92/100\n",
            "119/119 [==============================] - 0s 4ms/step - loss: 0.4356 - acc: 0.7607 - val_loss: 0.4310 - val_acc: 0.7601\n",
            "Epoch 93/100\n",
            "119/119 [==============================] - 0s 4ms/step - loss: 0.4356 - acc: 0.7611 - val_loss: 0.4312 - val_acc: 0.7612\n",
            "Epoch 94/100\n",
            "119/119 [==============================] - 0s 4ms/step - loss: 0.4356 - acc: 0.7610 - val_loss: 0.4311 - val_acc: 0.7606\n",
            "Epoch 95/100\n",
            "119/119 [==============================] - 0s 4ms/step - loss: 0.4354 - acc: 0.7614 - val_loss: 0.4310 - val_acc: 0.7597\n",
            "Epoch 96/100\n",
            "119/119 [==============================] - 0s 4ms/step - loss: 0.4354 - acc: 0.7610 - val_loss: 0.4314 - val_acc: 0.7588\n",
            "Epoch 97/100\n",
            "119/119 [==============================] - 0s 4ms/step - loss: 0.4354 - acc: 0.7602 - val_loss: 0.4309 - val_acc: 0.7607\n",
            "Epoch 98/100\n",
            "119/119 [==============================] - 0s 4ms/step - loss: 0.4354 - acc: 0.7605 - val_loss: 0.4312 - val_acc: 0.7601\n",
            "Epoch 99/100\n",
            "119/119 [==============================] - 1s 4ms/step - loss: 0.4354 - acc: 0.7610 - val_loss: 0.4311 - val_acc: 0.7605\n",
            "Epoch 100/100\n",
            "119/119 [==============================] - 0s 4ms/step - loss: 0.4353 - acc: 0.7617 - val_loss: 0.4308 - val_acc: 0.7611\n"
          ]
        }
      ]
    },
    {
      "cell_type": "code",
      "source": [
        "plt.figure(figsize=(10,10))\n",
        "plt.plot(history.history['acc'])\n",
        "plt.plot(history.history['val_acc'])\n",
        "plt.title('model accuracy')\n",
        "\n",
        "plt.ylabel('accuracy') #Plotting the accuracy of the model based on epochs for both validation and training set\n",
        "plt.xlabel('epochs')\n",
        "plt.legend(['trainining', 'validation'])\n",
        "\n",
        "\n",
        "plt.show()\n",
        "\n",
        "#The graph below confirms the previous intuition: the accuracy of the validation is only initailly higher: the more epochs, the more the model learns from the training set while\n",
        "#validation remains somewhat stable."
      ],
      "metadata": {
        "colab": {
          "base_uri": "https://localhost:8080/",
          "height": 621
        },
        "id": "9sLc-1B8amTo",
        "outputId": "5421630c-2179-4939-9d98-499303216964"
      },
      "execution_count": null,
      "outputs": [
        {
          "output_type": "display_data",
          "data": {
            "image/png": "[encoded data removed]",
            "text/plain": [
              "<Figure size 720x720 with 1 Axes>"
            ]
          },
          "metadata": {
            "needs_background": "light"
          }
        }
      ]
    },
    {
      "cell_type": "code",
      "source": [
        "plt.plot(history.history['val_loss'],  label='val') #As noted before, the validation loss is somewhat lower than the training loss (althought the latter seems to decrease more\n",
        "#steadily than the former, thus indicating that variance rather than underfitting could be the cause of this phenomena)\n",
        "plt.plot(history.history['loss'], label='train')\n",
        "plt.title('Loss')\n",
        "plt.xlabel('Epochs')\n",
        "plt.ylabel('Loss')\n",
        "plt.legend()\n",
        "plt.show()"
      ],
      "metadata": {
        "colab": {
          "base_uri": "https://localhost:8080/",
          "height": 295
        },
        "id": "San6AXmZbr0e",
        "outputId": "1cce07a2-c98e-4e99-f0f0-62d9c12f6b74"
      },
      "execution_count": null,
      "outputs": [
        {
          "output_type": "display_data",
          "data": {
            "image/png": "[encoded data removed]",
            "text/plain": [
              "<Figure size 432x288 with 1 Axes>"
            ]
          },
          "metadata": {
            "needs_background": "light"
          }
        }
      ]
    },
    {
      "cell_type": "code",
      "source": [
        "history_dict = history.history\n",
        "loss_values = history.history['loss'] \n",
        "acc_values = history.history['acc'] \n",
        "num_epochs = 100"
      ],
      "metadata": {
        "id": "Ee92_Lm3sILu"
      },
      "execution_count": null,
      "outputs": []
    },
    {
      "cell_type": "code",
      "source": [
        "epochs = range(1, num_epochs + 1) #Decrease in loss on the training set confirmed (model improves)\n",
        "plt.plot(epochs, loss_values, 'bo')\n",
        "plt.title('Training loss')\n",
        "plt.xlabel('Epochs')\n",
        "plt.ylabel('MSE');"
      ],
      "metadata": {
        "colab": {
          "base_uri": "https://localhost:8080/",
          "height": 295
        },
        "id": "kbo6Wni7tRjF",
        "outputId": "83f2f42d-7118-487e-8281-ec61ecc4402a"
      },
      "execution_count": null,
      "outputs": [
        {
          "output_type": "display_data",
          "data": {
            "image/png": "[encoded data removed]",
            "text/plain": [
              "<Figure size 432x288 with 1 Axes>"
            ]
          },
          "metadata": {
            "needs_background": "light"
          }
        }
      ]
    },
    {
      "cell_type": "code",
      "source": [
        "plt.plot(epochs, acc_values, 'bo') #Standalone improvement of the accuracy on the training set\n",
        "plt.title('Training accuracy')\n",
        "plt.xlabel('Epochs')\n",
        "plt.ylabel('ACC');"
      ],
      "metadata": {
        "colab": {
          "base_uri": "https://localhost:8080/",
          "height": 295
        },
        "id": "miOtEQaNtVqK",
        "outputId": "6d327c0b-4d2a-4c7c-daff-d68dc7467a77"
      },
      "execution_count": null,
      "outputs": [
        {
          "output_type": "display_data",
          "data": {
            "image/png": "[encoded data removed]",
            "text/plain": [
              "<Figure size 432x288 with 1 Axes>"
            ]
          },
          "metadata": {
            "needs_background": "light"
          }
        }
      ]
    },
    {
      "cell_type": "code",
      "source": [
        "#But does the model improve when adding more layers?\n",
        "early_stopping = tf.keras.callbacks.EarlyStopping(patience=10, restore_best_weights=True) #Adjusting the patience paramaters to give the model more epochs to improve\n",
        "\n",
        "h3_logistic = tf.keras.Sequential()\n",
        "h3_logistic.add(layers.Input(shape=(9,)))\n",
        "h3_logistic.add(layers.Dense(30, name='dense1', activation='relu'))\n",
        "h3_logistic.add(layers.Dense(units = 256, activation = 'relu')) #Adding a 256-neuron layes+\n",
        "h3_logistic.add(layers.Dense(units = 128, activation = 'relu')) #Adding a 128-neuron layes\n",
        "h3_logistic.add(layers.Dense(units = 64, activation = 'relu')) #Adding a 64-neuron layes\n",
        "h3_logistic.add(layers.Dense(units = 32, activation = 'relu')) #Adding a 32-neuron layes\n",
        "h3_logistic.add(layers.Dense(units = 16, activation = 'relu')) #Adding a 16-neuron layes\n",
        "h3_logistic.add(layers.Dense(units =1,  activation='sigmoid'))\n",
        "optimizer = Adam(learning_rate = 0.0001) \n",
        "\n",
        "h3_logistic.compile(loss='binary_crossentropy',\n",
        "                            optimizer=optimizer, metrics=[\"acc\"])\n",
        "h3_logistic.fit(x=X_train, y=y_train, epochs=200, \n",
        "                        validation_data=(X_valid, y_valid),\n",
        "                        callbacks=[early_stopping])\n"
      ],
      "metadata": {
        "colab": {
          "base_uri": "https://localhost:8080/"
        },
        "id": "9MGKDE0KbUGY",
        "outputId": "abcd58c0-fee2-4878-de7e-4a74a03e7140"
      },
      "execution_count": null,
      "outputs": [
        {
          "output_type": "stream",
          "name": "stdout",
          "text": [
            "Epoch 1/200\n",
            "1852/1852 [==============================] - 7s 3ms/step - loss: 0.4788 - acc: 0.7330 - val_loss: 0.4401 - val_acc: 0.7537\n",
            "Epoch 2/200\n",
            "1852/1852 [==============================] - 6s 3ms/step - loss: 0.4508 - acc: 0.7484 - val_loss: 0.4373 - val_acc: 0.7547\n",
            "Epoch 3/200\n",
            "1852/1852 [==============================] - 6s 3ms/step - loss: 0.4480 - acc: 0.7500 - val_loss: 0.4395 - val_acc: 0.7549\n",
            "Epoch 4/200\n",
            "1852/1852 [==============================] - 6s 3ms/step - loss: 0.4464 - acc: 0.7514 - val_loss: 0.4358 - val_acc: 0.7563\n",
            "Epoch 5/200\n",
            "1852/1852 [==============================] - 6s 3ms/step - loss: 0.4452 - acc: 0.7528 - val_loss: 0.4366 - val_acc: 0.7524\n",
            "Epoch 6/200\n",
            "1852/1852 [==============================] - 7s 4ms/step - loss: 0.4438 - acc: 0.7528 - val_loss: 0.4345 - val_acc: 0.7576\n",
            "Epoch 7/200\n",
            "1852/1852 [==============================] - 6s 4ms/step - loss: 0.4430 - acc: 0.7536 - val_loss: 0.4353 - val_acc: 0.7564\n",
            "Epoch 8/200\n",
            "1852/1852 [==============================] - 6s 3ms/step - loss: 0.4426 - acc: 0.7540 - val_loss: 0.4337 - val_acc: 0.7583\n",
            "Epoch 9/200\n",
            "1852/1852 [==============================] - 7s 4ms/step - loss: 0.4421 - acc: 0.7541 - val_loss: 0.4357 - val_acc: 0.7584\n",
            "Epoch 10/200\n",
            "1852/1852 [==============================] - 6s 3ms/step - loss: 0.4408 - acc: 0.7557 - val_loss: 0.4359 - val_acc: 0.7569\n",
            "Epoch 11/200\n",
            "1852/1852 [==============================] - 6s 3ms/step - loss: 0.4407 - acc: 0.7571 - val_loss: 0.4350 - val_acc: 0.7581\n",
            "Epoch 12/200\n",
            "1852/1852 [==============================] - 6s 3ms/step - loss: 0.4397 - acc: 0.7585 - val_loss: 0.4353 - val_acc: 0.7576\n",
            "Epoch 13/200\n",
            "1852/1852 [==============================] - 6s 3ms/step - loss: 0.4396 - acc: 0.7570 - val_loss: 0.4349 - val_acc: 0.7548\n",
            "Epoch 14/200\n",
            "1852/1852 [==============================] - 7s 4ms/step - loss: 0.4392 - acc: 0.7560 - val_loss: 0.4322 - val_acc: 0.7571\n",
            "Epoch 15/200\n",
            "1852/1852 [==============================] - 6s 3ms/step - loss: 0.4387 - acc: 0.7559 - val_loss: 0.4384 - val_acc: 0.7528\n",
            "Epoch 16/200\n",
            "1852/1852 [==============================] - 6s 3ms/step - loss: 0.4382 - acc: 0.7583 - val_loss: 0.4330 - val_acc: 0.7589\n",
            "Epoch 17/200\n",
            "1852/1852 [==============================] - 6s 3ms/step - loss: 0.4375 - acc: 0.7598 - val_loss: 0.4334 - val_acc: 0.7577\n",
            "Epoch 18/200\n",
            "1852/1852 [==============================] - 6s 3ms/step - loss: 0.4372 - acc: 0.7579 - val_loss: 0.4344 - val_acc: 0.7591\n",
            "Epoch 19/200\n",
            "1852/1852 [==============================] - 6s 3ms/step - loss: 0.4367 - acc: 0.7585 - val_loss: 0.4320 - val_acc: 0.7585\n",
            "Epoch 20/200\n",
            "1852/1852 [==============================] - 6s 3ms/step - loss: 0.4360 - acc: 0.7599 - val_loss: 0.4318 - val_acc: 0.7594\n",
            "Epoch 21/200\n",
            "1852/1852 [==============================] - 6s 3ms/step - loss: 0.4357 - acc: 0.7589 - val_loss: 0.4322 - val_acc: 0.7582\n",
            "Epoch 22/200\n",
            "1852/1852 [==============================] - 6s 3ms/step - loss: 0.4351 - acc: 0.7603 - val_loss: 0.4346 - val_acc: 0.7605\n",
            "Epoch 23/200\n",
            "1852/1852 [==============================] - 6s 3ms/step - loss: 0.4349 - acc: 0.7614 - val_loss: 0.4407 - val_acc: 0.7529\n",
            "Epoch 24/200\n",
            "1852/1852 [==============================] - 6s 3ms/step - loss: 0.4344 - acc: 0.7616 - val_loss: 0.4320 - val_acc: 0.7605\n",
            "Epoch 25/200\n",
            "1852/1852 [==============================] - 6s 3ms/step - loss: 0.4339 - acc: 0.7616 - val_loss: 0.4334 - val_acc: 0.7590\n",
            "Epoch 26/200\n",
            "1852/1852 [==============================] - 6s 3ms/step - loss: 0.4337 - acc: 0.7616 - val_loss: 0.4340 - val_acc: 0.7587\n",
            "Epoch 27/200\n",
            "1852/1852 [==============================] - 6s 3ms/step - loss: 0.4334 - acc: 0.7608 - val_loss: 0.4315 - val_acc: 0.7581\n",
            "Epoch 28/200\n",
            "1852/1852 [==============================] - 6s 3ms/step - loss: 0.4328 - acc: 0.7627 - val_loss: 0.4311 - val_acc: 0.7604\n",
            "Epoch 29/200\n",
            "1852/1852 [==============================] - 6s 3ms/step - loss: 0.4322 - acc: 0.7623 - val_loss: 0.4332 - val_acc: 0.7603\n",
            "Epoch 30/200\n",
            "1852/1852 [==============================] - 6s 3ms/step - loss: 0.4322 - acc: 0.7616 - val_loss: 0.4309 - val_acc: 0.7603\n",
            "Epoch 31/200\n",
            "1852/1852 [==============================] - 6s 3ms/step - loss: 0.4315 - acc: 0.7630 - val_loss: 0.4329 - val_acc: 0.7589\n",
            "Epoch 32/200\n",
            "1852/1852 [==============================] - 6s 3ms/step - loss: 0.4309 - acc: 0.7631 - val_loss: 0.4319 - val_acc: 0.7584\n",
            "Epoch 33/200\n",
            "1852/1852 [==============================] - 7s 4ms/step - loss: 0.4308 - acc: 0.7643 - val_loss: 0.4317 - val_acc: 0.7607\n",
            "Epoch 34/200\n",
            "1852/1852 [==============================] - 6s 3ms/step - loss: 0.4301 - acc: 0.7648 - val_loss: 0.4315 - val_acc: 0.7576\n",
            "Epoch 35/200\n",
            "1852/1852 [==============================] - 6s 4ms/step - loss: 0.4299 - acc: 0.7643 - val_loss: 0.4305 - val_acc: 0.7607\n",
            "Epoch 36/200\n",
            "1852/1852 [==============================] - 6s 3ms/step - loss: 0.4296 - acc: 0.7637 - val_loss: 0.4332 - val_acc: 0.7589\n",
            "Epoch 37/200\n",
            "1852/1852 [==============================] - 6s 3ms/step - loss: 0.4291 - acc: 0.7643 - val_loss: 0.4307 - val_acc: 0.7603\n",
            "Epoch 38/200\n",
            "1852/1852 [==============================] - 6s 3ms/step - loss: 0.4291 - acc: 0.7637 - val_loss: 0.4310 - val_acc: 0.7608\n",
            "Epoch 39/200\n",
            "1852/1852 [==============================] - 6s 3ms/step - loss: 0.4283 - acc: 0.7651 - val_loss: 0.4322 - val_acc: 0.7609\n",
            "Epoch 40/200\n",
            "1852/1852 [==============================] - 6s 3ms/step - loss: 0.4280 - acc: 0.7653 - val_loss: 0.4320 - val_acc: 0.7596\n",
            "Epoch 41/200\n",
            "1852/1852 [==============================] - 6s 3ms/step - loss: 0.4277 - acc: 0.7645 - val_loss: 0.4304 - val_acc: 0.7580\n",
            "Epoch 42/200\n",
            "1852/1852 [==============================] - 6s 3ms/step - loss: 0.4272 - acc: 0.7662 - val_loss: 0.4325 - val_acc: 0.7614\n",
            "Epoch 43/200\n",
            "1852/1852 [==============================] - 6s 3ms/step - loss: 0.4271 - acc: 0.7665 - val_loss: 0.4300 - val_acc: 0.7634\n",
            "Epoch 44/200\n",
            "1852/1852 [==============================] - 6s 3ms/step - loss: 0.4267 - acc: 0.7651 - val_loss: 0.4315 - val_acc: 0.7620\n",
            "Epoch 45/200\n",
            "1852/1852 [==============================] - 6s 3ms/step - loss: 0.4263 - acc: 0.7661 - val_loss: 0.4329 - val_acc: 0.7584\n",
            "Epoch 46/200\n",
            "1852/1852 [==============================] - 6s 3ms/step - loss: 0.4260 - acc: 0.7657 - val_loss: 0.4295 - val_acc: 0.7604\n",
            "Epoch 47/200\n",
            "1852/1852 [==============================] - 6s 3ms/step - loss: 0.4254 - acc: 0.7661 - val_loss: 0.4350 - val_acc: 0.7614\n",
            "Epoch 48/200\n",
            "1852/1852 [==============================] - 6s 3ms/step - loss: 0.4252 - acc: 0.7666 - val_loss: 0.4307 - val_acc: 0.7607\n",
            "Epoch 49/200\n",
            "1852/1852 [==============================] - 7s 4ms/step - loss: 0.4248 - acc: 0.7663 - val_loss: 0.4294 - val_acc: 0.7598\n",
            "Epoch 50/200\n",
            "1852/1852 [==============================] - 6s 3ms/step - loss: 0.4246 - acc: 0.7661 - val_loss: 0.4310 - val_acc: 0.7586\n",
            "Epoch 51/200\n",
            "1852/1852 [==============================] - 6s 3ms/step - loss: 0.4241 - acc: 0.7679 - val_loss: 0.4296 - val_acc: 0.7615\n",
            "Epoch 52/200\n",
            "1852/1852 [==============================] - 6s 3ms/step - loss: 0.4242 - acc: 0.7681 - val_loss: 0.4313 - val_acc: 0.7590\n",
            "Epoch 53/200\n",
            "1852/1852 [==============================] - 6s 3ms/step - loss: 0.4233 - acc: 0.7683 - val_loss: 0.4301 - val_acc: 0.7605\n",
            "Epoch 54/200\n",
            "1852/1852 [==============================] - 6s 3ms/step - loss: 0.4230 - acc: 0.7686 - val_loss: 0.4306 - val_acc: 0.7584\n",
            "Epoch 55/200\n",
            "1852/1852 [==============================] - 6s 3ms/step - loss: 0.4226 - acc: 0.7682 - val_loss: 0.4317 - val_acc: 0.7599\n",
            "Epoch 56/200\n",
            "1852/1852 [==============================] - 6s 3ms/step - loss: 0.4226 - acc: 0.7687 - val_loss: 0.4303 - val_acc: 0.7600\n",
            "Epoch 57/200\n",
            "1852/1852 [==============================] - 6s 3ms/step - loss: 0.4222 - acc: 0.7684 - val_loss: 0.4303 - val_acc: 0.7590\n",
            "Epoch 58/200\n",
            "1852/1852 [==============================] - 6s 3ms/step - loss: 0.4215 - acc: 0.7683 - val_loss: 0.4320 - val_acc: 0.7601\n",
            "Epoch 59/200\n",
            "1852/1852 [==============================] - 7s 4ms/step - loss: 0.4216 - acc: 0.7696 - val_loss: 0.4305 - val_acc: 0.7596\n"
          ]
        },
        {
          "output_type": "execute_result",
          "data": {
            "text/plain": [
              "<keras.callbacks.History at 0x7fd587d81d10>"
            ]
          },
          "metadata": {},
          "execution_count": 82
        }
      ]
    },
    {
      "cell_type": "code",
      "source": [
        "#The model does not perform  better than the other one; however, h3 betters the score for the training set and also balanes out the variance issue (loss is lower for training\n",
        "#than validation and the opposite for accuracy)\n",
        "history=h3_logistic.fit(x = X_train, y = y_train, validation_data = (X_valid,y_valid), batch_size = 500, epochs = 100, shuffle = True )\n"
      ],
      "metadata": {
        "colab": {
          "base_uri": "https://localhost:8080/"
        },
        "id": "CsWvNv6ijkdL",
        "outputId": "2492a5d4-4683-4e98-daa5-b3f2a7ec3a3f"
      },
      "execution_count": null,
      "outputs": [
        {
          "output_type": "stream",
          "name": "stdout",
          "text": [
            "Epoch 1/100\n",
            "119/119 [==============================] - 1s 9ms/step - loss: 0.4196 - acc: 0.7704 - val_loss: 0.4285 - val_acc: 0.7613\n",
            "Epoch 2/100\n",
            "119/119 [==============================] - 1s 9ms/step - loss: 0.4186 - acc: 0.7725 - val_loss: 0.4285 - val_acc: 0.7610\n",
            "Epoch 3/100\n",
            "119/119 [==============================] - 1s 9ms/step - loss: 0.4182 - acc: 0.7724 - val_loss: 0.4287 - val_acc: 0.7597\n",
            "Epoch 4/100\n",
            "119/119 [==============================] - 1s 9ms/step - loss: 0.4180 - acc: 0.7731 - val_loss: 0.4287 - val_acc: 0.7617\n",
            "Epoch 5/100\n",
            "119/119 [==============================] - 1s 9ms/step - loss: 0.4177 - acc: 0.7726 - val_loss: 0.4289 - val_acc: 0.7612\n",
            "Epoch 6/100\n",
            "119/119 [==============================] - 1s 9ms/step - loss: 0.4176 - acc: 0.7724 - val_loss: 0.4289 - val_acc: 0.7611\n",
            "Epoch 7/100\n",
            "119/119 [==============================] - 1s 9ms/step - loss: 0.4174 - acc: 0.7738 - val_loss: 0.4292 - val_acc: 0.7609\n",
            "Epoch 8/100\n",
            "119/119 [==============================] - 1s 9ms/step - loss: 0.4173 - acc: 0.7731 - val_loss: 0.4292 - val_acc: 0.7606\n",
            "Epoch 9/100\n",
            "119/119 [==============================] - 1s 9ms/step - loss: 0.4172 - acc: 0.7738 - val_loss: 0.4293 - val_acc: 0.7624\n",
            "Epoch 10/100\n",
            "119/119 [==============================] - 1s 9ms/step - loss: 0.4172 - acc: 0.7730 - val_loss: 0.4295 - val_acc: 0.7623\n",
            "Epoch 11/100\n",
            "119/119 [==============================] - 1s 9ms/step - loss: 0.4171 - acc: 0.7724 - val_loss: 0.4294 - val_acc: 0.7612\n",
            "Epoch 12/100\n",
            "119/119 [==============================] - 1s 9ms/step - loss: 0.4170 - acc: 0.7732 - val_loss: 0.4294 - val_acc: 0.7614\n",
            "Epoch 13/100\n",
            "119/119 [==============================] - 1s 9ms/step - loss: 0.4169 - acc: 0.7741 - val_loss: 0.4297 - val_acc: 0.7608\n",
            "Epoch 14/100\n",
            "119/119 [==============================] - 1s 8ms/step - loss: 0.4167 - acc: 0.7731 - val_loss: 0.4298 - val_acc: 0.7606\n",
            "Epoch 15/100\n",
            "119/119 [==============================] - 1s 8ms/step - loss: 0.4167 - acc: 0.7724 - val_loss: 0.4304 - val_acc: 0.7616\n",
            "Epoch 16/100\n",
            "119/119 [==============================] - 1s 9ms/step - loss: 0.4167 - acc: 0.7727 - val_loss: 0.4296 - val_acc: 0.7610\n",
            "Epoch 17/100\n",
            "119/119 [==============================] - 1s 9ms/step - loss: 0.4164 - acc: 0.7733 - val_loss: 0.4300 - val_acc: 0.7606\n",
            "Epoch 18/100\n",
            "119/119 [==============================] - 1s 9ms/step - loss: 0.4164 - acc: 0.7725 - val_loss: 0.4301 - val_acc: 0.7597\n",
            "Epoch 19/100\n",
            "119/119 [==============================] - 1s 9ms/step - loss: 0.4163 - acc: 0.7741 - val_loss: 0.4300 - val_acc: 0.7605\n",
            "Epoch 20/100\n",
            "119/119 [==============================] - 1s 9ms/step - loss: 0.4162 - acc: 0.7734 - val_loss: 0.4298 - val_acc: 0.7620\n",
            "Epoch 21/100\n",
            "119/119 [==============================] - 1s 9ms/step - loss: 0.4162 - acc: 0.7731 - val_loss: 0.4306 - val_acc: 0.7622\n",
            "Epoch 22/100\n",
            "119/119 [==============================] - 1s 9ms/step - loss: 0.4162 - acc: 0.7721 - val_loss: 0.4298 - val_acc: 0.7629\n",
            "Epoch 23/100\n",
            "119/119 [==============================] - 1s 9ms/step - loss: 0.4158 - acc: 0.7737 - val_loss: 0.4301 - val_acc: 0.7609\n",
            "Epoch 24/100\n",
            "119/119 [==============================] - 1s 9ms/step - loss: 0.4159 - acc: 0.7722 - val_loss: 0.4301 - val_acc: 0.7603\n",
            "Epoch 25/100\n",
            "119/119 [==============================] - 1s 9ms/step - loss: 0.4156 - acc: 0.7735 - val_loss: 0.4305 - val_acc: 0.7619\n",
            "Epoch 26/100\n",
            "119/119 [==============================] - 1s 8ms/step - loss: 0.4155 - acc: 0.7739 - val_loss: 0.4305 - val_acc: 0.7600\n",
            "Epoch 27/100\n",
            "119/119 [==============================] - 1s 9ms/step - loss: 0.4153 - acc: 0.7737 - val_loss: 0.4302 - val_acc: 0.7624\n",
            "Epoch 28/100\n",
            "119/119 [==============================] - 1s 9ms/step - loss: 0.4154 - acc: 0.7732 - val_loss: 0.4300 - val_acc: 0.7597\n",
            "Epoch 29/100\n",
            "119/119 [==============================] - 1s 9ms/step - loss: 0.4151 - acc: 0.7740 - val_loss: 0.4297 - val_acc: 0.7606\n",
            "Epoch 30/100\n",
            "119/119 [==============================] - 1s 8ms/step - loss: 0.4151 - acc: 0.7731 - val_loss: 0.4305 - val_acc: 0.7596\n",
            "Epoch 31/100\n",
            "119/119 [==============================] - 1s 9ms/step - loss: 0.4149 - acc: 0.7735 - val_loss: 0.4302 - val_acc: 0.7596\n",
            "Epoch 32/100\n",
            "119/119 [==============================] - 1s 9ms/step - loss: 0.4147 - acc: 0.7734 - val_loss: 0.4301 - val_acc: 0.7614\n",
            "Epoch 33/100\n",
            "119/119 [==============================] - 1s 8ms/step - loss: 0.4147 - acc: 0.7741 - val_loss: 0.4305 - val_acc: 0.7612\n",
            "Epoch 34/100\n",
            "119/119 [==============================] - 1s 9ms/step - loss: 0.4146 - acc: 0.7736 - val_loss: 0.4313 - val_acc: 0.7621\n",
            "Epoch 35/100\n",
            "119/119 [==============================] - 1s 9ms/step - loss: 0.4146 - acc: 0.7743 - val_loss: 0.4302 - val_acc: 0.7625\n",
            "Epoch 36/100\n",
            "119/119 [==============================] - 1s 9ms/step - loss: 0.4144 - acc: 0.7734 - val_loss: 0.4298 - val_acc: 0.7607\n",
            "Epoch 37/100\n",
            "119/119 [==============================] - 1s 9ms/step - loss: 0.4141 - acc: 0.7745 - val_loss: 0.4301 - val_acc: 0.7594\n",
            "Epoch 38/100\n",
            "119/119 [==============================] - 1s 10ms/step - loss: 0.4141 - acc: 0.7734 - val_loss: 0.4303 - val_acc: 0.7616\n",
            "Epoch 39/100\n",
            "119/119 [==============================] - 1s 9ms/step - loss: 0.4137 - acc: 0.7752 - val_loss: 0.4307 - val_acc: 0.7613\n",
            "Epoch 40/100\n",
            "119/119 [==============================] - 1s 9ms/step - loss: 0.4136 - acc: 0.7742 - val_loss: 0.4311 - val_acc: 0.7612\n",
            "Epoch 41/100\n",
            "119/119 [==============================] - 1s 9ms/step - loss: 0.4133 - acc: 0.7743 - val_loss: 0.4303 - val_acc: 0.7619\n",
            "Epoch 42/100\n",
            "119/119 [==============================] - 1s 9ms/step - loss: 0.4132 - acc: 0.7754 - val_loss: 0.4307 - val_acc: 0.7616\n",
            "Epoch 43/100\n",
            "119/119 [==============================] - 1s 9ms/step - loss: 0.4135 - acc: 0.7745 - val_loss: 0.4305 - val_acc: 0.7630\n",
            "Epoch 44/100\n",
            "119/119 [==============================] - 1s 9ms/step - loss: 0.4130 - acc: 0.7744 - val_loss: 0.4301 - val_acc: 0.7624\n",
            "Epoch 45/100\n",
            "119/119 [==============================] - 1s 9ms/step - loss: 0.4128 - acc: 0.7748 - val_loss: 0.4322 - val_acc: 0.7599\n",
            "Epoch 46/100\n",
            "119/119 [==============================] - 1s 9ms/step - loss: 0.4128 - acc: 0.7751 - val_loss: 0.4303 - val_acc: 0.7636\n",
            "Epoch 47/100\n",
            "119/119 [==============================] - 1s 9ms/step - loss: 0.4125 - acc: 0.7752 - val_loss: 0.4306 - val_acc: 0.7617\n",
            "Epoch 48/100\n",
            "119/119 [==============================] - 1s 9ms/step - loss: 0.4123 - acc: 0.7750 - val_loss: 0.4297 - val_acc: 0.7610\n",
            "Epoch 49/100\n",
            "119/119 [==============================] - 1s 8ms/step - loss: 0.4121 - acc: 0.7738 - val_loss: 0.4306 - val_acc: 0.7620\n",
            "Epoch 50/100\n",
            "119/119 [==============================] - 1s 9ms/step - loss: 0.4123 - acc: 0.7754 - val_loss: 0.4308 - val_acc: 0.7603\n",
            "Epoch 51/100\n",
            "119/119 [==============================] - 1s 9ms/step - loss: 0.4119 - acc: 0.7754 - val_loss: 0.4312 - val_acc: 0.7604\n",
            "Epoch 52/100\n",
            "119/119 [==============================] - 1s 9ms/step - loss: 0.4116 - acc: 0.7751 - val_loss: 0.4320 - val_acc: 0.7609\n",
            "Epoch 53/100\n",
            "119/119 [==============================] - 1s 9ms/step - loss: 0.4116 - acc: 0.7760 - val_loss: 0.4313 - val_acc: 0.7628\n",
            "Epoch 54/100\n",
            "119/119 [==============================] - 1s 9ms/step - loss: 0.4114 - acc: 0.7759 - val_loss: 0.4319 - val_acc: 0.7587\n",
            "Epoch 55/100\n",
            "119/119 [==============================] - 1s 9ms/step - loss: 0.4119 - acc: 0.7750 - val_loss: 0.4310 - val_acc: 0.7600\n",
            "Epoch 56/100\n",
            "119/119 [==============================] - 1s 9ms/step - loss: 0.4112 - acc: 0.7747 - val_loss: 0.4318 - val_acc: 0.7607\n",
            "Epoch 57/100\n",
            "119/119 [==============================] - 1s 8ms/step - loss: 0.4109 - acc: 0.7760 - val_loss: 0.4304 - val_acc: 0.7616\n",
            "Epoch 58/100\n",
            "119/119 [==============================] - 1s 8ms/step - loss: 0.4109 - acc: 0.7760 - val_loss: 0.4310 - val_acc: 0.7613\n",
            "Epoch 59/100\n",
            "119/119 [==============================] - 1s 9ms/step - loss: 0.4110 - acc: 0.7741 - val_loss: 0.4311 - val_acc: 0.7598\n",
            "Epoch 60/100\n",
            "119/119 [==============================] - 1s 9ms/step - loss: 0.4107 - acc: 0.7743 - val_loss: 0.4307 - val_acc: 0.7617\n",
            "Epoch 61/100\n",
            "119/119 [==============================] - 1s 9ms/step - loss: 0.4103 - acc: 0.7766 - val_loss: 0.4310 - val_acc: 0.7602\n",
            "Epoch 62/100\n",
            "119/119 [==============================] - 1s 8ms/step - loss: 0.4102 - acc: 0.7757 - val_loss: 0.4308 - val_acc: 0.7601\n",
            "Epoch 63/100\n",
            "119/119 [==============================] - 1s 8ms/step - loss: 0.4098 - acc: 0.7762 - val_loss: 0.4310 - val_acc: 0.7606\n",
            "Epoch 64/100\n",
            "119/119 [==============================] - 1s 9ms/step - loss: 0.4100 - acc: 0.7767 - val_loss: 0.4312 - val_acc: 0.7616\n",
            "Epoch 65/100\n",
            "119/119 [==============================] - 1s 8ms/step - loss: 0.4102 - acc: 0.7763 - val_loss: 0.4310 - val_acc: 0.7603\n",
            "Epoch 66/100\n",
            "119/119 [==============================] - 1s 8ms/step - loss: 0.4097 - acc: 0.7774 - val_loss: 0.4309 - val_acc: 0.7602\n",
            "Epoch 67/100\n",
            "119/119 [==============================] - 1s 8ms/step - loss: 0.4096 - acc: 0.7777 - val_loss: 0.4319 - val_acc: 0.7615\n",
            "Epoch 68/100\n",
            "119/119 [==============================] - 1s 9ms/step - loss: 0.4095 - acc: 0.7765 - val_loss: 0.4303 - val_acc: 0.7617\n",
            "Epoch 69/100\n",
            "119/119 [==============================] - 1s 9ms/step - loss: 0.4093 - acc: 0.7776 - val_loss: 0.4315 - val_acc: 0.7591\n",
            "Epoch 70/100\n",
            "119/119 [==============================] - 1s 9ms/step - loss: 0.4089 - acc: 0.7776 - val_loss: 0.4313 - val_acc: 0.7633\n",
            "Epoch 71/100\n",
            "119/119 [==============================] - 1s 8ms/step - loss: 0.4090 - acc: 0.7768 - val_loss: 0.4309 - val_acc: 0.7603\n",
            "Epoch 72/100\n",
            "119/119 [==============================] - 1s 9ms/step - loss: 0.4089 - acc: 0.7772 - val_loss: 0.4317 - val_acc: 0.7595\n",
            "Epoch 73/100\n",
            "119/119 [==============================] - 1s 9ms/step - loss: 0.4088 - acc: 0.7765 - val_loss: 0.4341 - val_acc: 0.7601\n",
            "Epoch 74/100\n",
            "119/119 [==============================] - 1s 9ms/step - loss: 0.4091 - acc: 0.7773 - val_loss: 0.4322 - val_acc: 0.7621\n",
            "Epoch 75/100\n",
            "119/119 [==============================] - 1s 9ms/step - loss: 0.4082 - acc: 0.7778 - val_loss: 0.4319 - val_acc: 0.7626\n",
            "Epoch 76/100\n",
            "119/119 [==============================] - 1s 9ms/step - loss: 0.4079 - acc: 0.7769 - val_loss: 0.4315 - val_acc: 0.7624\n",
            "Epoch 77/100\n",
            "119/119 [==============================] - 1s 9ms/step - loss: 0.4079 - acc: 0.7784 - val_loss: 0.4315 - val_acc: 0.7602\n",
            "Epoch 78/100\n",
            "119/119 [==============================] - 1s 8ms/step - loss: 0.4082 - acc: 0.7777 - val_loss: 0.4318 - val_acc: 0.7599\n",
            "Epoch 79/100\n",
            "119/119 [==============================] - 1s 9ms/step - loss: 0.4084 - acc: 0.7770 - val_loss: 0.4318 - val_acc: 0.7607\n",
            "Epoch 80/100\n",
            "119/119 [==============================] - 1s 9ms/step - loss: 0.4072 - acc: 0.7782 - val_loss: 0.4316 - val_acc: 0.7605\n",
            "Epoch 81/100\n",
            "119/119 [==============================] - 1s 9ms/step - loss: 0.4076 - acc: 0.7775 - val_loss: 0.4315 - val_acc: 0.7613\n",
            "Epoch 82/100\n",
            "119/119 [==============================] - 1s 8ms/step - loss: 0.4073 - acc: 0.7771 - val_loss: 0.4308 - val_acc: 0.7609\n",
            "Epoch 83/100\n",
            "119/119 [==============================] - 1s 9ms/step - loss: 0.4071 - acc: 0.7785 - val_loss: 0.4313 - val_acc: 0.7600\n",
            "Epoch 84/100\n",
            "119/119 [==============================] - 1s 9ms/step - loss: 0.4072 - acc: 0.7770 - val_loss: 0.4319 - val_acc: 0.7609\n",
            "Epoch 85/100\n",
            "119/119 [==============================] - 1s 9ms/step - loss: 0.4069 - acc: 0.7774 - val_loss: 0.4324 - val_acc: 0.7603\n",
            "Epoch 86/100\n",
            "119/119 [==============================] - 1s 9ms/step - loss: 0.4068 - acc: 0.7772 - val_loss: 0.4319 - val_acc: 0.7621\n",
            "Epoch 87/100\n",
            "119/119 [==============================] - 1s 9ms/step - loss: 0.4064 - acc: 0.7777 - val_loss: 0.4317 - val_acc: 0.7630\n",
            "Epoch 88/100\n",
            "119/119 [==============================] - 1s 9ms/step - loss: 0.4063 - acc: 0.7792 - val_loss: 0.4322 - val_acc: 0.7632\n",
            "Epoch 89/100\n",
            "119/119 [==============================] - 1s 8ms/step - loss: 0.4071 - acc: 0.7783 - val_loss: 0.4338 - val_acc: 0.7605\n",
            "Epoch 90/100\n",
            "119/119 [==============================] - 1s 9ms/step - loss: 0.4065 - acc: 0.7784 - val_loss: 0.4344 - val_acc: 0.7598\n",
            "Epoch 91/100\n",
            "119/119 [==============================] - 1s 9ms/step - loss: 0.4059 - acc: 0.7792 - val_loss: 0.4333 - val_acc: 0.7604\n",
            "Epoch 92/100\n",
            "119/119 [==============================] - 1s 9ms/step - loss: 0.4057 - acc: 0.7788 - val_loss: 0.4315 - val_acc: 0.7603\n",
            "Epoch 93/100\n",
            "119/119 [==============================] - 1s 9ms/step - loss: 0.4058 - acc: 0.7794 - val_loss: 0.4311 - val_acc: 0.7623\n",
            "Epoch 94/100\n",
            "119/119 [==============================] - 1s 9ms/step - loss: 0.4061 - acc: 0.7785 - val_loss: 0.4331 - val_acc: 0.7617\n",
            "Epoch 95/100\n",
            "119/119 [==============================] - 1s 9ms/step - loss: 0.4057 - acc: 0.7782 - val_loss: 0.4322 - val_acc: 0.7602\n",
            "Epoch 96/100\n",
            "119/119 [==============================] - 1s 9ms/step - loss: 0.4052 - acc: 0.7784 - val_loss: 0.4327 - val_acc: 0.7601\n",
            "Epoch 97/100\n",
            "119/119 [==============================] - 1s 9ms/step - loss: 0.4054 - acc: 0.7790 - val_loss: 0.4319 - val_acc: 0.7625\n",
            "Epoch 98/100\n",
            "119/119 [==============================] - 1s 9ms/step - loss: 0.4052 - acc: 0.7785 - val_loss: 0.4319 - val_acc: 0.7619\n",
            "Epoch 99/100\n",
            "119/119 [==============================] - 1s 9ms/step - loss: 0.4053 - acc: 0.7788 - val_loss: 0.4326 - val_acc: 0.7600\n",
            "Epoch 100/100\n",
            "119/119 [==============================] - 1s 9ms/step - loss: 0.4048 - acc: 0.7795 - val_loss: 0.4319 - val_acc: 0.7592\n"
          ]
        }
      ]
    },
    {
      "cell_type": "code",
      "source": [
        "plt.figure(figsize=(10,10))\n",
        "plt.plot(history.history['acc'])\n",
        "plt.plot(history.history['val_acc'])\n",
        "plt.title('model accuracy')\n",
        "\n",
        "plt.ylabel('accuracy') #Plotting the accuracy of the model based on epochs for both validation and training set\n",
        "plt.xlabel('epochs')\n",
        "plt.legend(['trainining', 'validation'])\n",
        "\n",
        "\n",
        "plt.show()"
      ],
      "metadata": {
        "colab": {
          "base_uri": "https://localhost:8080/",
          "height": 621
        },
        "id": "pv48e96Jjl72",
        "outputId": "4455f090-8a0d-482f-8721-ef5212fb07b1"
      },
      "execution_count": null,
      "outputs": [
        {
          "output_type": "display_data",
          "data": {
            "image/png": "[encoded data removed]",
            "text/plain": [
              "<Figure size 720x720 with 1 Axes>"
            ]
          },
          "metadata": {
            "needs_background": "light"
          }
        }
      ]
    },
    {
      "cell_type": "code",
      "source": [
        "plt.plot(history.history['val_loss'],  label='val')\n",
        "plt.plot(history.history['loss'], label='train')\n",
        "plt.title('Loss')\n",
        "plt.xlabel('Epochs')\n",
        "plt.ylabel('Loss')\n",
        "plt.legend()\n",
        "plt.show()"
      ],
      "metadata": {
        "colab": {
          "base_uri": "https://localhost:8080/",
          "height": 295
        },
        "id": "S-iofHuyjmFl",
        "outputId": "32d21219-b247-4739-8bb3-7caaab11ab64"
      },
      "execution_count": null,
      "outputs": [
        {
          "output_type": "display_data",
          "data": {
            "image/png": "[encoded data removed]",
            "text/plain": [
              "<Figure size 432x288 with 1 Axes>"
            ]
          },
          "metadata": {
            "needs_background": "light"
          }
        }
      ]
    },
    {
      "cell_type": "code",
      "source": [
        "#The graphs above confirm what has been said above: the deeper models performs better in terms of trainining set, learning more from the data (but also possibly overfitting)\n",
        "#as epochs pass by while its loss diminishes. On the other hand, validation is here stable, both in terms of accuracy (<training accuracy) and loss (>training loss).\n",
        "#Below, the exact accuracies for both training and validation sets are reported (the final traning accuracy is far better than h2, the model with less neurons)"
      ],
      "metadata": {
        "id": "Z5_f_DAvjmKq"
      },
      "execution_count": null,
      "outputs": []
    },
    {
      "cell_type": "code",
      "source": [
        "print('Train Split: ')\n",
        "loss, accuracy = h3_logistic.evaluate(X_train, y_train, verbose=1)\n",
        "\n",
        "print(\"Accuracy   : {} \".format(accuracy))"
      ],
      "metadata": {
        "colab": {
          "base_uri": "https://localhost:8080/"
        },
        "id": "GEycxId6nQic",
        "outputId": "a30f2d44-ec01-40b9-ebc3-f2a651c45305"
      },
      "execution_count": null,
      "outputs": [
        {
          "output_type": "stream",
          "name": "stdout",
          "text": [
            "Train Split: \n",
            "1852/1852 [==============================] - 3s 1ms/step - loss: 0.4019 - acc: 0.7807\n",
            "Accuracy   : 0.7806878685951233 \n"
          ]
        }
      ]
    },
    {
      "cell_type": "code",
      "source": [
        "print('Evaluation Split: ')\n",
        "loss, accuracy =  h3_logistic.evaluate(X_valid, y_valid, verbose=2)\n",
        "\n",
        "print(\"Accuracy   : {} \".format(accuracy))"
      ],
      "metadata": {
        "colab": {
          "base_uri": "https://localhost:8080/"
        },
        "id": "B0_4wQ_qoEXT",
        "outputId": "0e255dfb-459c-4626-a99d-b7857db1880a"
      },
      "execution_count": null,
      "outputs": [
        {
          "output_type": "stream",
          "name": "stdout",
          "text": [
            "Evaluation Split: \n",
            "618/618 - 1s - loss: 0.4319 - acc: 0.7592 - 735ms/epoch - 1ms/step\n",
            "Accuracy   : 0.7592264413833618 \n"
          ]
        }
      ]
    },
    {
      "cell_type": "code",
      "source": [
        "#Finally, let's test the model on the test data\n",
        "\n",
        "\n",
        "y_predict_h3 = h3_logistic.predict(X_test)\n",
        "for i in range(len(y_predict_h3)):\n",
        "    if y_predict_h3[i] > 0.5:\n",
        "        y_predict_h3[i]=1\n",
        "    else:\n",
        "        y_predict_h3[i]=0\n",
        "# confusion_matrix\n",
        "cm = confusion_matrix(y_test, y_predict_h3)\n",
        "sns.heatmap(cm, annot=True, fmt=\"d\")"
      ],
      "metadata": {
        "colab": {
          "base_uri": "https://localhost:8080/",
          "height": 282
        },
        "id": "cDeVqDKctaRd",
        "outputId": "d83a701e-2042-4cb3-e81d-032c0f57293c"
      },
      "execution_count": null,
      "outputs": [
        {
          "output_type": "execute_result",
          "data": {
            "text/plain": [
              "<matplotlib.axes._subplots.AxesSubplot at 0x7fd587a0ee10>"
            ]
          },
          "metadata": {},
          "execution_count": 91
        },
        {
          "output_type": "display_data",
          "data": {
            "image/png": "[encoded data removed]",
            "text/plain": [
              "<Figure size 432x288 with 2 Axes>"
            ]
          },
          "metadata": {
            "needs_background": "light"
          }
        }
      ]
    },
    {
      "cell_type": "code",
      "source": [
        "print(f'The precision for the 0 (Non-white) class: {7539/(7539+2365)}') #TP/(TP+FP)\n",
        "print(f'The recall for the 0 class: {7539/(7539+2447)}') #TP/(TP+FN)\n",
        "print(f'The precision for the 1 (White) class: {7402/(7402+2447)}') #TN/(TN+FN)\n",
        "print(f'The recall for the 1 clas: {7402/(7402+2365)}') #TN/(TN+FP)\n",
        "\n",
        "#Due to the balancing techniques, the shallow and deep models return better, more balanced results that the classical models and show less overfitting\\underfitting patterns.\n",
        "#Note: apparently, these metrics have been removed from keras. It is possible to implement manually, but the code retrieved, althought functional, was behyond my comprehension.\n",
        "#As such, I have decided to apply the formulas I was familiar with to retrieve recall and precision for the two classes."
      ],
      "metadata": {
        "id": "UdwvJYQsvFWm",
        "colab": {
          "base_uri": "https://localhost:8080/"
        },
        "outputId": "aceedd4c-1cce-4448-e379-7430582c48b7"
      },
      "execution_count": null,
      "outputs": [
        {
          "output_type": "stream",
          "name": "stdout",
          "text": [
            "The precision for the 0 (Non-white) class: 0.7612075928917609\n",
            "The recall for the 0 class: 0.7549569397156018\n",
            "The precision for the 1 (White) class: 0.7515483805462484\n",
            "The recall for the 1 clas: 0.7578580935804239\n"
          ]
        }
      ]
    },
    {
      "cell_type": "code",
      "source": [
        ""
      ],
      "metadata": {
        "id": "y6Y3YCefpoUf"
      },
      "execution_count": null,
      "outputs": []
    }
  ]
}