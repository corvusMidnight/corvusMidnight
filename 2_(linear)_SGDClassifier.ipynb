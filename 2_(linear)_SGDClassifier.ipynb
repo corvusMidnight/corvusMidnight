{
  "cells": [
    {
      "cell_type": "markdown",
      "metadata": {
        "id": "view-in-github",
        "colab_type": "text"
      },
      "source": [
        "<a href=\"https://colab.research.google.com/github/corvusMidnight/corvusMidnight/blob/main/2_(linear)_SGDClassifier.ipynb\" target=\"_parent\"><img src=\"https://colab.research.google.com/assets/colab-badge.svg\" alt=\"Open In Colab\"/></a>"
      ]
    },
    {
      "cell_type": "code",
      "execution_count": null,
      "id": "97042ce9",
      "metadata": {
        "id": "97042ce9"
      },
      "outputs": [],
      "source": [
        "#General\n",
        "import pandas as pd\n",
        "import numpy as np\n",
        "import matplotlib.pyplot as plt\n",
        "import seaborn as sns\n",
        "%matplotlib inline\n",
        "import sklearn \n",
        "\n",
        "#Sampling\n",
        "import imblearn\n",
        "from imblearn.combine import SMOTETomek \n",
        "from imblearn.over_sampling import SMOTE\n",
        "from imblearn.under_sampling import RandomUnderSampler\n",
        "from matplotlib import pyplot\n",
        "from numpy import where\n",
        "from imblearn.under_sampling import OneSidedSelection\n",
        "from imblearn.under_sampling import TomekLinks\n",
        "from imblearn.over_sampling import BorderlineSMOTE\n",
        "from imblearn.over_sampling import ADASYN\n",
        "\n",
        "#Machine Learning algorithm\n",
        "from sklearn.neighbors import KNeighborsClassifier\n",
        "from sklearn.linear_model import SGDClassifier\n",
        "\n",
        "#Evaluation tools\n",
        "from sklearn.datasets import make_classification\n",
        "from sklearn.metrics import classification_report, confusion_matrix, plot_confusion_matrix, accuracy_score, f1_score\n",
        "from sklearn.metrics import r2_score, mean_squared_error\n",
        "from sklearn.model_selection import train_test_split, GridSearchCV\n",
        "from sklearn.model_selection import cross_val_score\n",
        "from sklearn.model_selection import learning_curve, validation_curve\n",
        "from sklearn.metrics import make_scorer\n",
        "from imblearn.metrics import geometric_mean_score\n",
        "from sklearn.dummy import DummyClassifier\n",
        "\n",
        "#Pipeline\n",
        "from sklearn.pipeline import make_pipeline\n",
        "from imblearn.pipeline import Pipeline\n",
        "from sklearn.compose import ColumnTransformer\n",
        "from sklearn.compose import make_column_transformer\n",
        "\n",
        "#Pipeline visualization\n",
        "from sklearn import set_config\n",
        "from sklearn.utils import estimator_html_repr\n",
        "\n",
        "#Pipeline display mode\n",
        "set_config(display='diagram')\n",
        "\n",
        "\n",
        "#Imputers\n",
        "from sklearn.experimental import enable_iterative_imputer\n",
        "from sklearn.impute import IterativeImputer\n",
        "from sklearn.impute import KNNImputer\n",
        "\n",
        "#Scalers\n",
        "from sklearn.preprocessing import MinMaxScaler\n",
        "from sklearn.preprocessing import minmax_scale\n",
        "from sklearn.preprocessing import MaxAbsScaler\n",
        "from sklearn.preprocessing import StandardScaler\n",
        "from sklearn.preprocessing import RobustScaler\n",
        "from sklearn.preprocessing import Normalizer\n",
        "from sklearn.preprocessing import QuantileTransformer\n",
        "from sklearn.preprocessing import PowerTransformer\n",
        "\n",
        "#OneHotEncoder\n",
        "from sklearn.preprocessing import OneHotEncoder\n",
        "from sklearn.preprocessing import LabelEncoder\n",
        "\n",
        "#Model tuning\n",
        "from sklearn.model_selection import GridSearchCV, StratifiedKFold\n",
        "#from tune_sklearn import TuneGridSearchCV\n",
        "#from tune_sklearn import TuneSearchCV\n",
        "\n",
        "\n",
        "\n",
        "#Ignore warnings\n",
        "import warnings\n",
        "from warnings import simplefilter"
      ]
    },
    {
      "cell_type": "markdown",
      "id": "e321fe5b",
      "metadata": {
        "id": "e321fe5b"
      },
      "source": [
        "# Data"
      ]
    },
    {
      "cell_type": "code",
      "execution_count": null,
      "id": "99bb6b1e",
      "metadata": {
        "id": "99bb6b1e"
      },
      "outputs": [],
      "source": [
        "#Loading the dataframe\n",
        "url = 'https://raw.githubusercontent.com/corvusMidnight/ml_I-II/main/Datasets/final_dataframe_(df3).csv?token=GHSAT0AAAAAABNKWUMGONFOPTHZW4TFBH4UYPBKJSA'\n",
        "df = pd.read_csv(url)"
      ]
    },
    {
      "cell_type": "code",
      "execution_count": null,
      "id": "eebef1cf",
      "metadata": {
        "id": "eebef1cf",
        "colab": {
          "base_uri": "https://localhost:8080/"
        },
        "outputId": "abdcd46a-b678-44dc-9ca9-334aaa138760"
      },
      "outputs": [
        {
          "output_type": "stream",
          "name": "stderr",
          "text": [
            "/usr/local/lib/python3.7/dist-packages/ipykernel_launcher.py:7: SettingWithCopyWarning: \n",
            "A value is trying to be set on a copy of a slice from a DataFrame.\n",
            "Try using .loc[row_indexer,col_indexer] = value instead\n",
            "\n",
            "See the caveats in the documentation: https://pandas.pydata.org/pandas-docs/stable/user_guide/indexing.html#returning-a-view-versus-a-copy\n",
            "  import sys\n",
            "/usr/local/lib/python3.7/dist-packages/ipykernel_launcher.py:8: SettingWithCopyWarning: \n",
            "A value is trying to be set on a copy of a slice from a DataFrame.\n",
            "Try using .loc[row_indexer,col_indexer] = value instead\n",
            "\n",
            "See the caveats in the documentation: https://pandas.pydata.org/pandas-docs/stable/user_guide/indexing.html#returning-a-view-versus-a-copy\n",
            "  \n"
          ]
        }
      ],
      "source": [
        "#Dropping output NAs values\n",
        "df = df[df['race'].notna()]\n",
        "\n",
        "#Because LabelEncoder is not available anymore in sklearn for input variables and OneHotEncoder() cause serious runtime issues\n",
        "#when ecnoding the 'neighborhood' column, the latter has been simply factorized.\n",
        "\n",
        "df['neighborhood'] = pd.factorize(df.neighborhood)[0]\n",
        "df['preRace'] = pd.factorize(df.preRace)[0] #Same as above"
      ]
    },
    {
      "cell_type": "code",
      "execution_count": null,
      "id": "bfb01e8a",
      "metadata": {
        "colab": {
          "base_uri": "https://localhost:8080/",
          "height": 206
        },
        "id": "bfb01e8a",
        "outputId": "41611ea6-014d-46c9-96eb-6d7db4d62e58"
      },
      "outputs": [
        {
          "output_type": "execute_result",
          "data": {
            "text/html": [
              "\n",
              "  <div id=\"df-2762a548-0746-4d21-a14b-bfe8f6a59b8d\">\n",
              "    <div class=\"colab-df-container\">\n",
              "      <div>\n",
              "<style scoped>\n",
              "    .dataframe tbody tr th:only-of-type {\n",
              "        vertical-align: middle;\n",
              "    }\n",
              "\n",
              "    .dataframe tbody tr th {\n",
              "        vertical-align: top;\n",
              "    }\n",
              "\n",
              "    .dataframe thead th {\n",
              "        text-align: right;\n",
              "    }\n",
              "</style>\n",
              "<table border=\"1\" class=\"dataframe\">\n",
              "  <thead>\n",
              "    <tr style=\"text-align: right;\">\n",
              "      <th></th>\n",
              "      <th>Unnamed: 0</th>\n",
              "      <th>problem</th>\n",
              "      <th>personSearch</th>\n",
              "      <th>vehicleSearch</th>\n",
              "      <th>preRace</th>\n",
              "      <th>race</th>\n",
              "      <th>gender</th>\n",
              "      <th>lat</th>\n",
              "      <th>long</th>\n",
              "      <th>policePrecinct</th>\n",
              "      <th>neighborhood</th>\n",
              "    </tr>\n",
              "  </thead>\n",
              "  <tbody>\n",
              "    <tr>\n",
              "      <th>0</th>\n",
              "      <td>2</td>\n",
              "      <td>Traffic Law Enforcement (P)</td>\n",
              "      <td>1.0</td>\n",
              "      <td>1.0</td>\n",
              "      <td>0</td>\n",
              "      <td>White</td>\n",
              "      <td>2.0</td>\n",
              "      <td>44.948350</td>\n",
              "      <td>-93.275380</td>\n",
              "      <td>5.0</td>\n",
              "      <td>0</td>\n",
              "    </tr>\n",
              "    <tr>\n",
              "      <th>1</th>\n",
              "      <td>3</td>\n",
              "      <td>Suspicious Person (P)</td>\n",
              "      <td>1.0</td>\n",
              "      <td>1.0</td>\n",
              "      <td>0</td>\n",
              "      <td>Non-white</td>\n",
              "      <td>1.0</td>\n",
              "      <td>44.948360</td>\n",
              "      <td>-93.281350</td>\n",
              "      <td>5.0</td>\n",
              "      <td>0</td>\n",
              "    </tr>\n",
              "    <tr>\n",
              "      <th>2</th>\n",
              "      <td>4</td>\n",
              "      <td>Traffic Law Enforcement (P)</td>\n",
              "      <td>1.0</td>\n",
              "      <td>1.0</td>\n",
              "      <td>0</td>\n",
              "      <td>White</td>\n",
              "      <td>2.0</td>\n",
              "      <td>44.979078</td>\n",
              "      <td>-93.262076</td>\n",
              "      <td>1.0</td>\n",
              "      <td>1</td>\n",
              "    </tr>\n",
              "    <tr>\n",
              "      <th>3</th>\n",
              "      <td>5</td>\n",
              "      <td>Traffic Law Enforcement (P)</td>\n",
              "      <td>1.0</td>\n",
              "      <td>1.0</td>\n",
              "      <td>0</td>\n",
              "      <td>Non-white</td>\n",
              "      <td>1.0</td>\n",
              "      <td>44.980535</td>\n",
              "      <td>-93.263627</td>\n",
              "      <td>1.0</td>\n",
              "      <td>1</td>\n",
              "    </tr>\n",
              "    <tr>\n",
              "      <th>4</th>\n",
              "      <td>6</td>\n",
              "      <td>Suspicious Person (P)</td>\n",
              "      <td>1.0</td>\n",
              "      <td>1.0</td>\n",
              "      <td>0</td>\n",
              "      <td>Non-white</td>\n",
              "      <td>1.0</td>\n",
              "      <td>44.980808</td>\n",
              "      <td>-93.273141</td>\n",
              "      <td>1.0</td>\n",
              "      <td>1</td>\n",
              "    </tr>\n",
              "  </tbody>\n",
              "</table>\n",
              "</div>\n",
              "      <button class=\"colab-df-convert\" onclick=\"convertToInteractive('df-2762a548-0746-4d21-a14b-bfe8f6a59b8d')\"\n",
              "              title=\"Convert this dataframe to an interactive table.\"\n",
              "              style=\"display:none;\">\n",
              "        \n",
              "  <svg xmlns=\"http://www.w3.org/2000/svg\" height=\"24px\"viewBox=\"0 0 24 24\"\n",
              "       width=\"24px\">\n",
              "    <path d=\"M0 0h24v24H0V0z\" fill=\"none\"/>\n",
              "    <path d=\"M18.56 5.44l.94 2.06.94-2.06 2.06-.94-2.06-.94-.94-2.06-.94 2.06-2.06.94zm-11 1L8.5 8.5l.94-2.06 2.06-.94-2.06-.94L8.5 2.5l-.94 2.06-2.06.94zm10 10l.94 2.06.94-2.06 2.06-.94-2.06-.94-.94-2.06-.94 2.06-2.06.94z\"/><path d=\"M17.41 7.96l-1.37-1.37c-.4-.4-.92-.59-1.43-.59-.52 0-1.04.2-1.43.59L10.3 9.45l-7.72 7.72c-.78.78-.78 2.05 0 2.83L4 21.41c.39.39.9.59 1.41.59.51 0 1.02-.2 1.41-.59l7.78-7.78 2.81-2.81c.8-.78.8-2.07 0-2.86zM5.41 20L4 18.59l7.72-7.72 1.47 1.35L5.41 20z\"/>\n",
              "  </svg>\n",
              "      </button>\n",
              "      \n",
              "  <style>\n",
              "    .colab-df-container {\n",
              "      display:flex;\n",
              "      flex-wrap:wrap;\n",
              "      gap: 12px;\n",
              "    }\n",
              "\n",
              "    .colab-df-convert {\n",
              "      background-color: #E8F0FE;\n",
              "      border: none;\n",
              "      border-radius: 50%;\n",
              "      cursor: pointer;\n",
              "      display: none;\n",
              "      fill: #1967D2;\n",
              "      height: 32px;\n",
              "      padding: 0 0 0 0;\n",
              "      width: 32px;\n",
              "    }\n",
              "\n",
              "    .colab-df-convert:hover {\n",
              "      background-color: #E2EBFA;\n",
              "      box-shadow: 0px 1px 2px rgba(60, 64, 67, 0.3), 0px 1px 3px 1px rgba(60, 64, 67, 0.15);\n",
              "      fill: #174EA6;\n",
              "    }\n",
              "\n",
              "    [theme=dark] .colab-df-convert {\n",
              "      background-color: #3B4455;\n",
              "      fill: #D2E3FC;\n",
              "    }\n",
              "\n",
              "    [theme=dark] .colab-df-convert:hover {\n",
              "      background-color: #434B5C;\n",
              "      box-shadow: 0px 1px 3px 1px rgba(0, 0, 0, 0.15);\n",
              "      filter: drop-shadow(0px 1px 2px rgba(0, 0, 0, 0.3));\n",
              "      fill: #FFFFFF;\n",
              "    }\n",
              "  </style>\n",
              "\n",
              "      <script>\n",
              "        const buttonEl =\n",
              "          document.querySelector('#df-2762a548-0746-4d21-a14b-bfe8f6a59b8d button.colab-df-convert');\n",
              "        buttonEl.style.display =\n",
              "          google.colab.kernel.accessAllowed ? 'block' : 'none';\n",
              "\n",
              "        async function convertToInteractive(key) {\n",
              "          const element = document.querySelector('#df-2762a548-0746-4d21-a14b-bfe8f6a59b8d');\n",
              "          const dataTable =\n",
              "            await google.colab.kernel.invokeFunction('convertToInteractive',\n",
              "                                                     [key], {});\n",
              "          if (!dataTable) return;\n",
              "\n",
              "          const docLinkHtml = 'Like what you see? Visit the ' +\n",
              "            '<a target=\"_blank\" href=https://colab.research.google.com/notebooks/data_table.ipynb>data table notebook</a>'\n",
              "            + ' to learn more about interactive tables.';\n",
              "          element.innerHTML = '';\n",
              "          dataTable['output_type'] = 'display_data';\n",
              "          await google.colab.output.renderOutput(dataTable, element);\n",
              "          const docLink = document.createElement('div');\n",
              "          docLink.innerHTML = docLinkHtml;\n",
              "          element.appendChild(docLink);\n",
              "        }\n",
              "      </script>\n",
              "    </div>\n",
              "  </div>\n",
              "  "
            ],
            "text/plain": [
              "   Unnamed: 0                      problem  ...  policePrecinct  neighborhood\n",
              "0           2  Traffic Law Enforcement (P)  ...             5.0             0\n",
              "1           3        Suspicious Person (P)  ...             5.0             0\n",
              "2           4  Traffic Law Enforcement (P)  ...             1.0             1\n",
              "3           5  Traffic Law Enforcement (P)  ...             1.0             1\n",
              "4           6        Suspicious Person (P)  ...             1.0             1\n",
              "\n",
              "[5 rows x 11 columns]"
            ]
          },
          "metadata": {},
          "execution_count": 4
        }
      ],
      "source": [
        "df.head()"
      ]
    },
    {
      "cell_type": "code",
      "execution_count": null,
      "id": "1cc3bc4f",
      "metadata": {
        "colab": {
          "base_uri": "https://localhost:8080/"
        },
        "id": "1cc3bc4f",
        "outputId": "b164db70-5a87-4db3-de4e-69b67d24521f"
      },
      "outputs": [
        {
          "output_type": "execute_result",
          "data": {
            "text/plain": [
              "Unnamed: 0          0\n",
              "problem             0\n",
              "personSearch        0\n",
              "vehicleSearch       0\n",
              "preRace             0\n",
              "race                0\n",
              "gender             45\n",
              "lat                 0\n",
              "long                0\n",
              "policePrecinct    150\n",
              "neighborhood        0\n",
              "dtype: int64"
            ]
          },
          "metadata": {},
          "execution_count": 5
        }
      ],
      "source": [
        "#NA values\n",
        "\n",
        "df.isnull().sum()"
      ]
    },
    {
      "cell_type": "code",
      "execution_count": null,
      "id": "c901c07e",
      "metadata": {
        "colab": {
          "base_uri": "https://localhost:8080/"
        },
        "id": "c901c07e",
        "outputId": "8b8161b7-0e3d-4ce6-adf6-919c3a86552c"
      },
      "outputs": [
        {
          "output_type": "stream",
          "name": "stdout",
          "text": [
            "Numerical columns: ['vehicleSearch', 'long', 'personSearch', 'Unnamed: 0', 'preRace', 'neighborhood', 'lat', 'gender', 'policePrecinct']\n",
            "Categorical columns: ['race', 'problem']\n"
          ]
        }
      ],
      "source": [
        "#Which columns are numerical? Which are categoricals?\n",
        "numCols = df.select_dtypes(\"number\").columns\n",
        "catCols = df.select_dtypes(\"object\").columns\n",
        "numCols= list(set(numCols))\n",
        "catCols= list(set(catCols))\n",
        "\n",
        "print(f'Numerical columns: {numCols}')\n",
        "print(f'Categorical columns: {catCols}')     "
      ]
    },
    {
      "cell_type": "code",
      "execution_count": null,
      "id": "1ece544c",
      "metadata": {
        "colab": {
          "base_uri": "https://localhost:8080/"
        },
        "id": "1ece544c",
        "outputId": "ca1811ff-4a6b-4f7e-a325-48cc2b8fd97f"
      },
      "outputs": [
        {
          "output_type": "stream",
          "name": "stdout",
          "text": [
            "Columns that need an imputer and an encoder: []\n",
            "Columns that need OneHotEncoder: ['race', 'problem']\n"
          ]
        }
      ],
      "source": [
        "imp_encoder_cols=[] #Columns that need both an imputer and an encoder\n",
        "encoder_cols=[]     #Columns that only need the encoder\n",
        "\n",
        "#For loop\n",
        "for col in catCols:\n",
        "    if df[col].isnull().sum() != 0:\n",
        "        imp_encoder_cols.append(col)\n",
        "    else:\n",
        "        encoder_cols.append(col)\n",
        "        \n",
        "print(f'Columns that need an imputer and an encoder: {imp_encoder_cols}')\n",
        "print(f'Columns that need OneHotEncoder: {encoder_cols}')\n"
      ]
    },
    {
      "cell_type": "markdown",
      "id": "0654d8bc",
      "metadata": {
        "id": "0654d8bc"
      },
      "source": [
        "# SGDClassifier"
      ]
    },
    {
      "cell_type": "code",
      "execution_count": null,
      "id": "78559866",
      "metadata": {
        "colab": {
          "base_uri": "https://localhost:8080/"
        },
        "id": "78559866",
        "outputId": "80305cda-c13b-444a-f830-b873645bb5e9"
      },
      "outputs": [
        {
          "output_type": "execute_result",
          "data": {
            "text/plain": [
              "{'alpha': 0.0001,\n",
              " 'average': False,\n",
              " 'class_weight': None,\n",
              " 'early_stopping': False,\n",
              " 'epsilon': 0.1,\n",
              " 'eta0': 0.0,\n",
              " 'fit_intercept': True,\n",
              " 'l1_ratio': 0.15,\n",
              " 'learning_rate': 'optimal',\n",
              " 'loss': 'hinge',\n",
              " 'max_iter': 1000,\n",
              " 'n_iter_no_change': 5,\n",
              " 'n_jobs': None,\n",
              " 'penalty': 'l2',\n",
              " 'power_t': 0.5,\n",
              " 'random_state': None,\n",
              " 'shuffle': True,\n",
              " 'tol': 0.001,\n",
              " 'validation_fraction': 0.1,\n",
              " 'verbose': 0,\n",
              " 'warm_start': False}"
            ]
          },
          "metadata": {},
          "execution_count": 8
        }
      ],
      "source": [
        "#Model\n",
        "sgd = SGDClassifier()\n",
        "sgd.get_params()"
      ]
    },
    {
      "cell_type": "code",
      "execution_count": null,
      "id": "82232ca6",
      "metadata": {
        "colab": {
          "base_uri": "https://localhost:8080/"
        },
        "id": "82232ca6",
        "outputId": "0a2326d5-5fb9-438a-990a-889a9b6a36d2"
      },
      "outputs": [
        {
          "output_type": "execute_result",
          "data": {
            "text/plain": [
              "((53306, 9), (9365, 9), (53306,), (9365,), (9365, 9), (9365,))"
            ]
          },
          "metadata": {},
          "execution_count": 9
        }
      ],
      "source": [
        "#Input\n",
        "X = df[['problem', 'vehicleSearch', 'preRace', 'personSearch', 'gender', 'policePrecinct', 'lat', 'long', 'neighborhood']]\n",
        "y = df['race']\n",
        "\n",
        "\n",
        "#Split\n",
        "\n",
        "#Split into training and remaining data (70/30)\n",
        "X_train, X_rem, y_train, y_rem = train_test_split(X, y, test_size=.26, shuffle=True, random_state=42)\n",
        "\n",
        "#Split into test and validation data (15/15)\n",
        "X_valid, X_test, y_valid, y_test = train_test_split(X_rem,y_rem, test_size=0.5)\n",
        "\n",
        "#Shape\n",
        "X_train.shape, X_test.shape, y_train.shape, y_test.shape, X_valid.shape, y_valid.shape"
      ]
    },
    {
      "cell_type": "code",
      "execution_count": null,
      "id": "7409f2a4",
      "metadata": {
        "colab": {
          "base_uri": "https://localhost:8080/"
        },
        "id": "7409f2a4",
        "outputId": "b3d11538-cfa1-459d-daa1-775373677b71"
      },
      "outputs": [
        {
          "output_type": "stream",
          "name": "stdout",
          "text": [
            "<class 'pandas.core.frame.DataFrame'>\n",
            "Int64Index: 72036 entries, 0 to 82294\n",
            "Data columns (total 11 columns):\n",
            " #   Column          Non-Null Count  Dtype  \n",
            "---  ------          --------------  -----  \n",
            " 0   Unnamed: 0      72036 non-null  int64  \n",
            " 1   problem         72036 non-null  object \n",
            " 2   personSearch    72036 non-null  float64\n",
            " 3   vehicleSearch   72036 non-null  float64\n",
            " 4   preRace         72036 non-null  int64  \n",
            " 5   race            72036 non-null  object \n",
            " 6   gender          71991 non-null  float64\n",
            " 7   lat             72036 non-null  float64\n",
            " 8   long            72036 non-null  float64\n",
            " 9   policePrecinct  71886 non-null  float64\n",
            " 10  neighborhood    72036 non-null  int64  \n",
            "dtypes: float64(6), int64(3), object(2)\n",
            "memory usage: 6.6+ MB\n",
            "None\n",
            "Unnamed: 0          0\n",
            "problem             0\n",
            "personSearch        0\n",
            "vehicleSearch       0\n",
            "preRace             0\n",
            "race                0\n",
            "gender             45\n",
            "lat                 0\n",
            "long                0\n",
            "policePrecinct    150\n",
            "neighborhood        0\n",
            "dtype: int64\n"
          ]
        }
      ],
      "source": [
        "print(df.info())\n",
        "print(df.isnull().sum())"
      ]
    },
    {
      "cell_type": "code",
      "execution_count": null,
      "id": "a82ad541",
      "metadata": {
        "colab": {
          "base_uri": "https://localhost:8080/"
        },
        "id": "a82ad541",
        "outputId": "cabe1b3a-88ce-4ca8-a8c5-c4e9d904cc40"
      },
      "outputs": [
        {
          "output_type": "execute_result",
          "data": {
            "text/plain": [
              "{'columntransformer': ColumnTransformer(remainder='passthrough',\n",
              "                   transformers=[('knnimputer', KNNImputer(),\n",
              "                                  ['policePrecinct', 'gender']),\n",
              "                                 ('standardscaler', StandardScaler(),\n",
              "                                  ['long', 'lat']),\n",
              "                                 ('onehotencoder',\n",
              "                                  OneHotEncoder(handle_unknown='ignore'),\n",
              "                                  ['problem', 'preRace'])]),\n",
              " 'sgdclassifier': SGDClassifier()}"
            ]
          },
          "metadata": {},
          "execution_count": 11
        }
      ],
      "source": [
        "#Preprocessors definitions\n",
        "enc = OneHotEncoder()\n",
        "imputer = KNNImputer()\n",
        "lenc = LabelEncoder()\n",
        "scaler1 = StandardScaler()\n",
        "scaler2 = RobustScaler()\n",
        "\n",
        "#Numerical values\n",
        "#*Note*: some numeric variables are random binaries: i.e., binaries that indicate whether an event/condition\n",
        "#happened or not). These features do not need scaling.\n",
        "num_pre_1 = (imputer) #Columns that need only an imputer: policePrecinct, gender\n",
        "num_pre_2 = (scaler1) #Columns that only need a scaler: long, lat\n",
        "\n",
        "#Categorical values\n",
        "#The only columns that needs an encoder, at this point, is the problem column.\n",
        "\n",
        "#Preprocessor\n",
        "preprocessor = make_column_transformer(\n",
        "    (num_pre_1, ['policePrecinct', 'gender']),\n",
        "    (num_pre_2, ['long', 'lat']),\n",
        "    (OneHotEncoder(handle_unknown = 'ignore'), ['problem', 'preRace']),\n",
        "    remainder='passthrough'\n",
        ")\n",
        "\n",
        "#pipeline\n",
        "pipe = make_pipeline(preprocessor, sgd)\n",
        "pipe.named_steps"
      ]
    },
    {
      "cell_type": "code",
      "execution_count": null,
      "id": "64fc510e",
      "metadata": {
        "id": "64fc510e",
        "outputId": "46a47e62-1d03-4150-854a-c43ec07f0eb5",
        "colab": {
          "base_uri": "https://localhost:8080/",
          "height": 192
        }
      },
      "outputs": [
        {
          "output_type": "execute_result",
          "data": {
            "text/html": [
              "<style>#sk-cb41b14a-4aa3-4b3d-a1f5-a316f727a6e3 {color: black;background-color: white;}#sk-cb41b14a-4aa3-4b3d-a1f5-a316f727a6e3 pre{padding: 0;}#sk-cb41b14a-4aa3-4b3d-a1f5-a316f727a6e3 div.sk-toggleable {background-color: white;}#sk-cb41b14a-4aa3-4b3d-a1f5-a316f727a6e3 label.sk-toggleable__label {cursor: pointer;display: block;width: 100%;margin-bottom: 0;padding: 0.3em;box-sizing: border-box;text-align: center;}#sk-cb41b14a-4aa3-4b3d-a1f5-a316f727a6e3 label.sk-toggleable__label-arrow:before {content: \"▸\";float: left;margin-right: 0.25em;color: #696969;}#sk-cb41b14a-4aa3-4b3d-a1f5-a316f727a6e3 label.sk-toggleable__label-arrow:hover:before {color: black;}#sk-cb41b14a-4aa3-4b3d-a1f5-a316f727a6e3 div.sk-estimator:hover label.sk-toggleable__label-arrow:before {color: black;}#sk-cb41b14a-4aa3-4b3d-a1f5-a316f727a6e3 div.sk-toggleable__content {max-height: 0;max-width: 0;overflow: hidden;text-align: left;background-color: #f0f8ff;}#sk-cb41b14a-4aa3-4b3d-a1f5-a316f727a6e3 div.sk-toggleable__content pre {margin: 0.2em;color: black;border-radius: 0.25em;background-color: #f0f8ff;}#sk-cb41b14a-4aa3-4b3d-a1f5-a316f727a6e3 input.sk-toggleable__control:checked~div.sk-toggleable__content {max-height: 200px;max-width: 100%;overflow: auto;}#sk-cb41b14a-4aa3-4b3d-a1f5-a316f727a6e3 input.sk-toggleable__control:checked~label.sk-toggleable__label-arrow:before {content: \"▾\";}#sk-cb41b14a-4aa3-4b3d-a1f5-a316f727a6e3 div.sk-estimator input.sk-toggleable__control:checked~label.sk-toggleable__label {background-color: #d4ebff;}#sk-cb41b14a-4aa3-4b3d-a1f5-a316f727a6e3 div.sk-label input.sk-toggleable__control:checked~label.sk-toggleable__label {background-color: #d4ebff;}#sk-cb41b14a-4aa3-4b3d-a1f5-a316f727a6e3 input.sk-hidden--visually {border: 0;clip: rect(1px 1px 1px 1px);clip: rect(1px, 1px, 1px, 1px);height: 1px;margin: -1px;overflow: hidden;padding: 0;position: absolute;width: 1px;}#sk-cb41b14a-4aa3-4b3d-a1f5-a316f727a6e3 div.sk-estimator {font-family: monospace;background-color: #f0f8ff;border: 1px dotted black;border-radius: 0.25em;box-sizing: border-box;margin-bottom: 0.5em;}#sk-cb41b14a-4aa3-4b3d-a1f5-a316f727a6e3 div.sk-estimator:hover {background-color: #d4ebff;}#sk-cb41b14a-4aa3-4b3d-a1f5-a316f727a6e3 div.sk-parallel-item::after {content: \"\";width: 100%;border-bottom: 1px solid gray;flex-grow: 1;}#sk-cb41b14a-4aa3-4b3d-a1f5-a316f727a6e3 div.sk-label:hover label.sk-toggleable__label {background-color: #d4ebff;}#sk-cb41b14a-4aa3-4b3d-a1f5-a316f727a6e3 div.sk-serial::before {content: \"\";position: absolute;border-left: 1px solid gray;box-sizing: border-box;top: 2em;bottom: 0;left: 50%;}#sk-cb41b14a-4aa3-4b3d-a1f5-a316f727a6e3 div.sk-serial {display: flex;flex-direction: column;align-items: center;background-color: white;padding-right: 0.2em;padding-left: 0.2em;}#sk-cb41b14a-4aa3-4b3d-a1f5-a316f727a6e3 div.sk-item {z-index: 1;}#sk-cb41b14a-4aa3-4b3d-a1f5-a316f727a6e3 div.sk-parallel {display: flex;align-items: stretch;justify-content: center;background-color: white;}#sk-cb41b14a-4aa3-4b3d-a1f5-a316f727a6e3 div.sk-parallel::before {content: \"\";position: absolute;border-left: 1px solid gray;box-sizing: border-box;top: 2em;bottom: 0;left: 50%;}#sk-cb41b14a-4aa3-4b3d-a1f5-a316f727a6e3 div.sk-parallel-item {display: flex;flex-direction: column;position: relative;background-color: white;}#sk-cb41b14a-4aa3-4b3d-a1f5-a316f727a6e3 div.sk-parallel-item:first-child::after {align-self: flex-end;width: 50%;}#sk-cb41b14a-4aa3-4b3d-a1f5-a316f727a6e3 div.sk-parallel-item:last-child::after {align-self: flex-start;width: 50%;}#sk-cb41b14a-4aa3-4b3d-a1f5-a316f727a6e3 div.sk-parallel-item:only-child::after {width: 0;}#sk-cb41b14a-4aa3-4b3d-a1f5-a316f727a6e3 div.sk-dashed-wrapped {border: 1px dashed gray;margin: 0 0.4em 0.5em 0.4em;box-sizing: border-box;padding-bottom: 0.4em;background-color: white;position: relative;}#sk-cb41b14a-4aa3-4b3d-a1f5-a316f727a6e3 div.sk-label label {font-family: monospace;font-weight: bold;background-color: white;display: inline-block;line-height: 1.2em;}#sk-cb41b14a-4aa3-4b3d-a1f5-a316f727a6e3 div.sk-label-container {position: relative;z-index: 2;text-align: center;}#sk-cb41b14a-4aa3-4b3d-a1f5-a316f727a6e3 div.sk-container {/* jupyter's `normalize.less` sets `[hidden] { display: none; }` but bootstrap.min.css set `[hidden] { display: none !important; }` so we also need the `!important` here to be able to override the default hidden behavior on the sphinx rendered scikit-learn.org. See: https://github.com/scikit-learn/scikit-learn/issues/21755 */display: inline-block !important;position: relative;}#sk-cb41b14a-4aa3-4b3d-a1f5-a316f727a6e3 div.sk-text-repr-fallback {display: none;}</style><div id=\"sk-cb41b14a-4aa3-4b3d-a1f5-a316f727a6e3\" class=\"sk-top-container\"><div class=\"sk-text-repr-fallback\"><pre>Pipeline(steps=[(&#x27;columntransformer&#x27;,\n",
              "                 ColumnTransformer(remainder=&#x27;passthrough&#x27;,\n",
              "                                   transformers=[(&#x27;knnimputer&#x27;, KNNImputer(),\n",
              "                                                  [&#x27;policePrecinct&#x27;, &#x27;gender&#x27;]),\n",
              "                                                 (&#x27;standardscaler&#x27;,\n",
              "                                                  StandardScaler(),\n",
              "                                                  [&#x27;long&#x27;, &#x27;lat&#x27;]),\n",
              "                                                 (&#x27;onehotencoder&#x27;,\n",
              "                                                  OneHotEncoder(handle_unknown=&#x27;ignore&#x27;),\n",
              "                                                  [&#x27;problem&#x27;, &#x27;preRace&#x27;])])),\n",
              "                (&#x27;sgdclassifier&#x27;, SGDClassifier())])</pre><b>Please rerun this cell to show the HTML repr or trust the notebook.</b></div><div class=\"sk-container\" hidden><div class=\"sk-item sk-dashed-wrapped\"><div class=\"sk-label-container\"><div class=\"sk-label sk-toggleable\"><input class=\"sk-toggleable__control sk-hidden--visually\" id=\"58f3708f-ddaf-4b81-be7e-06e627b872d3\" type=\"checkbox\" ><label for=\"58f3708f-ddaf-4b81-be7e-06e627b872d3\" class=\"sk-toggleable__label sk-toggleable__label-arrow\">Pipeline</label><div class=\"sk-toggleable__content\"><pre>Pipeline(steps=[(&#x27;columntransformer&#x27;,\n",
              "                 ColumnTransformer(remainder=&#x27;passthrough&#x27;,\n",
              "                                   transformers=[(&#x27;knnimputer&#x27;, KNNImputer(),\n",
              "                                                  [&#x27;policePrecinct&#x27;, &#x27;gender&#x27;]),\n",
              "                                                 (&#x27;standardscaler&#x27;,\n",
              "                                                  StandardScaler(),\n",
              "                                                  [&#x27;long&#x27;, &#x27;lat&#x27;]),\n",
              "                                                 (&#x27;onehotencoder&#x27;,\n",
              "                                                  OneHotEncoder(handle_unknown=&#x27;ignore&#x27;),\n",
              "                                                  [&#x27;problem&#x27;, &#x27;preRace&#x27;])])),\n",
              "                (&#x27;sgdclassifier&#x27;, SGDClassifier())])</pre></div></div></div><div class=\"sk-serial\"><div class=\"sk-item sk-dashed-wrapped\"><div class=\"sk-label-container\"><div class=\"sk-label sk-toggleable\"><input class=\"sk-toggleable__control sk-hidden--visually\" id=\"5f6eb4a6-9b00-49cd-b874-61db493af77b\" type=\"checkbox\" ><label for=\"5f6eb4a6-9b00-49cd-b874-61db493af77b\" class=\"sk-toggleable__label sk-toggleable__label-arrow\">columntransformer: ColumnTransformer</label><div class=\"sk-toggleable__content\"><pre>ColumnTransformer(remainder=&#x27;passthrough&#x27;,\n",
              "                  transformers=[(&#x27;knnimputer&#x27;, KNNImputer(),\n",
              "                                 [&#x27;policePrecinct&#x27;, &#x27;gender&#x27;]),\n",
              "                                (&#x27;standardscaler&#x27;, StandardScaler(),\n",
              "                                 [&#x27;long&#x27;, &#x27;lat&#x27;]),\n",
              "                                (&#x27;onehotencoder&#x27;,\n",
              "                                 OneHotEncoder(handle_unknown=&#x27;ignore&#x27;),\n",
              "                                 [&#x27;problem&#x27;, &#x27;preRace&#x27;])])</pre></div></div></div><div class=\"sk-parallel\"><div class=\"sk-parallel-item\"><div class=\"sk-item\"><div class=\"sk-label-container\"><div class=\"sk-label sk-toggleable\"><input class=\"sk-toggleable__control sk-hidden--visually\" id=\"5ad59526-3c55-4c3a-9e2c-3ec11119ec7d\" type=\"checkbox\" ><label for=\"5ad59526-3c55-4c3a-9e2c-3ec11119ec7d\" class=\"sk-toggleable__label sk-toggleable__label-arrow\">knnimputer</label><div class=\"sk-toggleable__content\"><pre>[&#x27;policePrecinct&#x27;, &#x27;gender&#x27;]</pre></div></div></div><div class=\"sk-serial\"><div class=\"sk-item\"><div class=\"sk-estimator sk-toggleable\"><input class=\"sk-toggleable__control sk-hidden--visually\" id=\"a32e0005-e582-47ee-8e5f-2ed045155767\" type=\"checkbox\" ><label for=\"a32e0005-e582-47ee-8e5f-2ed045155767\" class=\"sk-toggleable__label sk-toggleable__label-arrow\">KNNImputer</label><div class=\"sk-toggleable__content\"><pre>KNNImputer()</pre></div></div></div></div></div></div><div class=\"sk-parallel-item\"><div class=\"sk-item\"><div class=\"sk-label-container\"><div class=\"sk-label sk-toggleable\"><input class=\"sk-toggleable__control sk-hidden--visually\" id=\"5bd0bd1d-b290-428d-9991-d42dc2d7ec08\" type=\"checkbox\" ><label for=\"5bd0bd1d-b290-428d-9991-d42dc2d7ec08\" class=\"sk-toggleable__label sk-toggleable__label-arrow\">standardscaler</label><div class=\"sk-toggleable__content\"><pre>[&#x27;long&#x27;, &#x27;lat&#x27;]</pre></div></div></div><div class=\"sk-serial\"><div class=\"sk-item\"><div class=\"sk-estimator sk-toggleable\"><input class=\"sk-toggleable__control sk-hidden--visually\" id=\"9fa61b20-b375-459b-b6d3-77c8384c1f21\" type=\"checkbox\" ><label for=\"9fa61b20-b375-459b-b6d3-77c8384c1f21\" class=\"sk-toggleable__label sk-toggleable__label-arrow\">StandardScaler</label><div class=\"sk-toggleable__content\"><pre>StandardScaler()</pre></div></div></div></div></div></div><div class=\"sk-parallel-item\"><div class=\"sk-item\"><div class=\"sk-label-container\"><div class=\"sk-label sk-toggleable\"><input class=\"sk-toggleable__control sk-hidden--visually\" id=\"1841ac2a-17c1-45cb-b5ab-f3d0deb9b4dd\" type=\"checkbox\" ><label for=\"1841ac2a-17c1-45cb-b5ab-f3d0deb9b4dd\" class=\"sk-toggleable__label sk-toggleable__label-arrow\">onehotencoder</label><div class=\"sk-toggleable__content\"><pre>[&#x27;problem&#x27;, &#x27;preRace&#x27;]</pre></div></div></div><div class=\"sk-serial\"><div class=\"sk-item\"><div class=\"sk-estimator sk-toggleable\"><input class=\"sk-toggleable__control sk-hidden--visually\" id=\"bbde0098-8465-4a11-bfc8-6a07eff06068\" type=\"checkbox\" ><label for=\"bbde0098-8465-4a11-bfc8-6a07eff06068\" class=\"sk-toggleable__label sk-toggleable__label-arrow\">OneHotEncoder</label><div class=\"sk-toggleable__content\"><pre>OneHotEncoder(handle_unknown=&#x27;ignore&#x27;)</pre></div></div></div></div></div></div><div class=\"sk-parallel-item\"><div class=\"sk-item\"><div class=\"sk-label-container\"><div class=\"sk-label sk-toggleable\"><input class=\"sk-toggleable__control sk-hidden--visually\" id=\"64837ea9-f945-498c-a13d-243b2f94ea24\" type=\"checkbox\" ><label for=\"64837ea9-f945-498c-a13d-243b2f94ea24\" class=\"sk-toggleable__label sk-toggleable__label-arrow\">remainder</label><div class=\"sk-toggleable__content\"><pre>[&#x27;vehicleSearch&#x27;, &#x27;personSearch&#x27;, &#x27;neighborhood&#x27;]</pre></div></div></div><div class=\"sk-serial\"><div class=\"sk-item\"><div class=\"sk-estimator sk-toggleable\"><input class=\"sk-toggleable__control sk-hidden--visually\" id=\"ca0e0dbc-a1a6-4639-b235-ba365fa1ff0d\" type=\"checkbox\" ><label for=\"ca0e0dbc-a1a6-4639-b235-ba365fa1ff0d\" class=\"sk-toggleable__label sk-toggleable__label-arrow\">passthrough</label><div class=\"sk-toggleable__content\"><pre>passthrough</pre></div></div></div></div></div></div></div></div><div class=\"sk-item\"><div class=\"sk-estimator sk-toggleable\"><input class=\"sk-toggleable__control sk-hidden--visually\" id=\"166e7477-0cf1-4bfd-9fc6-b50e0fa80eff\" type=\"checkbox\" ><label for=\"166e7477-0cf1-4bfd-9fc6-b50e0fa80eff\" class=\"sk-toggleable__label sk-toggleable__label-arrow\">SGDClassifier</label><div class=\"sk-toggleable__content\"><pre>SGDClassifier()</pre></div></div></div></div></div></div></div>"
            ],
            "text/plain": [
              "Pipeline(steps=[('columntransformer',\n",
              "                 ColumnTransformer(remainder='passthrough',\n",
              "                                   transformers=[('knnimputer', KNNImputer(),\n",
              "                                                  ['policePrecinct', 'gender']),\n",
              "                                                 ('standardscaler',\n",
              "                                                  StandardScaler(),\n",
              "                                                  ['long', 'lat']),\n",
              "                                                 ('onehotencoder',\n",
              "                                                  OneHotEncoder(handle_unknown='ignore'),\n",
              "                                                  ['problem', 'preRace'])])),\n",
              "                ('sgdclassifier', SGDClassifier())])"
            ]
          },
          "metadata": {},
          "execution_count": 12
        }
      ],
      "source": [
        "pipe.fit(X_train, y_train)\n"
      ]
    },
    {
      "cell_type": "code",
      "execution_count": null,
      "id": "d405625c",
      "metadata": {
        "id": "d405625c",
        "outputId": "52e451af-7383-4153-c653-6457b22aab06",
        "colab": {
          "base_uri": "https://localhost:8080/",
          "height": 802
        }
      },
      "outputs": [
        {
          "output_type": "stream",
          "name": "stderr",
          "text": [
            "/usr/local/lib/python3.7/dist-packages/sklearn/utils/deprecation.py:87: FutureWarning: Function plot_confusion_matrix is deprecated; Function `plot_confusion_matrix` is deprecated in 1.0 and will be removed in 1.2. Use one of the class methods: ConfusionMatrixDisplay.from_predictions or ConfusionMatrixDisplay.from_estimator.\n",
            "  warnings.warn(msg, category=FutureWarning)\n"
          ]
        },
        {
          "output_type": "stream",
          "name": "stdout",
          "text": [
            "              precision    recall  f1-score   support\n",
            "\n",
            "   Non-white       0.78      0.99      0.87      6388\n",
            "       White       0.94      0.42      0.58      2977\n",
            "\n",
            "    accuracy                           0.81      9365\n",
            "   macro avg       0.86      0.70      0.73      9365\n",
            "weighted avg       0.83      0.81      0.78      9365\n",
            "\n",
            "0.8054065208419315\n"
          ]
        },
        {
          "output_type": "display_data",
          "data": {
            "image/png": "[encoded data removed]",
            "text/plain": [
              "<Figure size 720x720 with 2 Axes>"
            ]
          },
          "metadata": {
            "needs_background": "light"
          }
        }
      ],
      "source": [
        "fig, ax = plt.subplots(figsize=(10, 10))\n",
        "plot_confusion_matrix(pipe, X_valid, y_valid, ax=ax);\n",
        "\n",
        "y_valid_pred = pipe.predict(X_valid)\n",
        "print(classification_report(y_valid, y_valid_pred))\n",
        "print(pipe.score(X_train, y_train))"
      ]
    },
    {
      "cell_type": "code",
      "execution_count": null,
      "id": "5432aad8",
      "metadata": {
        "colab": {
          "base_uri": "https://localhost:8080/"
        },
        "id": "5432aad8",
        "outputId": "b4c3fc64-2b12-4739-abff-e0b125047cac"
      },
      "outputs": [
        {
          "output_type": "execute_result",
          "data": {
            "text/plain": [
              "Non-white    49530\n",
              "White        22506\n",
              "Name: race, dtype: int64"
            ]
          },
          "metadata": {},
          "execution_count": 14
        }
      ],
      "source": [
        "#Is the dataset imbalanced?\n",
        "df.race.value_counts()"
      ]
    },
    {
      "cell_type": "code",
      "execution_count": null,
      "id": "ac326725",
      "metadata": {
        "id": "ac326725",
        "outputId": "7ec34201-02db-45eb-ab7d-e5da73333096",
        "colab": {
          "base_uri": "https://localhost:8080/"
        }
      },
      "outputs": [
        {
          "output_type": "stream",
          "name": "stdout",
          "text": [
            "The score is #0.7989344539076276\n",
            "The accuracy for mode model is: 0.800961025093433\n",
            "The f1 score for the model model is: 0.8683429862974996\n",
            "The score is #0.6970509886316737\n",
            "The accuracy for mode model is: 0.7005872931126534\n",
            "The f1 score for the model model is: 0.7655910382879118\n",
            "The score is #0.5994259558023487\n",
            "The accuracy for mode model is: 0.603950880939669\n",
            "The f1 score for the model model is: 0.6029333047853549\n"
          ]
        }
      ],
      "source": [
        "#Note: in many cases, it is suggested to mix over and undersapmling techniques. Here, I test Overampling techniques (e.g., SMOTE)\n",
        "# with some mixed technqiues\n",
        "#Steps of the imbpipe\n",
        "\n",
        "overtechniques = [SMOTE(), BorderlineSMOTE(), ADASYN()]\n",
        "accuracies = []\n",
        "#under = RandomUnderSampler()\n",
        "\n",
        "\n",
        "\n",
        "for over in overtechniques:\n",
        "    model = Pipeline([\n",
        "        ('preprocessor', preprocessor),\n",
        "        ('smote', over),\n",
        "        ('classification', sgd)\n",
        "    ])\n",
        "    model.fit(X_train, y_train)\n",
        "    y_valid_pred = model.predict(X_valid)\n",
        "    print(f'The score is #{model.score(X_train, y_train)}')\n",
        "    print('The accuracy for mode model is:', accuracy_score(y_valid, y_valid_pred))\n",
        "    print('The f1 score for the model model is:',f1_score(y_valid, y_valid_pred, pos_label='Non-white'))"
      ]
    },
    {
      "cell_type": "code",
      "source": [
        "overtechniques = [SMOTE(), BorderlineSMOTE(), ADASYN()]\n",
        "accuracies = []\n",
        "under = RandomUnderSampler()\n",
        "\n",
        "\n",
        "\n",
        "for over in overtechniques:\n",
        "    model = Pipeline([\n",
        "        ('preprocessor', preprocessor),\n",
        "        ('smote', over),\n",
        "        ('random_under_sampler', under),\n",
        "        ('classification', sgd)\n",
        "    ])\n",
        "    model.fit(X_train, y_train)\n",
        "    y_valid_pred = model.predict(X_valid)\n",
        "    print(f'The score is #{model.score(X_train, y_train)}')\n",
        "    print('The accuracy for mode model is:', accuracy_score(y_valid, y_valid_pred))\n",
        "    print('The f1 score for the model model is:',f1_score(y_valid, y_valid_pred, pos_label='Non-white'))"
      ],
      "metadata": {
        "colab": {
          "base_uri": "https://localhost:8080/"
        },
        "id": "pv0CdI3eZgjW",
        "outputId": "ab8aee74-9ea8-4511-be58-b7f48d02e9d7"
      },
      "id": "pv0CdI3eZgjW",
      "execution_count": null,
      "outputs": [
        {
          "output_type": "stream",
          "name": "stdout",
          "text": [
            "The score is #0.7914306081866956\n",
            "The accuracy for mode model is: 0.793272824345969\n",
            "The f1 score for the model model is: 0.8618721461187213\n",
            "The score is #0.6009454845608374\n",
            "The accuracy for mode model is: 0.605125467164976\n",
            "The f1 score for the model model is: 0.6054204011950491\n",
            "The score is #0.7275353618729599\n",
            "The accuracy for mode model is: 0.7279231179925254\n",
            "The f1 score for the model model is: 0.8139331093909741\n"
          ]
        }
      ]
    },
    {
      "cell_type": "code",
      "execution_count": null,
      "id": "ef423087",
      "metadata": {
        "id": "ef423087"
      },
      "outputs": [],
      "source": [
        "over = OneSidedSelection()\n",
        "under = RandomUnderSampler()\n",
        "\n",
        "\n",
        "model = Pipeline([\n",
        "        ('preprocessor', preprocessor),\n",
        "        ('over_sampler', over),\n",
        "        ('random_under_sampler', under),\n",
        "        ('classification', sgd)\n",
        "    ])"
      ]
    },
    {
      "cell_type": "code",
      "source": [
        "model"
      ],
      "metadata": {
        "colab": {
          "base_uri": "https://localhost:8080/",
          "height": 262
        },
        "id": "vEb40Efk2v7C",
        "outputId": "d91537d1-f2a4-4438-9b97-f577b814bb19"
      },
      "id": "vEb40Efk2v7C",
      "execution_count": null,
      "outputs": [
        {
          "output_type": "execute_result",
          "data": {
            "text/html": [
              "<style>#sk-b316ea80-0f44-4f01-b5ef-8e90d0b644e9 {color: black;background-color: white;}#sk-b316ea80-0f44-4f01-b5ef-8e90d0b644e9 pre{padding: 0;}#sk-b316ea80-0f44-4f01-b5ef-8e90d0b644e9 div.sk-toggleable {background-color: white;}#sk-b316ea80-0f44-4f01-b5ef-8e90d0b644e9 label.sk-toggleable__label {cursor: pointer;display: block;width: 100%;margin-bottom: 0;padding: 0.3em;box-sizing: border-box;text-align: center;}#sk-b316ea80-0f44-4f01-b5ef-8e90d0b644e9 div.sk-toggleable__content {max-height: 0;max-width: 0;overflow: hidden;text-align: left;background-color: #f0f8ff;}#sk-b316ea80-0f44-4f01-b5ef-8e90d0b644e9 div.sk-toggleable__content pre {margin: 0.2em;color: black;border-radius: 0.25em;background-color: #f0f8ff;}#sk-b316ea80-0f44-4f01-b5ef-8e90d0b644e9 input.sk-toggleable__control:checked~div.sk-toggleable__content {max-height: 200px;max-width: 100%;overflow: auto;}#sk-b316ea80-0f44-4f01-b5ef-8e90d0b644e9 div.sk-estimator input.sk-toggleable__control:checked~label.sk-toggleable__label {background-color: #d4ebff;}#sk-b316ea80-0f44-4f01-b5ef-8e90d0b644e9 div.sk-label input.sk-toggleable__control:checked~label.sk-toggleable__label {background-color: #d4ebff;}#sk-b316ea80-0f44-4f01-b5ef-8e90d0b644e9 input.sk-hidden--visually {border: 0;clip: rect(1px 1px 1px 1px);clip: rect(1px, 1px, 1px, 1px);height: 1px;margin: -1px;overflow: hidden;padding: 0;position: absolute;width: 1px;}#sk-b316ea80-0f44-4f01-b5ef-8e90d0b644e9 div.sk-estimator {font-family: monospace;background-color: #f0f8ff;border: 1px dotted black;border-radius: 0.25em;box-sizing: border-box;margin-bottom: 0.5em;}#sk-b316ea80-0f44-4f01-b5ef-8e90d0b644e9 div.sk-estimator:hover {background-color: #d4ebff;}#sk-b316ea80-0f44-4f01-b5ef-8e90d0b644e9 div.sk-parallel-item::after {content: \"\";width: 100%;border-bottom: 1px solid gray;flex-grow: 1;}#sk-b316ea80-0f44-4f01-b5ef-8e90d0b644e9 div.sk-label:hover label.sk-toggleable__label {background-color: #d4ebff;}#sk-b316ea80-0f44-4f01-b5ef-8e90d0b644e9 div.sk-serial::before {content: \"\";position: absolute;border-left: 1px solid gray;box-sizing: border-box;top: 2em;bottom: 0;left: 50%;}#sk-b316ea80-0f44-4f01-b5ef-8e90d0b644e9 div.sk-serial {display: flex;flex-direction: column;align-items: center;background-color: white;padding-right: 0.2em;padding-left: 0.2em;}#sk-b316ea80-0f44-4f01-b5ef-8e90d0b644e9 div.sk-item {z-index: 1;}#sk-b316ea80-0f44-4f01-b5ef-8e90d0b644e9 div.sk-parallel {display: flex;align-items: stretch;justify-content: center;background-color: white;}#sk-b316ea80-0f44-4f01-b5ef-8e90d0b644e9 div.sk-parallel::before {content: \"\";position: absolute;border-left: 1px solid gray;box-sizing: border-box;top: 2em;bottom: 0;left: 50%;}#sk-b316ea80-0f44-4f01-b5ef-8e90d0b644e9 div.sk-parallel-item {display: flex;flex-direction: column;position: relative;background-color: white;}#sk-b316ea80-0f44-4f01-b5ef-8e90d0b644e9 div.sk-parallel-item:first-child::after {align-self: flex-end;width: 50%;}#sk-b316ea80-0f44-4f01-b5ef-8e90d0b644e9 div.sk-parallel-item:last-child::after {align-self: flex-start;width: 50%;}#sk-b316ea80-0f44-4f01-b5ef-8e90d0b644e9 div.sk-parallel-item:only-child::after {width: 0;}#sk-b316ea80-0f44-4f01-b5ef-8e90d0b644e9 div.sk-dashed-wrapped {border: 1px dashed gray;margin: 0 0.4em 0.5em 0.4em;box-sizing: border-box;padding-bottom: 0.4em;background-color: white;position: relative;}#sk-b316ea80-0f44-4f01-b5ef-8e90d0b644e9 div.sk-label label {font-family: monospace;font-weight: bold;background-color: white;display: inline-block;line-height: 1.2em;}#sk-b316ea80-0f44-4f01-b5ef-8e90d0b644e9 div.sk-label-container {position: relative;z-index: 2;text-align: center;}#sk-b316ea80-0f44-4f01-b5ef-8e90d0b644e9 div.sk-container {display: inline-block;position: relative;}</style><div id=\"sk-b316ea80-0f44-4f01-b5ef-8e90d0b644e9\" class\"sk-top-container\"><div class=\"sk-container\"><div class=\"sk-item sk-dashed-wrapped\"><div class=\"sk-label-container\"><div class=\"sk-label sk-toggleable\"><input class=\"sk-toggleable__control sk-hidden--visually\" id=\"b93af2ac-9c21-4c11-85a0-60c94610e080\" type=\"checkbox\" ><label class=\"sk-toggleable__label\" for=\"b93af2ac-9c21-4c11-85a0-60c94610e080\">Pipeline</label><div class=\"sk-toggleable__content\"><pre>Pipeline(steps=[('preprocessor',\n",
              "                 ColumnTransformer(remainder='passthrough',\n",
              "                                   transformers=[('knnimputer', KNNImputer(),\n",
              "                                                  ['policePrecinct', 'gender']),\n",
              "                                                 ('standardscaler',\n",
              "                                                  StandardScaler(),\n",
              "                                                  ['long', 'lat']),\n",
              "                                                 ('onehotencoder',\n",
              "                                                  OneHotEncoder(handle_unknown='ignore'),\n",
              "                                                  ['problem', 'preRace'])])),\n",
              "                ('over_sampler', OneSidedSelection()),\n",
              "                ('random_under_sampler', RandomUnderSampler()),\n",
              "                ('classification', SGDClassifier())])</pre></div></div></div><div class=\"sk-serial\"><div class=\"sk-item sk-dashed-wrapped\"><div class=\"sk-label-container\"><div class=\"sk-label sk-toggleable\"><input class=\"sk-toggleable__control sk-hidden--visually\" id=\"a8217bea-2188-40ff-a5e2-0a2f26d64bfd\" type=\"checkbox\" ><label class=\"sk-toggleable__label\" for=\"a8217bea-2188-40ff-a5e2-0a2f26d64bfd\">preprocessor: ColumnTransformer</label><div class=\"sk-toggleable__content\"><pre>ColumnTransformer(remainder='passthrough',\n",
              "                  transformers=[('knnimputer', KNNImputer(),\n",
              "                                 ['policePrecinct', 'gender']),\n",
              "                                ('standardscaler', StandardScaler(),\n",
              "                                 ['long', 'lat']),\n",
              "                                ('onehotencoder',\n",
              "                                 OneHotEncoder(handle_unknown='ignore'),\n",
              "                                 ['problem', 'preRace'])])</pre></div></div></div><div class=\"sk-parallel\"><div class=\"sk-parallel-item\"><div class=\"sk-item\"><div class=\"sk-label-container\"><div class=\"sk-label sk-toggleable\"><input class=\"sk-toggleable__control sk-hidden--visually\" id=\"5b215393-398d-4922-a070-2bdce6011594\" type=\"checkbox\" ><label class=\"sk-toggleable__label\" for=\"5b215393-398d-4922-a070-2bdce6011594\">knnimputer</label><div class=\"sk-toggleable__content\"><pre>['policePrecinct', 'gender']</pre></div></div></div><div class=\"sk-serial\"><div class=\"sk-item\"><div class=\"sk-estimator sk-toggleable\"><input class=\"sk-toggleable__control sk-hidden--visually\" id=\"9d727297-71e0-43a9-88c8-1afd0e284281\" type=\"checkbox\" ><label class=\"sk-toggleable__label\" for=\"9d727297-71e0-43a9-88c8-1afd0e284281\">KNNImputer</label><div class=\"sk-toggleable__content\"><pre>KNNImputer()</pre></div></div></div></div></div></div><div class=\"sk-parallel-item\"><div class=\"sk-item\"><div class=\"sk-label-container\"><div class=\"sk-label sk-toggleable\"><input class=\"sk-toggleable__control sk-hidden--visually\" id=\"e9570618-edc2-4aca-beff-b0b92018eb0b\" type=\"checkbox\" ><label class=\"sk-toggleable__label\" for=\"e9570618-edc2-4aca-beff-b0b92018eb0b\">standardscaler</label><div class=\"sk-toggleable__content\"><pre>['long', 'lat']</pre></div></div></div><div class=\"sk-serial\"><div class=\"sk-item\"><div class=\"sk-estimator sk-toggleable\"><input class=\"sk-toggleable__control sk-hidden--visually\" id=\"eca05478-4a7f-420a-822c-bb6a0c688633\" type=\"checkbox\" ><label class=\"sk-toggleable__label\" for=\"eca05478-4a7f-420a-822c-bb6a0c688633\">StandardScaler</label><div class=\"sk-toggleable__content\"><pre>StandardScaler()</pre></div></div></div></div></div></div><div class=\"sk-parallel-item\"><div class=\"sk-item\"><div class=\"sk-label-container\"><div class=\"sk-label sk-toggleable\"><input class=\"sk-toggleable__control sk-hidden--visually\" id=\"6c1896f2-c36f-4509-ae94-20732cf05c90\" type=\"checkbox\" ><label class=\"sk-toggleable__label\" for=\"6c1896f2-c36f-4509-ae94-20732cf05c90\">onehotencoder</label><div class=\"sk-toggleable__content\"><pre>['problem', 'preRace']</pre></div></div></div><div class=\"sk-serial\"><div class=\"sk-item\"><div class=\"sk-estimator sk-toggleable\"><input class=\"sk-toggleable__control sk-hidden--visually\" id=\"21e5ecfe-f7c2-4a34-acda-bea379f04136\" type=\"checkbox\" ><label class=\"sk-toggleable__label\" for=\"21e5ecfe-f7c2-4a34-acda-bea379f04136\">OneHotEncoder</label><div class=\"sk-toggleable__content\"><pre>OneHotEncoder(handle_unknown='ignore')</pre></div></div></div></div></div></div><div class=\"sk-parallel-item\"><div class=\"sk-item\"><div class=\"sk-label-container\"><div class=\"sk-label sk-toggleable\"><input class=\"sk-toggleable__control sk-hidden--visually\" id=\"73107dcb-7f27-4b08-85c3-9916f131bd9c\" type=\"checkbox\" ><label class=\"sk-toggleable__label\" for=\"73107dcb-7f27-4b08-85c3-9916f131bd9c\">remainder</label><div class=\"sk-toggleable__content\"><pre>['vehicleSearch', 'personSearch', 'neighborhood']</pre></div></div></div><div class=\"sk-serial\"><div class=\"sk-item\"><div class=\"sk-estimator sk-toggleable\"><input class=\"sk-toggleable__control sk-hidden--visually\" id=\"723c4906-0433-4c8b-a4a6-9263117d4676\" type=\"checkbox\" ><label class=\"sk-toggleable__label\" for=\"723c4906-0433-4c8b-a4a6-9263117d4676\">passthrough</label><div class=\"sk-toggleable__content\"><pre>passthrough</pre></div></div></div></div></div></div></div></div><div class=\"sk-item\"><div class=\"sk-estimator sk-toggleable\"><input class=\"sk-toggleable__control sk-hidden--visually\" id=\"44db0a63-d1c1-4711-a20c-c2cbdddd0a24\" type=\"checkbox\" ><label class=\"sk-toggleable__label\" for=\"44db0a63-d1c1-4711-a20c-c2cbdddd0a24\">OneSidedSelection</label><div class=\"sk-toggleable__content\"><pre>OneSidedSelection()</pre></div></div></div><div class=\"sk-item\"><div class=\"sk-estimator sk-toggleable\"><input class=\"sk-toggleable__control sk-hidden--visually\" id=\"c08bdeac-1637-47fb-a671-b02d2214d441\" type=\"checkbox\" ><label class=\"sk-toggleable__label\" for=\"c08bdeac-1637-47fb-a671-b02d2214d441\">RandomUnderSampler</label><div class=\"sk-toggleable__content\"><pre>RandomUnderSampler()</pre></div></div></div><div class=\"sk-item\"><div class=\"sk-estimator sk-toggleable\"><input class=\"sk-toggleable__control sk-hidden--visually\" id=\"6308daa8-2e48-483a-b871-fd50024a044e\" type=\"checkbox\" ><label class=\"sk-toggleable__label\" for=\"6308daa8-2e48-483a-b871-fd50024a044e\">SGDClassifier</label><div class=\"sk-toggleable__content\"><pre>SGDClassifier()</pre></div></div></div></div></div></div></div>"
            ],
            "text/plain": [
              "Pipeline(steps=[('preprocessor',\n",
              "                 ColumnTransformer(remainder='passthrough',\n",
              "                                   transformers=[('knnimputer', KNNImputer(),\n",
              "                                                  ['policePrecinct', 'gender']),\n",
              "                                                 ('standardscaler',\n",
              "                                                  StandardScaler(),\n",
              "                                                  ['long', 'lat']),\n",
              "                                                 ('onehotencoder',\n",
              "                                                  OneHotEncoder(handle_unknown='ignore'),\n",
              "                                                  ['problem', 'preRace'])])),\n",
              "                ('over_sampler', OneSidedSelection()),\n",
              "                ('random_under_sampler', RandomUnderSampler()),\n",
              "                ('classification', SGDClassifier())])"
            ]
          },
          "metadata": {},
          "execution_count": 22
        }
      ]
    },
    {
      "cell_type": "markdown",
      "id": "0441677f",
      "metadata": {
        "id": "0441677f"
      },
      "source": [
        "### Hyperparameters tuning"
      ]
    },
    {
      "cell_type": "code",
      "execution_count": null,
      "id": "5924bd4b",
      "metadata": {
        "id": "5924bd4b"
      },
      "outputs": [],
      "source": [
        "#Ration majority/minority class in training data\n",
        "y_train.value_counts()\n",
        "\n",
        "#Engineering a g-mean score for evaluation of the imbalanced data set (g-mean accounts for specificity and sensitivity,\n",
        "#f1_macro doesn't)\n",
        "gm_scorer = make_scorer(geometric_mean_score, greater_is_better=True, average='binary', pos_label='Non-white')\n"
      ]
    },
    {
      "cell_type": "code",
      "execution_count": null,
      "id": "2addfcb4",
      "metadata": {
        "id": "2addfcb4",
        "outputId": "18d43506-9f68-40ab-bca1-4ae496696ebd",
        "colab": {
          "base_uri": "https://localhost:8080/",
          "height": 266
        }
      },
      "outputs": [
        {
          "output_type": "display_data",
          "data": {
            "image/png": "[encoded data removed]",
            "text/plain": [
              "<Figure size 432x288 with 1 Axes>"
            ]
          },
          "metadata": {
            "needs_background": "light"
          }
        }
      ],
      "source": [
        "accuracies, params = [], []\n",
        "\n",
        "for n in [\"hinge\", \"log\", \"squared_hinge\", \"modified_huber\"]:\n",
        "    params.append(n)\n",
        "    sgd = SGDClassifier(loss=n)\n",
        "    over = SMOTE()\n",
        "    under = RandomUnderSampler()\n",
        "    model = Pipeline([\n",
        "        ('preprocessor', preprocessor),\n",
        "        ('over_sampler', over),\n",
        "        ('random_under_sampler', under),\n",
        "        ('classification', sgd)\n",
        "    ])\n",
        "    scores = cross_val_score(model, X_valid, y_valid, cv=StratifiedKFold(n_splits=3), scoring=gm_scorer)\n",
        "    accuracies.append(scores.mean())\n",
        "plt.plot(params, accuracies)\n",
        "plt.show()"
      ]
    },
    {
      "cell_type": "code",
      "execution_count": null,
      "id": "15bc512f",
      "metadata": {
        "id": "15bc512f",
        "outputId": "7bcd028e-e65d-4f8f-ed6a-3357d70c8859",
        "colab": {
          "base_uri": "https://localhost:8080/",
          "height": 265
        }
      },
      "outputs": [
        {
          "output_type": "display_data",
          "data": {
            "image/png": "[encoded data removed]",
            "text/plain": [
              "<Figure size 432x288 with 1 Axes>"
            ]
          },
          "metadata": {
            "needs_background": "light"
          }
        }
      ],
      "source": [
        "accuracies, params = [], []\n",
        "\n",
        "for alpha in [0.0001, 0.001, 0.01, 0.1]:\n",
        "    params.append(alpha)\n",
        "    sgd = SGDClassifier(alpha=alpha)\n",
        "    over = SMOTE()\n",
        "    under = RandomUnderSampler()\n",
        "    model = Pipeline([\n",
        "        ('preprocessor', preprocessor),\n",
        "        ('over_sampler', over),\n",
        "        ('random_under_sampler', under),\n",
        "        ('classification', sgd)\n",
        "    ])\n",
        "    scores = cross_val_score(model, X_valid, y_valid, cv=StratifiedKFold(n_splits=3), scoring=gm_scorer)\n",
        "    accuracies.append(scores.mean())\n",
        "plt.plot(params, accuracies)\n",
        "plt.show()"
      ]
    },
    {
      "cell_type": "code",
      "source": [
        "accuracies, params = [], []\n",
        "\n",
        "for n_iter in [5, 10, 20, 50, 100, 1000]:\n",
        "    params.append(n_iter)\n",
        "    sgd = SGDClassifier(max_iter=n_iter)\n",
        "    over = SMOTE()\n",
        "    under = RandomUnderSampler()\n",
        "    model = Pipeline([\n",
        "        ('preprocessor', preprocessor),\n",
        "        ('over_sampler', over),\n",
        "        ('random_under_sampler', under),\n",
        "        ('classification', sgd)\n",
        "    ])\n",
        "    scores = cross_val_score(model, X_valid, y_valid, cv=StratifiedKFold(n_splits=3), scoring=gm_scorer)\n",
        "    accuracies.append(scores.mean())\n",
        "plt.plot(params, accuracies)\n",
        "plt.show()"
      ],
      "metadata": {
        "colab": {
          "base_uri": "https://localhost:8080/",
          "height": 806
        },
        "id": "w7Z7l4eULudb",
        "outputId": "16a05161-539e-4b73-cf80-803e8625b130"
      },
      "id": "w7Z7l4eULudb",
      "execution_count": null,
      "outputs": [
        {
          "output_type": "stream",
          "name": "stderr",
          "text": [
            "/usr/local/lib/python3.7/dist-packages/sklearn/linear_model/_stochastic_gradient.py:700: ConvergenceWarning: Maximum number of iteration reached before convergence. Consider increasing max_iter to improve the fit.\n",
            "  ConvergenceWarning,\n",
            "/usr/local/lib/python3.7/dist-packages/sklearn/linear_model/_stochastic_gradient.py:700: ConvergenceWarning: Maximum number of iteration reached before convergence. Consider increasing max_iter to improve the fit.\n",
            "  ConvergenceWarning,\n",
            "/usr/local/lib/python3.7/dist-packages/sklearn/linear_model/_stochastic_gradient.py:700: ConvergenceWarning: Maximum number of iteration reached before convergence. Consider increasing max_iter to improve the fit.\n",
            "  ConvergenceWarning,\n",
            "/usr/local/lib/python3.7/dist-packages/sklearn/linear_model/_stochastic_gradient.py:700: ConvergenceWarning: Maximum number of iteration reached before convergence. Consider increasing max_iter to improve the fit.\n",
            "  ConvergenceWarning,\n",
            "/usr/local/lib/python3.7/dist-packages/sklearn/linear_model/_stochastic_gradient.py:700: ConvergenceWarning: Maximum number of iteration reached before convergence. Consider increasing max_iter to improve the fit.\n",
            "  ConvergenceWarning,\n",
            "/usr/local/lib/python3.7/dist-packages/sklearn/linear_model/_stochastic_gradient.py:700: ConvergenceWarning: Maximum number of iteration reached before convergence. Consider increasing max_iter to improve the fit.\n",
            "  ConvergenceWarning,\n",
            "/usr/local/lib/python3.7/dist-packages/sklearn/linear_model/_stochastic_gradient.py:700: ConvergenceWarning: Maximum number of iteration reached before convergence. Consider increasing max_iter to improve the fit.\n",
            "  ConvergenceWarning,\n",
            "/usr/local/lib/python3.7/dist-packages/sklearn/linear_model/_stochastic_gradient.py:700: ConvergenceWarning: Maximum number of iteration reached before convergence. Consider increasing max_iter to improve the fit.\n",
            "  ConvergenceWarning,\n",
            "/usr/local/lib/python3.7/dist-packages/sklearn/linear_model/_stochastic_gradient.py:700: ConvergenceWarning: Maximum number of iteration reached before convergence. Consider increasing max_iter to improve the fit.\n",
            "  ConvergenceWarning,\n",
            "/usr/local/lib/python3.7/dist-packages/sklearn/linear_model/_stochastic_gradient.py:700: ConvergenceWarning: Maximum number of iteration reached before convergence. Consider increasing max_iter to improve the fit.\n",
            "  ConvergenceWarning,\n",
            "/usr/local/lib/python3.7/dist-packages/sklearn/linear_model/_stochastic_gradient.py:700: ConvergenceWarning: Maximum number of iteration reached before convergence. Consider increasing max_iter to improve the fit.\n",
            "  ConvergenceWarning,\n",
            "/usr/local/lib/python3.7/dist-packages/sklearn/linear_model/_stochastic_gradient.py:700: ConvergenceWarning: Maximum number of iteration reached before convergence. Consider increasing max_iter to improve the fit.\n",
            "  ConvergenceWarning,\n",
            "/usr/local/lib/python3.7/dist-packages/sklearn/linear_model/_stochastic_gradient.py:700: ConvergenceWarning: Maximum number of iteration reached before convergence. Consider increasing max_iter to improve the fit.\n",
            "  ConvergenceWarning,\n",
            "/usr/local/lib/python3.7/dist-packages/sklearn/linear_model/_stochastic_gradient.py:700: ConvergenceWarning: Maximum number of iteration reached before convergence. Consider increasing max_iter to improve the fit.\n",
            "  ConvergenceWarning,\n",
            "/usr/local/lib/python3.7/dist-packages/sklearn/linear_model/_stochastic_gradient.py:700: ConvergenceWarning: Maximum number of iteration reached before convergence. Consider increasing max_iter to improve the fit.\n",
            "  ConvergenceWarning,\n"
          ]
        },
        {
          "output_type": "display_data",
          "data": {
            "image/png": "[encoded data removed]",
            "text/plain": [
              "<Figure size 432x288 with 1 Axes>"
            ]
          },
          "metadata": {
            "needs_background": "light"
          }
        }
      ]
    },
    {
      "cell_type": "code",
      "execution_count": null,
      "id": "cccffcac",
      "metadata": {
        "id": "cccffcac",
        "outputId": "5237aa94-1401-4a4f-a41b-a704762e2866",
        "colab": {
          "base_uri": "https://localhost:8080/",
          "height": 269
        }
      },
      "outputs": [
        {
          "output_type": "display_data",
          "data": {
            "image/png": "[encoded data removed]",
            "text/plain": [
              "<Figure size 432x288 with 1 Axes>"
            ]
          },
          "metadata": {
            "needs_background": "light"
          }
        }
      ],
      "source": [
        "accuracies, params = [], []\n",
        "\n",
        "for penalty in [\"l2\", \"l1\", \"none\"]:\n",
        "    params.append(penalty)\n",
        "    sgd = SGDClassifier(penalty=penalty)\n",
        "    over = SMOTE()\n",
        "    under = RandomUnderSampler()\n",
        "    model = Pipeline([\n",
        "        ('preprocessor', preprocessor),\n",
        "        ('over_sampler', over),\n",
        "        ('random_under_sampler', under),\n",
        "        ('classification', sgd)\n",
        "    ])\n",
        "    scores = cross_val_score(model, X_valid, y_valid, cv=StratifiedKFold(n_splits=3), scoring=gm_scorer)\n",
        "    accuracies.append(scores.mean())\n",
        "plt.plot(params, accuracies)\n",
        "plt.show()"
      ]
    },
    {
      "cell_type": "code",
      "execution_count": null,
      "id": "88511fb9",
      "metadata": {
        "id": "88511fb9"
      },
      "outputs": [],
      "source": [
        "#Defining GridSearch\n",
        "gs = GridSearchCV\n",
        "\n",
        "#Tuning grid                           \n",
        "grid = params = {\n",
        "    \"classification__loss\" : [\"hinge\", \"log\", \"squared_hinge\", \"modified_huber\"],\n",
        "    \"classification__alpha\" : [0.0001, 0.001, 0.01, 0.1],\n",
        "    \"classification__penalty\" : [\"l2\", \"l1\", \"none\"]\n",
        "}"
      ]
    },
    {
      "cell_type": "code",
      "execution_count": null,
      "id": "349ec6de",
      "metadata": {
        "colab": {
          "base_uri": "https://localhost:8080/",
          "height": 263
        },
        "id": "349ec6de",
        "outputId": "35b01b9b-1067-4d99-ae23-bfc9428e3cfa"
      },
      "outputs": [
        {
          "output_type": "display_data",
          "data": {
            "text/html": [
              "<style>#sk-711bda5f-1934-4eb8-a0ce-5fe64a6b3c77 {color: black;background-color: white;}#sk-711bda5f-1934-4eb8-a0ce-5fe64a6b3c77 pre{padding: 0;}#sk-711bda5f-1934-4eb8-a0ce-5fe64a6b3c77 div.sk-toggleable {background-color: white;}#sk-711bda5f-1934-4eb8-a0ce-5fe64a6b3c77 label.sk-toggleable__label {cursor: pointer;display: block;width: 100%;margin-bottom: 0;padding: 0.3em;box-sizing: border-box;text-align: center;}#sk-711bda5f-1934-4eb8-a0ce-5fe64a6b3c77 div.sk-toggleable__content {max-height: 0;max-width: 0;overflow: hidden;text-align: left;background-color: #f0f8ff;}#sk-711bda5f-1934-4eb8-a0ce-5fe64a6b3c77 div.sk-toggleable__content pre {margin: 0.2em;color: black;border-radius: 0.25em;background-color: #f0f8ff;}#sk-711bda5f-1934-4eb8-a0ce-5fe64a6b3c77 input.sk-toggleable__control:checked~div.sk-toggleable__content {max-height: 200px;max-width: 100%;overflow: auto;}#sk-711bda5f-1934-4eb8-a0ce-5fe64a6b3c77 div.sk-estimator input.sk-toggleable__control:checked~label.sk-toggleable__label {background-color: #d4ebff;}#sk-711bda5f-1934-4eb8-a0ce-5fe64a6b3c77 div.sk-label input.sk-toggleable__control:checked~label.sk-toggleable__label {background-color: #d4ebff;}#sk-711bda5f-1934-4eb8-a0ce-5fe64a6b3c77 input.sk-hidden--visually {border: 0;clip: rect(1px 1px 1px 1px);clip: rect(1px, 1px, 1px, 1px);height: 1px;margin: -1px;overflow: hidden;padding: 0;position: absolute;width: 1px;}#sk-711bda5f-1934-4eb8-a0ce-5fe64a6b3c77 div.sk-estimator {font-family: monospace;background-color: #f0f8ff;border: 1px dotted black;border-radius: 0.25em;box-sizing: border-box;margin-bottom: 0.5em;}#sk-711bda5f-1934-4eb8-a0ce-5fe64a6b3c77 div.sk-estimator:hover {background-color: #d4ebff;}#sk-711bda5f-1934-4eb8-a0ce-5fe64a6b3c77 div.sk-parallel-item::after {content: \"\";width: 100%;border-bottom: 1px solid gray;flex-grow: 1;}#sk-711bda5f-1934-4eb8-a0ce-5fe64a6b3c77 div.sk-label:hover label.sk-toggleable__label {background-color: #d4ebff;}#sk-711bda5f-1934-4eb8-a0ce-5fe64a6b3c77 div.sk-serial::before {content: \"\";position: absolute;border-left: 1px solid gray;box-sizing: border-box;top: 2em;bottom: 0;left: 50%;}#sk-711bda5f-1934-4eb8-a0ce-5fe64a6b3c77 div.sk-serial {display: flex;flex-direction: column;align-items: center;background-color: white;padding-right: 0.2em;padding-left: 0.2em;}#sk-711bda5f-1934-4eb8-a0ce-5fe64a6b3c77 div.sk-item {z-index: 1;}#sk-711bda5f-1934-4eb8-a0ce-5fe64a6b3c77 div.sk-parallel {display: flex;align-items: stretch;justify-content: center;background-color: white;}#sk-711bda5f-1934-4eb8-a0ce-5fe64a6b3c77 div.sk-parallel::before {content: \"\";position: absolute;border-left: 1px solid gray;box-sizing: border-box;top: 2em;bottom: 0;left: 50%;}#sk-711bda5f-1934-4eb8-a0ce-5fe64a6b3c77 div.sk-parallel-item {display: flex;flex-direction: column;position: relative;background-color: white;}#sk-711bda5f-1934-4eb8-a0ce-5fe64a6b3c77 div.sk-parallel-item:first-child::after {align-self: flex-end;width: 50%;}#sk-711bda5f-1934-4eb8-a0ce-5fe64a6b3c77 div.sk-parallel-item:last-child::after {align-self: flex-start;width: 50%;}#sk-711bda5f-1934-4eb8-a0ce-5fe64a6b3c77 div.sk-parallel-item:only-child::after {width: 0;}#sk-711bda5f-1934-4eb8-a0ce-5fe64a6b3c77 div.sk-dashed-wrapped {border: 1px dashed gray;margin: 0 0.4em 0.5em 0.4em;box-sizing: border-box;padding-bottom: 0.4em;background-color: white;position: relative;}#sk-711bda5f-1934-4eb8-a0ce-5fe64a6b3c77 div.sk-label label {font-family: monospace;font-weight: bold;background-color: white;display: inline-block;line-height: 1.2em;}#sk-711bda5f-1934-4eb8-a0ce-5fe64a6b3c77 div.sk-label-container {position: relative;z-index: 2;text-align: center;}#sk-711bda5f-1934-4eb8-a0ce-5fe64a6b3c77 div.sk-container {display: inline-block;position: relative;}</style><div id=\"sk-711bda5f-1934-4eb8-a0ce-5fe64a6b3c77\" class\"sk-top-container\"><div class=\"sk-container\"><div class=\"sk-item sk-dashed-wrapped\"><div class=\"sk-label-container\"><div class=\"sk-label sk-toggleable\"><input class=\"sk-toggleable__control sk-hidden--visually\" id=\"836362c2-8f3a-4d06-b627-8cd685097a1e\" type=\"checkbox\" ><label class=\"sk-toggleable__label\" for=\"836362c2-8f3a-4d06-b627-8cd685097a1e\">GridSearchCV</label><div class=\"sk-toggleable__content\"><pre>GridSearchCV(cv=StratifiedKFold(n_splits=3, random_state=None, shuffle=False),\n",
              "             estimator=Pipeline(steps=[('preprocessor',\n",
              "                                        ColumnTransformer(remainder='passthrough',\n",
              "                                                          transformers=[('knnimputer',\n",
              "                                                                         KNNImputer(),\n",
              "                                                                         ['policePrecinct',\n",
              "                                                                          'gender']),\n",
              "                                                                        ('standardscaler',\n",
              "                                                                         StandardScaler(),\n",
              "                                                                         ['long',\n",
              "                                                                          'lat']),\n",
              "                                                                        ('onehotencoder',\n",
              "                                                                         OneHotEncoder(handle_unknown='ignore'),\n",
              "                                                                         ['problem',\n",
              "                                                                          'preRace'])])),\n",
              "                                       ('over_sampler', SMOTE()),\n",
              "                                       ('random_under_sampler',\n",
              "                                        RandomUnderSampler()),\n",
              "                                       ('classification',\n",
              "                                        SGDClassifier(penalty='none'))]),\n",
              "             n_jobs=-1,\n",
              "             param_grid={'classification__alpha': [0.0001, 0.001, 0.01, 0.1],\n",
              "                         'classification__loss': ['hinge', 'log',\n",
              "                                                  'squared_hinge',\n",
              "                                                  'modified_huber'],\n",
              "                         'classification__penalty': ['l2', 'l1', 'none']},\n",
              "             verbose=1)</pre></div></div></div><div class=\"sk-parallel\"><div class=\"sk-parallel-item\"><div class=\"sk-item\"><div class=\"sk-serial\"><div class=\"sk-item\"><div class=\"sk-serial\"><div class=\"sk-item sk-dashed-wrapped\"><div class=\"sk-label-container\"><div class=\"sk-label sk-toggleable\"><input class=\"sk-toggleable__control sk-hidden--visually\" id=\"a69345a1-01a3-4775-8aad-e1e295cc508e\" type=\"checkbox\" ><label class=\"sk-toggleable__label\" for=\"a69345a1-01a3-4775-8aad-e1e295cc508e\">preprocessor: ColumnTransformer</label><div class=\"sk-toggleable__content\"><pre>ColumnTransformer(remainder='passthrough',\n",
              "                  transformers=[('knnimputer', KNNImputer(),\n",
              "                                 ['policePrecinct', 'gender']),\n",
              "                                ('standardscaler', StandardScaler(),\n",
              "                                 ['long', 'lat']),\n",
              "                                ('onehotencoder',\n",
              "                                 OneHotEncoder(handle_unknown='ignore'),\n",
              "                                 ['problem', 'preRace'])])</pre></div></div></div><div class=\"sk-parallel\"><div class=\"sk-parallel-item\"><div class=\"sk-item\"><div class=\"sk-label-container\"><div class=\"sk-label sk-toggleable\"><input class=\"sk-toggleable__control sk-hidden--visually\" id=\"faa52db1-3ad1-4d54-beed-9fcec619f365\" type=\"checkbox\" ><label class=\"sk-toggleable__label\" for=\"faa52db1-3ad1-4d54-beed-9fcec619f365\">knnimputer</label><div class=\"sk-toggleable__content\"><pre>['policePrecinct', 'gender']</pre></div></div></div><div class=\"sk-serial\"><div class=\"sk-item\"><div class=\"sk-estimator sk-toggleable\"><input class=\"sk-toggleable__control sk-hidden--visually\" id=\"dc80d6a8-ab16-4eb6-9ff1-c87a55f9d4d6\" type=\"checkbox\" ><label class=\"sk-toggleable__label\" for=\"dc80d6a8-ab16-4eb6-9ff1-c87a55f9d4d6\">KNNImputer</label><div class=\"sk-toggleable__content\"><pre>KNNImputer()</pre></div></div></div></div></div></div><div class=\"sk-parallel-item\"><div class=\"sk-item\"><div class=\"sk-label-container\"><div class=\"sk-label sk-toggleable\"><input class=\"sk-toggleable__control sk-hidden--visually\" id=\"ba13a22d-e3ae-4dc2-8c05-2083078c38d9\" type=\"checkbox\" ><label class=\"sk-toggleable__label\" for=\"ba13a22d-e3ae-4dc2-8c05-2083078c38d9\">standardscaler</label><div class=\"sk-toggleable__content\"><pre>['long', 'lat']</pre></div></div></div><div class=\"sk-serial\"><div class=\"sk-item\"><div class=\"sk-estimator sk-toggleable\"><input class=\"sk-toggleable__control sk-hidden--visually\" id=\"bd6b9c18-4d8b-4f9b-9e24-8b42b636e466\" type=\"checkbox\" ><label class=\"sk-toggleable__label\" for=\"bd6b9c18-4d8b-4f9b-9e24-8b42b636e466\">StandardScaler</label><div class=\"sk-toggleable__content\"><pre>StandardScaler()</pre></div></div></div></div></div></div><div class=\"sk-parallel-item\"><div class=\"sk-item\"><div class=\"sk-label-container\"><div class=\"sk-label sk-toggleable\"><input class=\"sk-toggleable__control sk-hidden--visually\" id=\"6b61fed1-ab0f-4e65-b38c-8ca82e4ff016\" type=\"checkbox\" ><label class=\"sk-toggleable__label\" for=\"6b61fed1-ab0f-4e65-b38c-8ca82e4ff016\">onehotencoder</label><div class=\"sk-toggleable__content\"><pre>['problem', 'preRace']</pre></div></div></div><div class=\"sk-serial\"><div class=\"sk-item\"><div class=\"sk-estimator sk-toggleable\"><input class=\"sk-toggleable__control sk-hidden--visually\" id=\"ecf4e159-30c3-4ad6-ab26-4e9a71ebf153\" type=\"checkbox\" ><label class=\"sk-toggleable__label\" for=\"ecf4e159-30c3-4ad6-ab26-4e9a71ebf153\">OneHotEncoder</label><div class=\"sk-toggleable__content\"><pre>OneHotEncoder(handle_unknown='ignore')</pre></div></div></div></div></div></div><div class=\"sk-parallel-item\"><div class=\"sk-item\"><div class=\"sk-label-container\"><div class=\"sk-label sk-toggleable\"><input class=\"sk-toggleable__control sk-hidden--visually\" id=\"3a0facea-e682-40b8-ae37-570ddd6d2396\" type=\"checkbox\" ><label class=\"sk-toggleable__label\" for=\"3a0facea-e682-40b8-ae37-570ddd6d2396\">remainder</label><div class=\"sk-toggleable__content\"><pre>['vehicleSearch', 'personSearch', 'neighborhood']</pre></div></div></div><div class=\"sk-serial\"><div class=\"sk-item\"><div class=\"sk-estimator sk-toggleable\"><input class=\"sk-toggleable__control sk-hidden--visually\" id=\"38d97b39-ba78-4d8d-b4f8-e658531e4411\" type=\"checkbox\" ><label class=\"sk-toggleable__label\" for=\"38d97b39-ba78-4d8d-b4f8-e658531e4411\">passthrough</label><div class=\"sk-toggleable__content\"><pre>passthrough</pre></div></div></div></div></div></div></div></div><div class=\"sk-item\"><div class=\"sk-estimator sk-toggleable\"><input class=\"sk-toggleable__control sk-hidden--visually\" id=\"928ec86d-3696-4187-85b4-e56686e3a8aa\" type=\"checkbox\" ><label class=\"sk-toggleable__label\" for=\"928ec86d-3696-4187-85b4-e56686e3a8aa\">SMOTE</label><div class=\"sk-toggleable__content\"><pre>SMOTE()</pre></div></div></div><div class=\"sk-item\"><div class=\"sk-estimator sk-toggleable\"><input class=\"sk-toggleable__control sk-hidden--visually\" id=\"ce78cfda-43ba-4e85-ad5c-cdc2413063e4\" type=\"checkbox\" ><label class=\"sk-toggleable__label\" for=\"ce78cfda-43ba-4e85-ad5c-cdc2413063e4\">RandomUnderSampler</label><div class=\"sk-toggleable__content\"><pre>RandomUnderSampler()</pre></div></div></div><div class=\"sk-item\"><div class=\"sk-estimator sk-toggleable\"><input class=\"sk-toggleable__control sk-hidden--visually\" id=\"eccd51e6-f619-4bcf-a425-78ce6e723b12\" type=\"checkbox\" ><label class=\"sk-toggleable__label\" for=\"eccd51e6-f619-4bcf-a425-78ce6e723b12\">SGDClassifier</label><div class=\"sk-toggleable__content\"><pre>SGDClassifier(penalty='none')</pre></div></div></div></div></div></div></div></div></div></div></div></div>"
            ],
            "text/plain": [
              "GridSearchCV(cv=StratifiedKFold(n_splits=3, random_state=None, shuffle=False),\n",
              "             estimator=Pipeline(steps=[('preprocessor',\n",
              "                                        ColumnTransformer(remainder='passthrough',\n",
              "                                                          transformers=[('knnimputer',\n",
              "                                                                         KNNImputer(),\n",
              "                                                                         ['policePrecinct',\n",
              "                                                                          'gender']),\n",
              "                                                                        ('standardscaler',\n",
              "                                                                         StandardScaler(),\n",
              "                                                                         ['long',\n",
              "                                                                          'lat']),\n",
              "                                                                        ('onehotencoder',\n",
              "                                                                         OneHotEncoder(handle_unknown='ignore'),\n",
              "                                                                         ['problem',\n",
              "                                                                          'preRace'])])),\n",
              "                                       ('over_sampler', SMOTE()),\n",
              "                                       ('random_under_sampler',\n",
              "                                        RandomUnderSampler()),\n",
              "                                       ('classification',\n",
              "                                        SGDClassifier(penalty='none'))]),\n",
              "             n_jobs=-1,\n",
              "             param_grid={'classification__alpha': [0.0001, 0.001, 0.01, 0.1],\n",
              "                         'classification__loss': ['hinge', 'log',\n",
              "                                                  'squared_hinge',\n",
              "                                                  'modified_huber'],\n",
              "                         'classification__penalty': ['l2', 'l1', 'none']},\n",
              "             verbose=1)"
            ]
          },
          "metadata": {}
        }
      ],
      "source": [
        "gs_model = gs(estimator=model, param_grid=grid , cv=StratifiedKFold(n_splits=3), n_jobs=-1, verbose=1, refit=True)\n",
        "display(gs_model)"
      ]
    },
    {
      "cell_type": "code",
      "source": [
        "model.get_params().keys()"
      ],
      "metadata": {
        "colab": {
          "base_uri": "https://localhost:8080/"
        },
        "id": "qbHMdUUMPGvz",
        "outputId": "ac504c66-2760-4d80-ffc5-a7fae6e876c8"
      },
      "id": "qbHMdUUMPGvz",
      "execution_count": null,
      "outputs": [
        {
          "output_type": "execute_result",
          "data": {
            "text/plain": [
              "dict_keys(['memory', 'steps', 'verbose', 'preprocessor', 'over_sampler', 'random_under_sampler', 'classification', 'preprocessor__n_jobs', 'preprocessor__remainder', 'preprocessor__sparse_threshold', 'preprocessor__transformer_weights', 'preprocessor__transformers', 'preprocessor__verbose', 'preprocessor__verbose_feature_names_out', 'preprocessor__knnimputer', 'preprocessor__standardscaler', 'preprocessor__onehotencoder', 'preprocessor__knnimputer__add_indicator', 'preprocessor__knnimputer__copy', 'preprocessor__knnimputer__metric', 'preprocessor__knnimputer__missing_values', 'preprocessor__knnimputer__n_neighbors', 'preprocessor__knnimputer__weights', 'preprocessor__standardscaler__copy', 'preprocessor__standardscaler__with_mean', 'preprocessor__standardscaler__with_std', 'preprocessor__onehotencoder__categories', 'preprocessor__onehotencoder__drop', 'preprocessor__onehotencoder__dtype', 'preprocessor__onehotencoder__handle_unknown', 'preprocessor__onehotencoder__sparse', 'over_sampler__k_neighbors', 'over_sampler__n_jobs', 'over_sampler__random_state', 'over_sampler__sampling_strategy', 'random_under_sampler__random_state', 'random_under_sampler__replacement', 'random_under_sampler__sampling_strategy', 'classification__alpha', 'classification__average', 'classification__class_weight', 'classification__early_stopping', 'classification__epsilon', 'classification__eta0', 'classification__fit_intercept', 'classification__l1_ratio', 'classification__learning_rate', 'classification__loss', 'classification__max_iter', 'classification__n_iter_no_change', 'classification__n_jobs', 'classification__penalty', 'classification__power_t', 'classification__random_state', 'classification__shuffle', 'classification__tol', 'classification__validation_fraction', 'classification__verbose', 'classification__warm_start'])"
            ]
          },
          "metadata": {},
          "execution_count": 30
        }
      ]
    },
    {
      "cell_type": "code",
      "execution_count": null,
      "id": "17eee21e",
      "metadata": {
        "colab": {
          "base_uri": "https://localhost:8080/",
          "height": 280
        },
        "id": "17eee21e",
        "outputId": "b5ecad2e-2a5b-4cd5-96ad-5145a3a92565"
      },
      "outputs": [
        {
          "output_type": "stream",
          "name": "stdout",
          "text": [
            "Fitting 3 folds for each of 48 candidates, totalling 144 fits\n"
          ]
        },
        {
          "output_type": "execute_result",
          "data": {
            "text/html": [
              "<style>#sk-8ee09135-3f44-442b-a1df-5dacf6312d41 {color: black;background-color: white;}#sk-8ee09135-3f44-442b-a1df-5dacf6312d41 pre{padding: 0;}#sk-8ee09135-3f44-442b-a1df-5dacf6312d41 div.sk-toggleable {background-color: white;}#sk-8ee09135-3f44-442b-a1df-5dacf6312d41 label.sk-toggleable__label {cursor: pointer;display: block;width: 100%;margin-bottom: 0;padding: 0.3em;box-sizing: border-box;text-align: center;}#sk-8ee09135-3f44-442b-a1df-5dacf6312d41 div.sk-toggleable__content {max-height: 0;max-width: 0;overflow: hidden;text-align: left;background-color: #f0f8ff;}#sk-8ee09135-3f44-442b-a1df-5dacf6312d41 div.sk-toggleable__content pre {margin: 0.2em;color: black;border-radius: 0.25em;background-color: #f0f8ff;}#sk-8ee09135-3f44-442b-a1df-5dacf6312d41 input.sk-toggleable__control:checked~div.sk-toggleable__content {max-height: 200px;max-width: 100%;overflow: auto;}#sk-8ee09135-3f44-442b-a1df-5dacf6312d41 div.sk-estimator input.sk-toggleable__control:checked~label.sk-toggleable__label {background-color: #d4ebff;}#sk-8ee09135-3f44-442b-a1df-5dacf6312d41 div.sk-label input.sk-toggleable__control:checked~label.sk-toggleable__label {background-color: #d4ebff;}#sk-8ee09135-3f44-442b-a1df-5dacf6312d41 input.sk-hidden--visually {border: 0;clip: rect(1px 1px 1px 1px);clip: rect(1px, 1px, 1px, 1px);height: 1px;margin: -1px;overflow: hidden;padding: 0;position: absolute;width: 1px;}#sk-8ee09135-3f44-442b-a1df-5dacf6312d41 div.sk-estimator {font-family: monospace;background-color: #f0f8ff;border: 1px dotted black;border-radius: 0.25em;box-sizing: border-box;margin-bottom: 0.5em;}#sk-8ee09135-3f44-442b-a1df-5dacf6312d41 div.sk-estimator:hover {background-color: #d4ebff;}#sk-8ee09135-3f44-442b-a1df-5dacf6312d41 div.sk-parallel-item::after {content: \"\";width: 100%;border-bottom: 1px solid gray;flex-grow: 1;}#sk-8ee09135-3f44-442b-a1df-5dacf6312d41 div.sk-label:hover label.sk-toggleable__label {background-color: #d4ebff;}#sk-8ee09135-3f44-442b-a1df-5dacf6312d41 div.sk-serial::before {content: \"\";position: absolute;border-left: 1px solid gray;box-sizing: border-box;top: 2em;bottom: 0;left: 50%;}#sk-8ee09135-3f44-442b-a1df-5dacf6312d41 div.sk-serial {display: flex;flex-direction: column;align-items: center;background-color: white;padding-right: 0.2em;padding-left: 0.2em;}#sk-8ee09135-3f44-442b-a1df-5dacf6312d41 div.sk-item {z-index: 1;}#sk-8ee09135-3f44-442b-a1df-5dacf6312d41 div.sk-parallel {display: flex;align-items: stretch;justify-content: center;background-color: white;}#sk-8ee09135-3f44-442b-a1df-5dacf6312d41 div.sk-parallel::before {content: \"\";position: absolute;border-left: 1px solid gray;box-sizing: border-box;top: 2em;bottom: 0;left: 50%;}#sk-8ee09135-3f44-442b-a1df-5dacf6312d41 div.sk-parallel-item {display: flex;flex-direction: column;position: relative;background-color: white;}#sk-8ee09135-3f44-442b-a1df-5dacf6312d41 div.sk-parallel-item:first-child::after {align-self: flex-end;width: 50%;}#sk-8ee09135-3f44-442b-a1df-5dacf6312d41 div.sk-parallel-item:last-child::after {align-self: flex-start;width: 50%;}#sk-8ee09135-3f44-442b-a1df-5dacf6312d41 div.sk-parallel-item:only-child::after {width: 0;}#sk-8ee09135-3f44-442b-a1df-5dacf6312d41 div.sk-dashed-wrapped {border: 1px dashed gray;margin: 0 0.4em 0.5em 0.4em;box-sizing: border-box;padding-bottom: 0.4em;background-color: white;position: relative;}#sk-8ee09135-3f44-442b-a1df-5dacf6312d41 div.sk-label label {font-family: monospace;font-weight: bold;background-color: white;display: inline-block;line-height: 1.2em;}#sk-8ee09135-3f44-442b-a1df-5dacf6312d41 div.sk-label-container {position: relative;z-index: 2;text-align: center;}#sk-8ee09135-3f44-442b-a1df-5dacf6312d41 div.sk-container {display: inline-block;position: relative;}</style><div id=\"sk-8ee09135-3f44-442b-a1df-5dacf6312d41\" class\"sk-top-container\"><div class=\"sk-container\"><div class=\"sk-item sk-dashed-wrapped\"><div class=\"sk-label-container\"><div class=\"sk-label sk-toggleable\"><input class=\"sk-toggleable__control sk-hidden--visually\" id=\"bd2a5b39-6c49-4dac-8a1c-5036eb900b7d\" type=\"checkbox\" ><label class=\"sk-toggleable__label\" for=\"bd2a5b39-6c49-4dac-8a1c-5036eb900b7d\">GridSearchCV</label><div class=\"sk-toggleable__content\"><pre>GridSearchCV(cv=StratifiedKFold(n_splits=3, random_state=None, shuffle=False),\n",
              "             estimator=Pipeline(steps=[('preprocessor',\n",
              "                                        ColumnTransformer(remainder='passthrough',\n",
              "                                                          transformers=[('knnimputer',\n",
              "                                                                         KNNImputer(),\n",
              "                                                                         ['policePrecinct',\n",
              "                                                                          'gender']),\n",
              "                                                                        ('standardscaler',\n",
              "                                                                         StandardScaler(),\n",
              "                                                                         ['long',\n",
              "                                                                          'lat']),\n",
              "                                                                        ('onehotencoder',\n",
              "                                                                         OneHotEncoder(handle_unknown='ignore'),\n",
              "                                                                         ['problem',\n",
              "                                                                          'preRace'])])),\n",
              "                                       ('over_sampler', SMOTE()),\n",
              "                                       ('random_under_sampler',\n",
              "                                        RandomUnderSampler()),\n",
              "                                       ('classification',\n",
              "                                        SGDClassifier(penalty='none'))]),\n",
              "             n_jobs=-1,\n",
              "             param_grid={'classification__alpha': [0.0001, 0.001, 0.01, 0.1],\n",
              "                         'classification__loss': ['hinge', 'log',\n",
              "                                                  'squared_hinge',\n",
              "                                                  'modified_huber'],\n",
              "                         'classification__penalty': ['l2', 'l1', 'none']},\n",
              "             verbose=1)</pre></div></div></div><div class=\"sk-parallel\"><div class=\"sk-parallel-item\"><div class=\"sk-item\"><div class=\"sk-serial\"><div class=\"sk-item\"><div class=\"sk-serial\"><div class=\"sk-item sk-dashed-wrapped\"><div class=\"sk-label-container\"><div class=\"sk-label sk-toggleable\"><input class=\"sk-toggleable__control sk-hidden--visually\" id=\"a7292a83-fa33-4e2c-9665-597f82ec6e90\" type=\"checkbox\" ><label class=\"sk-toggleable__label\" for=\"a7292a83-fa33-4e2c-9665-597f82ec6e90\">preprocessor: ColumnTransformer</label><div class=\"sk-toggleable__content\"><pre>ColumnTransformer(remainder='passthrough',\n",
              "                  transformers=[('knnimputer', KNNImputer(),\n",
              "                                 ['policePrecinct', 'gender']),\n",
              "                                ('standardscaler', StandardScaler(),\n",
              "                                 ['long', 'lat']),\n",
              "                                ('onehotencoder',\n",
              "                                 OneHotEncoder(handle_unknown='ignore'),\n",
              "                                 ['problem', 'preRace'])])</pre></div></div></div><div class=\"sk-parallel\"><div class=\"sk-parallel-item\"><div class=\"sk-item\"><div class=\"sk-label-container\"><div class=\"sk-label sk-toggleable\"><input class=\"sk-toggleable__control sk-hidden--visually\" id=\"1ae02a57-a70d-4926-bb9e-4e54c3a31db5\" type=\"checkbox\" ><label class=\"sk-toggleable__label\" for=\"1ae02a57-a70d-4926-bb9e-4e54c3a31db5\">knnimputer</label><div class=\"sk-toggleable__content\"><pre>['policePrecinct', 'gender']</pre></div></div></div><div class=\"sk-serial\"><div class=\"sk-item\"><div class=\"sk-estimator sk-toggleable\"><input class=\"sk-toggleable__control sk-hidden--visually\" id=\"56bc4c35-6eb6-4eb3-ab01-18ba4e361771\" type=\"checkbox\" ><label class=\"sk-toggleable__label\" for=\"56bc4c35-6eb6-4eb3-ab01-18ba4e361771\">KNNImputer</label><div class=\"sk-toggleable__content\"><pre>KNNImputer()</pre></div></div></div></div></div></div><div class=\"sk-parallel-item\"><div class=\"sk-item\"><div class=\"sk-label-container\"><div class=\"sk-label sk-toggleable\"><input class=\"sk-toggleable__control sk-hidden--visually\" id=\"408440ce-20b2-4992-907f-425bc9195717\" type=\"checkbox\" ><label class=\"sk-toggleable__label\" for=\"408440ce-20b2-4992-907f-425bc9195717\">standardscaler</label><div class=\"sk-toggleable__content\"><pre>['long', 'lat']</pre></div></div></div><div class=\"sk-serial\"><div class=\"sk-item\"><div class=\"sk-estimator sk-toggleable\"><input class=\"sk-toggleable__control sk-hidden--visually\" id=\"58bd5e2b-9755-4bf3-965a-01b233b2f069\" type=\"checkbox\" ><label class=\"sk-toggleable__label\" for=\"58bd5e2b-9755-4bf3-965a-01b233b2f069\">StandardScaler</label><div class=\"sk-toggleable__content\"><pre>StandardScaler()</pre></div></div></div></div></div></div><div class=\"sk-parallel-item\"><div class=\"sk-item\"><div class=\"sk-label-container\"><div class=\"sk-label sk-toggleable\"><input class=\"sk-toggleable__control sk-hidden--visually\" id=\"f7827734-bb74-431a-870f-baa92eca15b7\" type=\"checkbox\" ><label class=\"sk-toggleable__label\" for=\"f7827734-bb74-431a-870f-baa92eca15b7\">onehotencoder</label><div class=\"sk-toggleable__content\"><pre>['problem', 'preRace']</pre></div></div></div><div class=\"sk-serial\"><div class=\"sk-item\"><div class=\"sk-estimator sk-toggleable\"><input class=\"sk-toggleable__control sk-hidden--visually\" id=\"30047ee5-14b7-46b6-8774-44583a29fdcc\" type=\"checkbox\" ><label class=\"sk-toggleable__label\" for=\"30047ee5-14b7-46b6-8774-44583a29fdcc\">OneHotEncoder</label><div class=\"sk-toggleable__content\"><pre>OneHotEncoder(handle_unknown='ignore')</pre></div></div></div></div></div></div><div class=\"sk-parallel-item\"><div class=\"sk-item\"><div class=\"sk-label-container\"><div class=\"sk-label sk-toggleable\"><input class=\"sk-toggleable__control sk-hidden--visually\" id=\"74f34225-4a75-411a-b744-583668346785\" type=\"checkbox\" ><label class=\"sk-toggleable__label\" for=\"74f34225-4a75-411a-b744-583668346785\">remainder</label><div class=\"sk-toggleable__content\"><pre>['vehicleSearch', 'personSearch', 'neighborhood']</pre></div></div></div><div class=\"sk-serial\"><div class=\"sk-item\"><div class=\"sk-estimator sk-toggleable\"><input class=\"sk-toggleable__control sk-hidden--visually\" id=\"439c8260-b9c0-40a1-a5ab-26a894c8d98d\" type=\"checkbox\" ><label class=\"sk-toggleable__label\" for=\"439c8260-b9c0-40a1-a5ab-26a894c8d98d\">passthrough</label><div class=\"sk-toggleable__content\"><pre>passthrough</pre></div></div></div></div></div></div></div></div><div class=\"sk-item\"><div class=\"sk-estimator sk-toggleable\"><input class=\"sk-toggleable__control sk-hidden--visually\" id=\"5fc733ae-eaac-484b-ba32-0e1283a6ea8e\" type=\"checkbox\" ><label class=\"sk-toggleable__label\" for=\"5fc733ae-eaac-484b-ba32-0e1283a6ea8e\">SMOTE</label><div class=\"sk-toggleable__content\"><pre>SMOTE()</pre></div></div></div><div class=\"sk-item\"><div class=\"sk-estimator sk-toggleable\"><input class=\"sk-toggleable__control sk-hidden--visually\" id=\"54a286a1-8ca6-4d54-9a7a-a5c76edc25c9\" type=\"checkbox\" ><label class=\"sk-toggleable__label\" for=\"54a286a1-8ca6-4d54-9a7a-a5c76edc25c9\">RandomUnderSampler</label><div class=\"sk-toggleable__content\"><pre>RandomUnderSampler()</pre></div></div></div><div class=\"sk-item\"><div class=\"sk-estimator sk-toggleable\"><input class=\"sk-toggleable__control sk-hidden--visually\" id=\"ab639cab-8ceb-4d01-9360-0b7ae25231bf\" type=\"checkbox\" ><label class=\"sk-toggleable__label\" for=\"ab639cab-8ceb-4d01-9360-0b7ae25231bf\">SGDClassifier</label><div class=\"sk-toggleable__content\"><pre>SGDClassifier(penalty='none')</pre></div></div></div></div></div></div></div></div></div></div></div></div>"
            ],
            "text/plain": [
              "GridSearchCV(cv=StratifiedKFold(n_splits=3, random_state=None, shuffle=False),\n",
              "             estimator=Pipeline(steps=[('preprocessor',\n",
              "                                        ColumnTransformer(remainder='passthrough',\n",
              "                                                          transformers=[('knnimputer',\n",
              "                                                                         KNNImputer(),\n",
              "                                                                         ['policePrecinct',\n",
              "                                                                          'gender']),\n",
              "                                                                        ('standardscaler',\n",
              "                                                                         StandardScaler(),\n",
              "                                                                         ['long',\n",
              "                                                                          'lat']),\n",
              "                                                                        ('onehotencoder',\n",
              "                                                                         OneHotEncoder(handle_unknown='ignore'),\n",
              "                                                                         ['problem',\n",
              "                                                                          'preRace'])])),\n",
              "                                       ('over_sampler', SMOTE()),\n",
              "                                       ('random_under_sampler',\n",
              "                                        RandomUnderSampler()),\n",
              "                                       ('classification',\n",
              "                                        SGDClassifier(penalty='none'))]),\n",
              "             n_jobs=-1,\n",
              "             param_grid={'classification__alpha': [0.0001, 0.001, 0.01, 0.1],\n",
              "                         'classification__loss': ['hinge', 'log',\n",
              "                                                  'squared_hinge',\n",
              "                                                  'modified_huber'],\n",
              "                         'classification__penalty': ['l2', 'l1', 'none']},\n",
              "             verbose=1)"
            ]
          },
          "metadata": {},
          "execution_count": 31
        }
      ],
      "source": [
        "gs_model.fit(X_train, y_train)"
      ]
    },
    {
      "cell_type": "code",
      "execution_count": null,
      "id": "f88849ab",
      "metadata": {
        "colab": {
          "base_uri": "https://localhost:8080/"
        },
        "id": "f88849ab",
        "outputId": "7fa5587f-a33a-4324-f987-62e2a8a2232e"
      },
      "outputs": [
        {
          "output_type": "stream",
          "name": "stdout",
          "text": [
            "{'classification__alpha': 0.1, 'classification__loss': 'hinge', 'classification__penalty': 'l1'}\n",
            "0.8054064738983108\n",
            "Pipeline(steps=[('preprocessor',\n",
            "                 ColumnTransformer(remainder='passthrough',\n",
            "                                   transformers=[('knnimputer', KNNImputer(),\n",
            "                                                  ['policePrecinct', 'gender']),\n",
            "                                                 ('standardscaler',\n",
            "                                                  StandardScaler(),\n",
            "                                                  ['long', 'lat']),\n",
            "                                                 ('onehotencoder',\n",
            "                                                  OneHotEncoder(handle_unknown='ignore'),\n",
            "                                                  ['problem', 'preRace'])])),\n",
            "                ('over_sampler', SMOTE()),\n",
            "                ('random_under_sampler', RandomUnderSampler()),\n",
            "                ('classification', SGDClassifier(alpha=0.1, penalty='l1'))])\n"
          ]
        }
      ],
      "source": [
        "print(gs_model.best_params_)\n",
        "print(gs_model.best_score_)\n",
        "print(gs_model.best_estimator_)"
      ]
    },
    {
      "cell_type": "code",
      "execution_count": null,
      "id": "5c933a6f",
      "metadata": {
        "colab": {
          "base_uri": "https://localhost:8080/"
        },
        "id": "5c933a6f",
        "outputId": "6d0f1961-964f-4a11-d0f5-9da73c455164"
      },
      "outputs": [
        {
          "output_type": "stream",
          "name": "stdout",
          "text": [
            "The score is #0.807261078483716\n",
            "The accuracy for mode model is: 0.807261078483716\n",
            "The f1 score for the model model is: 0.8753022452504317\n"
          ]
        }
      ],
      "source": [
        "y_valid_pred = gs_model.predict(X_valid)\n",
        "\n",
        "\n",
        "print(f'The score is #{gs_model.score(X_valid, y_valid)}')\n",
        "print('The accuracy for mode model is:', accuracy_score(y_valid, y_valid_pred))\n",
        "print('The f1 score for the model model is:',f1_score(y_valid, y_valid_pred, pos_label='Non-white'))"
      ]
    },
    {
      "cell_type": "markdown",
      "id": "ed9a185a",
      "metadata": {
        "id": "ed9a185a"
      },
      "source": [
        "### Cross-validation"
      ]
    },
    {
      "cell_type": "code",
      "execution_count": null,
      "id": "cad34d4e",
      "metadata": {
        "colab": {
          "base_uri": "https://localhost:8080/"
        },
        "id": "cad34d4e",
        "outputId": "2f30afc4-2711-49be-93a2-c9033b103b60"
      },
      "outputs": [
        {
          "output_type": "execute_result",
          "data": {
            "text/plain": [
              "array([0.63445375, 0.63678325, 0.63313868, 0.63416154, 0.6231767 ])"
            ]
          },
          "metadata": {},
          "execution_count": 35
        }
      ],
      "source": [
        "#Cross validation on the model with the best parameters\n",
        "\n",
        "sgd = SGDClassifier(alpha=0.1, penalty='l1')\n",
        "over = SMOTE()\n",
        "under = RandomUnderSampler()\n",
        "\n",
        "tuned_model = Pipeline([\n",
        "              ('preprocessor', preprocessor),\n",
        "              ('over_sampler', over),\n",
        "              ('random_under_sampler', under),\n",
        "              ('classification', sgd)\n",
        "    ])\n",
        "\n",
        "scores = cross_val_score(tuned_model, X_train, y_train, cv=StratifiedKFold(n_splits=5), scoring=gm_scorer)\n",
        "scores"
      ]
    },
    {
      "cell_type": "markdown",
      "id": "e04c9d16",
      "metadata": {
        "id": "e04c9d16"
      },
      "source": [
        "### DummyClassifierComparison"
      ]
    },
    {
      "cell_type": "code",
      "execution_count": null,
      "id": "f4439c07",
      "metadata": {
        "id": "f4439c07"
      },
      "outputs": [],
      "source": [
        "dummy1 = DummyClassifier(strategy=\"most_frequent\")\n",
        "dummy2 = DummyClassifier(strategy=\"stratified\")"
      ]
    },
    {
      "cell_type": "code",
      "execution_count": null,
      "id": "bf0927f3",
      "metadata": {
        "colab": {
          "base_uri": "https://localhost:8080/"
        },
        "id": "bf0927f3",
        "outputId": "e627406a-4505-450a-f11a-6199918df866"
      },
      "outputs": [
        {
          "output_type": "execute_result",
          "data": {
            "text/plain": [
              "0.6875773834089971"
            ]
          },
          "metadata": {},
          "execution_count": 37
        }
      ],
      "source": [
        "dummy1.fit(X_train, y_train)\n",
        "dummy1.score(X_train, y_train)"
      ]
    },
    {
      "cell_type": "code",
      "execution_count": null,
      "id": "958ce997",
      "metadata": {
        "colab": {
          "base_uri": "https://localhost:8080/"
        },
        "id": "958ce997",
        "outputId": "e342418c-4c7d-4cbe-cdc1-a23f24e12717"
      },
      "outputs": [
        {
          "output_type": "execute_result",
          "data": {
            "text/plain": [
              "0.5662026788729224"
            ]
          },
          "metadata": {},
          "execution_count": 38
        }
      ],
      "source": [
        "dummy2.fit(X_train, y_train)\n",
        "dummy2.score(X_train, y_train)"
      ]
    },
    {
      "cell_type": "markdown",
      "source": [
        "### Result on test data"
      ],
      "metadata": {
        "id": "lgxxznAoGeE8"
      },
      "id": "lgxxznAoGeE8"
    },
    {
      "cell_type": "code",
      "source": [
        "tuned_model.fit(X_train, y_train)\n",
        "\n",
        "fig, ax = plt.subplots(figsize=(10, 10))\n",
        "plot_confusion_matrix(tuned_model, X_test, y_test, ax=ax);\n",
        "\n",
        "y_valid_pred = tuned_model.predict(X_test)\n",
        "print(classification_report(y_test, y_valid_pred))\n",
        "print(tuned_model.score(X_train, y_train))"
      ],
      "metadata": {
        "colab": {
          "base_uri": "https://localhost:8080/",
          "height": 802
        },
        "id": "w_lE7LGKHEfa",
        "outputId": "107e8c97-89a7-4a06-a693-372b878af89f"
      },
      "id": "w_lE7LGKHEfa",
      "execution_count": null,
      "outputs": [
        {
          "output_type": "stream",
          "name": "stderr",
          "text": [
            "/usr/local/lib/python3.7/dist-packages/sklearn/utils/deprecation.py:87: FutureWarning: Function plot_confusion_matrix is deprecated; Function `plot_confusion_matrix` is deprecated in 1.0 and will be removed in 1.2. Use one of the class methods: ConfusionMatrixDisplay.from_predictions or ConfusionMatrixDisplay.from_estimator.\n",
            "  warnings.warn(msg, category=FutureWarning)\n"
          ]
        },
        {
          "output_type": "stream",
          "name": "stdout",
          "text": [
            "              precision    recall  f1-score   support\n",
            "\n",
            "   Non-white       0.79      0.99      0.88      6457\n",
            "       White       0.93      0.42      0.58      2908\n",
            "\n",
            "    accuracy                           0.81      9365\n",
            "   macro avg       0.86      0.70      0.73      9365\n",
            "weighted avg       0.83      0.81      0.78      9365\n",
            "\n",
            "0.8054065208419315\n"
          ]
        },
        {
          "output_type": "display_data",
          "data": {
            "image/png": "[encoded data removed]",
            "text/plain": [
              "<Figure size 720x720 with 2 Axes>"
            ]
          },
          "metadata": {
            "needs_background": "light"
          }
        }
      ]
    },
    {
      "cell_type": "markdown",
      "id": "5c47d69e",
      "metadata": {
        "id": "5c47d69e"
      },
      "source": [
        "### Learning and validation curves"
      ]
    },
    {
      "cell_type": "code",
      "execution_count": null,
      "id": "878b04eb",
      "metadata": {
        "id": "878b04eb"
      },
      "outputs": [],
      "source": [
        "train_sizes, train_scores, test_scores = learning_curve(estimator=tuned_model, X=X_train, y=y_train, cv=StratifiedKFold(n_splits=3))"
      ]
    },
    {
      "cell_type": "code",
      "execution_count": null,
      "id": "7c72decd",
      "metadata": {
        "colab": {
          "base_uri": "https://localhost:8080/"
        },
        "id": "7c72decd",
        "outputId": "c41386f3-ffe2-4125-8c9a-2098d20d5f9d"
      },
      "outputs": [
        {
          "output_type": "execute_result",
          "data": {
            "text/plain": [
              "array([[0.80550397, 0.80781136, 0.8029041 ],\n",
              "       [0.80550397, 0.80781136, 0.8029041 ],\n",
              "       [0.80550397, 0.80781136, 0.8029041 ],\n",
              "       [0.80550397, 0.80781136, 0.8029041 ],\n",
              "       [0.80550397, 0.80781136, 0.8029041 ]])"
            ]
          },
          "metadata": {},
          "execution_count": 34
        }
      ],
      "source": [
        "test_scores"
      ]
    },
    {
      "cell_type": "code",
      "execution_count": null,
      "id": "23adaf85",
      "metadata": {
        "colab": {
          "base_uri": "https://localhost:8080/"
        },
        "id": "23adaf85",
        "outputId": "3fd8238b-6ab9-4415-a090-7caba328104a"
      },
      "outputs": [
        {
          "output_type": "stream",
          "name": "stdout",
          "text": [
            "[0.80851862 0.80771784 0.80719707 0.80706341 0.8054047 ] [0.00583783 0.00065308 0.00090019 0.00075836 0.001     ] [0.80540647 0.80540647 0.80540647 0.80540647 0.80540647] [0.00200457 0.00200457 0.00200457 0.00200457 0.00200457]\n"
          ]
        }
      ],
      "source": [
        "train_mean = np.mean(train_scores, axis=1) # we want the column mean, so axis=1\n",
        "train_std = np.std(train_scores, axis=1)\n",
        "test_mean = np.mean(test_scores, axis=1)\n",
        "test_std = np.std(test_scores, axis=1)\n",
        "print(train_mean, train_std, test_mean, test_std)"
      ]
    },
    {
      "cell_type": "code",
      "execution_count": null,
      "id": "d6c15932",
      "metadata": {
        "colab": {
          "base_uri": "https://localhost:8080/",
          "height": 265
        },
        "id": "d6c15932",
        "outputId": "c3bdf339-aee9-40b1-f589-38b368d05d7b"
      },
      "outputs": [
        {
          "output_type": "display_data",
          "data": {
            "image/png": "[encoded data removed]",
            "text/plain": [
              "<Figure size 432x288 with 1 Axes>"
            ]
          },
          "metadata": {
            "needs_background": "light"
          }
        }
      ],
      "source": [
        "plt.plot(train_sizes, train_mean, color='blue', marker='o')\n",
        "plt.fill_between(train_sizes, train_mean+train_std, train_mean-train_std, alpha=0.15, color='blue')\n",
        "plt.plot(train_sizes, test_mean, color='green', marker='s')\n",
        "plt.fill_between(train_sizes, test_mean+test_std, test_mean-test_std, alpha=0.15, color='green')\n",
        "plt.grid()\n",
        "plt.show()\n"
      ]
    },
    {
      "cell_type": "code",
      "execution_count": null,
      "id": "d4eb1899",
      "metadata": {
        "id": "d4eb1899"
      },
      "outputs": [],
      "source": [
        "param_range = [0.0001, 0.001, 0.01, 0.1]\n",
        "train_scores, test_scores = validation_curve(estimator=tuned_model, X=X_train, y=y_train, param_name='classification__alpha', param_range=param_range, cv=StratifiedKFold(n_splits=3))"
      ]
    },
    {
      "cell_type": "code",
      "execution_count": null,
      "id": "72f5e81b",
      "metadata": {
        "colab": {
          "base_uri": "https://localhost:8080/"
        },
        "id": "72f5e81b",
        "outputId": "bbb31875-7e84-4677-8baa-d3b2be470e5b"
      },
      "outputs": [
        {
          "output_type": "stream",
          "name": "stdout",
          "text": [
            "[0.79007038 0.72971152 0.75976449 0.80540651] [0.01628991 0.02418976 0.03348384 0.00100227] [0.78856066 0.7295988  0.76010176 0.80540647] [0.01868449 0.02358068 0.03264579 0.00200457]\n"
          ]
        }
      ],
      "source": [
        "train_mean = np.mean(train_scores, axis=1)\n",
        "train_std = np.std(train_scores, axis=1)\n",
        "test_mean = np.mean(test_scores, axis=1)\n",
        "test_std = np.std(test_scores, axis=1)\n",
        "print(train_mean, train_std, test_mean, test_std)"
      ]
    },
    {
      "cell_type": "code",
      "execution_count": null,
      "id": "af1ef713",
      "metadata": {
        "colab": {
          "base_uri": "https://localhost:8080/",
          "height": 269
        },
        "id": "af1ef713",
        "outputId": "4be62e14-bb14-4d0e-8ff1-8755e8819366"
      },
      "outputs": [
        {
          "output_type": "display_data",
          "data": {
            "image/png": "[encoded data removed]",
            "text/plain": [
              "<Figure size 432x288 with 1 Axes>"
            ]
          },
          "metadata": {
            "needs_background": "light"
          }
        }
      ],
      "source": [
        "plt.plot(param_range, train_mean, color='blue', marker='o')\n",
        "plt.fill_between(param_range, train_mean+train_std, train_mean-train_std, alpha=0.15, color='blue')\n",
        "plt.plot(param_range, test_mean, color='green', marker='s')\n",
        "plt.fill_between(param_range, test_mean+test_std, test_mean-test_std, alpha=0.15, color='green')\n",
        "plt.grid()\n",
        "plt.xscale('log')\n",
        "plt.show()\n"
      ]
    },
    {
      "cell_type": "code",
      "execution_count": null,
      "id": "b07b6a48",
      "metadata": {
        "id": "b07b6a48"
      },
      "outputs": [],
      "source": [
        ""
      ]
    }
  ],
  "metadata": {
    "kernelspec": {
      "display_name": "Python 3",
      "language": "python",
      "name": "python3"
    },
    "language_info": {
      "codemirror_mode": {
        "name": "ipython",
        "version": 3
      },
      "file_extension": ".py",
      "mimetype": "text/x-python",
      "name": "python",
      "nbconvert_exporter": "python",
      "pygments_lexer": "ipython3",
      "version": "3.8.8"
    },
    "colab": {
      "name": "SGDClassifier.ipynb",
      "provenance": [],
      "collapsed_sections": [],
      "include_colab_link": true
    }
  },
  "nbformat": 4,
  "nbformat_minor": 5
}